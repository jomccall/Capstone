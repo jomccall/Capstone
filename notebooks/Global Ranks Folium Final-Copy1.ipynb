{
 "cells": [
  {
   "cell_type": "code",
   "execution_count": 1,
   "id": "removed-chinese",
   "metadata": {},
   "outputs": [],
   "source": [
    "import folium\n",
    "import geopandas as gpd\n",
    "import numpy as np\n",
    "import sys\n",
    "sys.path.insert(0, 'folium')\n",
    "sys.path.insert(0, 'branca')\n",
    "\n",
    "import branca\n",
    "#import folium"
   ]
  },
  {
   "cell_type": "code",
   "execution_count": 2,
   "id": "ad3318a6",
   "metadata": {},
   "outputs": [],
   "source": [
    "from branca.element import MacroElement\n",
    "\n",
    "from jinja2 import Template\n",
    "\n",
    "class BindColormap(MacroElement):\n",
    "    \"\"\"Binds a colormap to a given layer.\n",
    "\n",
    "    Parameters\n",
    "    ----------\n",
    "    colormap : branca.colormap.ColorMap\n",
    "        The colormap to bind.\n",
    "    \"\"\"\n",
    "    def __init__(self, layer, colormap):\n",
    "        super(BindColormap, self).__init__()\n",
    "        self.layer = layer\n",
    "        self.colormap = colormap\n",
    "        self._template = Template(u\"\"\"\n",
    "        {% macro script(this, kwargs) %}\n",
    "            {{this.colormap.get_name()}}.svg[0][0].style.display = 'block';\n",
    "            {{this._parent.get_name()}}.on('overlayadd', function (eventLayer) {\n",
    "                if (eventLayer.layer == {{this.layer.get_name()}}) {\n",
    "                    {{this.colormap.get_name()}}.svg[0][0].style.display = 'block';\n",
    "                }});\n",
    "            {{this._parent.get_name()}}.on('overlayremove', function (eventLayer) {\n",
    "                if (eventLayer.layer == {{this.layer.get_name()}}) {\n",
    "                    {{this.colormap.get_name()}}.svg[0][0].style.display = 'none';\n",
    "                }});\n",
    "        {% endmacro %}\n",
    "        \"\"\")  # noqa"
   ]
  },
  {
   "cell_type": "code",
   "execution_count": 3,
   "id": "343f24a0",
   "metadata": {},
   "outputs": [],
   "source": [
    "from branca.element import MacroElement\n",
    "\n",
    "from jinja2 import Template\n",
    "\n",
    "class BindColormap(MacroElement):\n",
    "     \"\"\"Binds a colormap to a given layer.\n",
    "\n",
    "    Parameters\n",
    "    ----------\n",
    "    colormap : branca.colormap.ColorMap\n",
    "        The colormap to bind.\n",
    "    \"\"\""
   ]
  },
  {
   "cell_type": "code",
   "execution_count": 4,
   "id": "supported-satin",
   "metadata": {},
   "outputs": [],
   "source": [
    "ws_geo = gpd.read_file('../data/test/watershedbreakout.shp')"
   ]
  },
  {
   "cell_type": "code",
   "execution_count": 5,
   "id": "raising-difference",
   "metadata": {},
   "outputs": [],
   "source": [
    "ws_geo['global_rare'] = ws_geo['G1'] + ws_geo['G12'] + ws_geo['G2'] + ws_geo['G3']"
   ]
  },
  {
   "cell_type": "code",
   "execution_count": 6,
   "id": "occasional-defendant",
   "metadata": {},
   "outputs": [],
   "source": [
    "ws_geo['global_notrare'] = ws_geo['G34'] + ws_geo['G4'] + ws_geo['G45'] + ws_geo['G5'] "
   ]
  },
  {
   "cell_type": "code",
   "execution_count": 7,
   "id": "634ba6f7",
   "metadata": {},
   "outputs": [],
   "source": [
    "cm1 = branca.colormap.LinearColormap(['y','orange','r'], vmin=-1, vmax=1, caption='cm1')\n",
    "cm2 = branca.colormap.LinearColormap(['b','c','g','y','r'], vmin=-1, vmax=1, caption='cm2')"
   ]
  },
  {
   "cell_type": "code",
   "execution_count": 8,
   "id": "3dca6958",
   "metadata": {},
   "outputs": [
    {
     "ename": "NameError",
     "evalue": "name 'style_function' is not defined",
     "output_type": "error",
     "traceback": [
      "\u001b[1;31m---------------------------------------------------------------------------\u001b[0m",
      "\u001b[1;31mNameError\u001b[0m                                 Traceback (most recent call last)",
      "\u001b[1;32m~\\AppData\\Local\\Temp/ipykernel_18864/1076237761.py\u001b[0m in \u001b[0;36m<module>\u001b[1;34m\u001b[0m\n\u001b[0;32m     31\u001b[0m NIL = folium.features.GeoJson(\n\u001b[0;32m     32\u001b[0m     \u001b[0mdata\u001b[0m \u001b[1;33m=\u001b[0m \u001b[0mws_geo\u001b[0m\u001b[1;33m,\u001b[0m\u001b[1;33m\u001b[0m\u001b[1;33m\u001b[0m\u001b[0m\n\u001b[1;32m---> 33\u001b[1;33m     \u001b[0mstyle_function\u001b[0m\u001b[1;33m=\u001b[0m\u001b[0mstyle_function\u001b[0m\u001b[1;33m,\u001b[0m\u001b[1;33m\u001b[0m\u001b[1;33m\u001b[0m\u001b[0m\n\u001b[0m\u001b[0;32m     34\u001b[0m     \u001b[0mcontrol\u001b[0m\u001b[1;33m=\u001b[0m\u001b[1;32mFalse\u001b[0m\u001b[1;33m,\u001b[0m\u001b[1;33m\u001b[0m\u001b[1;33m\u001b[0m\u001b[0m\n\u001b[0;32m     35\u001b[0m     \u001b[0mhighlight_function\u001b[0m\u001b[1;33m=\u001b[0m\u001b[0mhighlight_function\u001b[0m\u001b[1;33m,\u001b[0m\u001b[1;33m\u001b[0m\u001b[1;33m\u001b[0m\u001b[0m\n",
      "\u001b[1;31mNameError\u001b[0m: name 'style_function' is not defined"
     ]
    }
   ],
   "source": [
    "m1 = folium.Choropleth(\n",
    "    geo_data = ws_geo,\n",
    "    name = 'm1',\n",
    "    data = ws_geo,\n",
    "    columns = ['id','global_rare'],\n",
    "    key_on = 'feature.id',\n",
    "    fill_color = 'GnBu',\n",
    "    fill_opacity = 0.8,\n",
    "    line_opacity = 0.2,\n",
    "    line_color = 'black',\n",
    "    line_weight = 1,\n",
    "    highlight = True,\n",
    "    overlay = True,\n",
    "    show = True,\n",
    "    smooth_factor = 1.0)\n",
    "m2 = folium.Choropleth(\n",
    "    geo_data = ws_geo,\n",
    "    name = 'm2',\n",
    "    data = ws_geo,\n",
    "    columns = ['id','global_rare'],\n",
    "    key_on = 'feature.id',\n",
    "    fill_color = 'GnBu',\n",
    "    fill_opacity = 0.8,\n",
    "    line_opacity = 0.2,\n",
    "    line_color = 'black',\n",
    "    line_weight = 1,\n",
    "    highlight = True,\n",
    "    overlay = True,\n",
    "    show = True,\n",
    "    smooth_factor = 1.0)\n",
    "NIL = folium.features.GeoJson(\n",
    "    data = ws_geo,\n",
    "    style_function=style_function, \n",
    "    control=False,\n",
    "    highlight_function=highlight_function, \n",
    "    tooltip=folium.features.GeoJsonTooltip(\n",
    "        fields=['Watershed', 'G1', 'G2', 'G3', 'G4', 'G5', 'summer'],\n",
    "        aliases=['Watershed', 'G1', 'G2', 'G3', 'G4', 'G5', 'Total Species'],\n",
    "        style=(\"background-color: white; color: #333333; font-family: arial; font-size: 12px; padding: 10px;\")))\n",
    "poly = folium.GeoJson(ws_geo, style_function = lambda x: {\n",
    "        'color': 'black',\n",
    "        'weight': 1,\n",
    "        'fillOpacity': 0\n",
    "    }, name = 'Watersheds')"
   ]
  },
  {
   "cell_type": "code",
   "execution_count": null,
   "id": "recorded-engine",
   "metadata": {},
   "outputs": [],
   "source": [
    "#basemap (used state cap. for the lat/long)\n",
    "g_ranks = folium.Map(location = [35.918295, -85.269854], tiles = 'Stamen Toner', zoom_start = 7, control_scale = True)\n",
    "\n",
    "\n",
    "\n",
    "\n",
    "\n",
    "# Add hover functionality.\n",
    "#style_function = lambda x: {'fillColor': '#ffffff', \n",
    "                           # 'color':'#000000', \n",
    "                           # 'fillOpacity': 0.1, \n",
    "                           # 'weight': 0.1}\n",
    "#highlight_function = lambda x: {'fillColor': '#000000', \n",
    "                            #    'color':'#000000', \n",
    "                             #   'fillOpacity': 0.50, \n",
    "                             #   'weight': 0.1}\n",
    "\n",
    "#g_ranks.add_child(m1).add_child(m2).add_child(NIL).add_child(poly)\n",
    "#g_ranks.add_child(folium.map.LayerControl())\n",
    "#g_ranks.add_child(cm1).add_child(cm2)\n",
    "#g_ranks.add_child(BindColormap(m1, cm1)).add_child(BindColormap(m2, cm2))\n",
    "#g_ranks.keep_in_front(NIL)\n",
    "\n",
    "\n",
    "\n",
    "#show map will this work better?\n",
    "g_ranks"
   ]
  },
  {
   "cell_type": "code",
   "execution_count": 11,
   "id": "lesser-dealer",
   "metadata": {},
   "outputs": [],
   "source": [
    "g_ranks.save('../maps/g_ranksprez.html')"
   ]
  }
 ],
 "metadata": {
  "kernelspec": {
   "display_name": "Python 3 (ipykernel)",
   "language": "python",
   "name": "python3"
  },
  "language_info": {
   "codemirror_mode": {
    "name": "ipython",
    "version": 3
   },
   "file_extension": ".py",
   "mimetype": "text/x-python",
   "name": "python",
   "nbconvert_exporter": "python",
   "pygments_lexer": "ipython3",
   "version": "3.8.5"
  }
 },
 "nbformat": 4,
 "nbformat_minor": 5
}
