{
 "cells": [
  {
   "cell_type": "code",
   "execution_count": 10,
   "id": "equivalent-advertising",
   "metadata": {},
   "outputs": [],
   "source": [
    "import pandas as pd"
   ]
  },
  {
   "cell_type": "code",
   "execution_count": 15,
   "id": "dated-large",
   "metadata": {},
   "outputs": [],
   "source": [
    "G1_TN = pd.read_csv('../data/smallfiles/G1_TN.csv')"
   ]
  },
  {
   "cell_type": "code",
   "execution_count": 16,
   "id": "sublime-tunisia",
   "metadata": {},
   "outputs": [
    {
     "data": {
      "text/html": [
       "<div>\n",
       "<style scoped>\n",
       "    .dataframe tbody tr th:only-of-type {\n",
       "        vertical-align: middle;\n",
       "    }\n",
       "\n",
       "    .dataframe tbody tr th {\n",
       "        vertical-align: top;\n",
       "    }\n",
       "\n",
       "    .dataframe thead th {\n",
       "        text-align: right;\n",
       "    }\n",
       "</style>\n",
       "<table border=\"1\" class=\"dataframe\">\n",
       "  <thead>\n",
       "    <tr style=\"text-align: right;\">\n",
       "      <th></th>\n",
       "      <th>Huc 8</th>\n",
       "      <th>Huc 8 Name</th>\n",
       "      <th>Huc 12</th>\n",
       "      <th>Huc 12 Name</th>\n",
       "      <th>Type</th>\n",
       "      <th>Category</th>\n",
       "      <th>Scientific Name</th>\n",
       "      <th>Common Name</th>\n",
       "      <th>Global Rank</th>\n",
       "      <th>State Rank</th>\n",
       "      <th>Fed Status</th>\n",
       "      <th>State Status</th>\n",
       "      <th>Habitat Description</th>\n",
       "      <th>Wet Habitat Flag</th>\n",
       "    </tr>\n",
       "  </thead>\n",
       "  <tbody>\n",
       "    <tr>\n",
       "      <th>0</th>\n",
       "      <td>5130108</td>\n",
       "      <td>Caney Fork River</td>\n",
       "      <td>51301080205</td>\n",
       "      <td>Cane Creek Lower</td>\n",
       "      <td>Invertebrate Animal</td>\n",
       "      <td>Other Type</td>\n",
       "      <td>Chaetaspis mollis</td>\n",
       "      <td>A Cave Millipede</td>\n",
       "      <td>G1</td>\n",
       "      <td>S1</td>\n",
       "      <td>--</td>\n",
       "      <td>Rare, Not State Listed</td>\n",
       "      <td>Terrestrial cave obligate; central Cumberland ...</td>\n",
       "      <td>Upland</td>\n",
       "    </tr>\n",
       "    <tr>\n",
       "      <th>1</th>\n",
       "      <td>5130108</td>\n",
       "      <td>Caney Fork River</td>\n",
       "      <td>51301080205</td>\n",
       "      <td>Cane Creek Lower</td>\n",
       "      <td>Invertebrate Animal</td>\n",
       "      <td>Other Type</td>\n",
       "      <td>Chaetaspis sp. 1</td>\n",
       "      <td>A Cave Millipede From Thunder Run Cave (TN)</td>\n",
       "      <td>G1</td>\n",
       "      <td>S1</td>\n",
       "      <td>--</td>\n",
       "      <td>Rare, Not State Listed</td>\n",
       "      <td>Terrestrial cave obligate; wet caves of centra...</td>\n",
       "      <td>Upland</td>\n",
       "    </tr>\n",
       "  </tbody>\n",
       "</table>\n",
       "</div>"
      ],
      "text/plain": [
       "     Huc 8        Huc 8 Name       Huc 12       Huc 12 Name  \\\n",
       "0  5130108  Caney Fork River  51301080205  Cane Creek Lower   \n",
       "1  5130108  Caney Fork River  51301080205  Cane Creek Lower   \n",
       "\n",
       "                  Type    Category    Scientific Name  \\\n",
       "0  Invertebrate Animal  Other Type  Chaetaspis mollis   \n",
       "1  Invertebrate Animal  Other Type   Chaetaspis sp. 1   \n",
       "\n",
       "                                   Common Name Global Rank State Rank  \\\n",
       "0                             A Cave Millipede          G1         S1   \n",
       "1  A Cave Millipede From Thunder Run Cave (TN)          G1         S1   \n",
       "\n",
       "  Fed Status            State Status  \\\n",
       "0         --  Rare, Not State Listed   \n",
       "1         --  Rare, Not State Listed   \n",
       "\n",
       "                                 Habitat Description Wet Habitat Flag  \n",
       "0  Terrestrial cave obligate; central Cumberland ...           Upland  \n",
       "1  Terrestrial cave obligate; wet caves of centra...           Upland  "
      ]
     },
     "execution_count": 16,
     "metadata": {},
     "output_type": "execute_result"
    }
   ],
   "source": [
    "G1_TN.head(2)"
   ]
  },
  {
   "cell_type": "code",
   "execution_count": 17,
   "id": "searching-jefferson",
   "metadata": {},
   "outputs": [
    {
     "data": {
      "text/plain": [
       "131"
      ]
     },
     "execution_count": 17,
     "metadata": {},
     "output_type": "execute_result"
    }
   ],
   "source": [
    "G1_TN['Common Name'].nunique()"
   ]
  },
  {
   "cell_type": "code",
   "execution_count": 18,
   "id": "unique-headquarters",
   "metadata": {},
   "outputs": [],
   "source": [
    "S1_TN = pd.read_csv('../data/smallfiles/S1_TN.csv')"
   ]
  },
  {
   "cell_type": "code",
   "execution_count": 19,
   "id": "dental-offer",
   "metadata": {},
   "outputs": [
    {
     "data": {
      "text/html": [
       "<div>\n",
       "<style scoped>\n",
       "    .dataframe tbody tr th:only-of-type {\n",
       "        vertical-align: middle;\n",
       "    }\n",
       "\n",
       "    .dataframe tbody tr th {\n",
       "        vertical-align: top;\n",
       "    }\n",
       "\n",
       "    .dataframe thead th {\n",
       "        text-align: right;\n",
       "    }\n",
       "</style>\n",
       "<table border=\"1\" class=\"dataframe\">\n",
       "  <thead>\n",
       "    <tr style=\"text-align: right;\">\n",
       "      <th></th>\n",
       "      <th>Huc 8</th>\n",
       "      <th>Huc 8 Name</th>\n",
       "      <th>Huc 12</th>\n",
       "      <th>Huc 12 Name</th>\n",
       "      <th>Type</th>\n",
       "      <th>Category</th>\n",
       "      <th>Scientific Name</th>\n",
       "      <th>Common Name</th>\n",
       "      <th>Global Rank</th>\n",
       "      <th>State Rank</th>\n",
       "      <th>Fed Status</th>\n",
       "      <th>State Status</th>\n",
       "      <th>Habitat Description</th>\n",
       "      <th>Wet Habitat Flag</th>\n",
       "    </tr>\n",
       "  </thead>\n",
       "  <tbody>\n",
       "    <tr>\n",
       "      <th>0</th>\n",
       "      <td>3150101</td>\n",
       "      <td>Conasauga River</td>\n",
       "      <td>31501010101</td>\n",
       "      <td>Headwaters Conasuaga River</td>\n",
       "      <td>Invertebrate Animal</td>\n",
       "      <td>Mollusc</td>\n",
       "      <td>Ptychobranchus foremanianus</td>\n",
       "      <td>Rayed Kidneyshell (= Triangular Kidneyshell)</td>\n",
       "      <td>G1</td>\n",
       "      <td>S1</td>\n",
       "      <td>LE</td>\n",
       "      <td>E</td>\n",
       "      <td>Medium sized rivers with good current and coar...</td>\n",
       "      <td>Aquatic</td>\n",
       "    </tr>\n",
       "    <tr>\n",
       "      <th>1</th>\n",
       "      <td>3150101</td>\n",
       "      <td>Conasauga River</td>\n",
       "      <td>31501010102</td>\n",
       "      <td>Jacks River</td>\n",
       "      <td>Vertebrate Animal</td>\n",
       "      <td>Fish</td>\n",
       "      <td>Percina jenkinsi</td>\n",
       "      <td>Conasauga Logperch</td>\n",
       "      <td>G1</td>\n",
       "      <td>S1</td>\n",
       "      <td>LE</td>\n",
       "      <td>E</td>\n",
       "      <td>Deep gravel runs or pools with small stones &amp; ...</td>\n",
       "      <td>Aquatic</td>\n",
       "    </tr>\n",
       "  </tbody>\n",
       "</table>\n",
       "</div>"
      ],
      "text/plain": [
       "     Huc 8       Huc 8 Name       Huc 12                 Huc 12 Name  \\\n",
       "0  3150101  Conasauga River  31501010101  Headwaters Conasuaga River   \n",
       "1  3150101  Conasauga River  31501010102                 Jacks River   \n",
       "\n",
       "                  Type Category              Scientific Name  \\\n",
       "0  Invertebrate Animal  Mollusc  Ptychobranchus foremanianus   \n",
       "1    Vertebrate Animal     Fish             Percina jenkinsi   \n",
       "\n",
       "                                    Common Name Global Rank State Rank  \\\n",
       "0  Rayed Kidneyshell (= Triangular Kidneyshell)          G1         S1   \n",
       "1                            Conasauga Logperch          G1         S1   \n",
       "\n",
       "  Fed Status State Status                                Habitat Description  \\\n",
       "0         LE            E  Medium sized rivers with good current and coar...   \n",
       "1         LE            E  Deep gravel runs or pools with small stones & ...   \n",
       "\n",
       "  Wet Habitat Flag  \n",
       "0          Aquatic  \n",
       "1          Aquatic  "
      ]
     },
     "execution_count": 19,
     "metadata": {},
     "output_type": "execute_result"
    }
   ],
   "source": [
    "S1_TN.head(2)"
   ]
  },
  {
   "cell_type": "code",
   "execution_count": 9,
   "id": "faced-prescription",
   "metadata": {},
   "outputs": [
    {
     "data": {
      "text/plain": [
       "465"
      ]
     },
     "execution_count": 9,
     "metadata": {},
     "output_type": "execute_result"
    }
   ],
   "source": [
    "S1_TN['Common Name'].nunique()"
   ]
  },
  {
   "cell_type": "code",
   "execution_count": 20,
   "id": "homeless-bridal",
   "metadata": {},
   "outputs": [],
   "source": [
    "LE_TN = pd.read_csv('../data/smallfiles/LE_TN.csv')"
   ]
  },
  {
   "cell_type": "code",
   "execution_count": 21,
   "id": "racial-garbage",
   "metadata": {},
   "outputs": [
    {
     "data": {
      "text/html": [
       "<div>\n",
       "<style scoped>\n",
       "    .dataframe tbody tr th:only-of-type {\n",
       "        vertical-align: middle;\n",
       "    }\n",
       "\n",
       "    .dataframe tbody tr th {\n",
       "        vertical-align: top;\n",
       "    }\n",
       "\n",
       "    .dataframe thead th {\n",
       "        text-align: right;\n",
       "    }\n",
       "</style>\n",
       "<table border=\"1\" class=\"dataframe\">\n",
       "  <thead>\n",
       "    <tr style=\"text-align: right;\">\n",
       "      <th></th>\n",
       "      <th>Huc 8</th>\n",
       "      <th>Huc 8 Name</th>\n",
       "      <th>Huc 12</th>\n",
       "      <th>Huc 12 Name</th>\n",
       "      <th>Type</th>\n",
       "      <th>Category</th>\n",
       "      <th>Scientific Name</th>\n",
       "      <th>Common Name</th>\n",
       "      <th>Global Rank</th>\n",
       "      <th>State Rank</th>\n",
       "      <th>Fed Status</th>\n",
       "      <th>State Status</th>\n",
       "      <th>Habitat Description</th>\n",
       "      <th>Wet Habitat Flag</th>\n",
       "    </tr>\n",
       "  </thead>\n",
       "  <tbody>\n",
       "    <tr>\n",
       "      <th>0</th>\n",
       "      <td>3150101</td>\n",
       "      <td>Conasauga River</td>\n",
       "      <td>31501010101</td>\n",
       "      <td>Headwaters Conasuaga River</td>\n",
       "      <td>Invertebrate Animal</td>\n",
       "      <td>Mollusc</td>\n",
       "      <td>Ptychobranchus foremanianus</td>\n",
       "      <td>Rayed Kidneyshell (= Triangular Kidneyshell)</td>\n",
       "      <td>G1</td>\n",
       "      <td>S1</td>\n",
       "      <td>LE</td>\n",
       "      <td>E</td>\n",
       "      <td>Medium sized rivers with good current and coar...</td>\n",
       "      <td>Aquatic</td>\n",
       "    </tr>\n",
       "    <tr>\n",
       "      <th>1</th>\n",
       "      <td>3150101</td>\n",
       "      <td>Conasauga River</td>\n",
       "      <td>31501010102</td>\n",
       "      <td>Jacks River</td>\n",
       "      <td>Vertebrate Animal</td>\n",
       "      <td>Fish</td>\n",
       "      <td>Percina jenkinsi</td>\n",
       "      <td>Conasauga Logperch</td>\n",
       "      <td>G1</td>\n",
       "      <td>S1</td>\n",
       "      <td>LE</td>\n",
       "      <td>E</td>\n",
       "      <td>Deep gravel runs or pools with small stones &amp; ...</td>\n",
       "      <td>Aquatic</td>\n",
       "    </tr>\n",
       "  </tbody>\n",
       "</table>\n",
       "</div>"
      ],
      "text/plain": [
       "     Huc 8       Huc 8 Name       Huc 12                 Huc 12 Name  \\\n",
       "0  3150101  Conasauga River  31501010101  Headwaters Conasuaga River   \n",
       "1  3150101  Conasauga River  31501010102                 Jacks River   \n",
       "\n",
       "                  Type Category              Scientific Name  \\\n",
       "0  Invertebrate Animal  Mollusc  Ptychobranchus foremanianus   \n",
       "1    Vertebrate Animal     Fish             Percina jenkinsi   \n",
       "\n",
       "                                    Common Name Global Rank State Rank  \\\n",
       "0  Rayed Kidneyshell (= Triangular Kidneyshell)          G1         S1   \n",
       "1                            Conasauga Logperch          G1         S1   \n",
       "\n",
       "  Fed Status State Status                                Habitat Description  \\\n",
       "0         LE            E  Medium sized rivers with good current and coar...   \n",
       "1         LE            E  Deep gravel runs or pools with small stones & ...   \n",
       "\n",
       "  Wet Habitat Flag  \n",
       "0          Aquatic  \n",
       "1          Aquatic  "
      ]
     },
     "execution_count": 21,
     "metadata": {},
     "output_type": "execute_result"
    }
   ],
   "source": [
    "LE_TN.head(2)"
   ]
  },
  {
   "cell_type": "code",
   "execution_count": 22,
   "id": "intensive-contribution",
   "metadata": {},
   "outputs": [
    {
     "data": {
      "text/plain": [
       "57"
      ]
     },
     "execution_count": 22,
     "metadata": {},
     "output_type": "execute_result"
    }
   ],
   "source": [
    "LE_TN['Common Name'].nunique()"
   ]
  },
  {
   "cell_type": "code",
   "execution_count": 23,
   "id": "wound-checklist",
   "metadata": {},
   "outputs": [],
   "source": [
    "G1_Caney = pd.read_csv('../data/smallfiles/GI_Caney.csv')"
   ]
  },
  {
   "cell_type": "code",
   "execution_count": 24,
   "id": "romance-speaker",
   "metadata": {},
   "outputs": [
    {
     "data": {
      "text/html": [
       "<div>\n",
       "<style scoped>\n",
       "    .dataframe tbody tr th:only-of-type {\n",
       "        vertical-align: middle;\n",
       "    }\n",
       "\n",
       "    .dataframe tbody tr th {\n",
       "        vertical-align: top;\n",
       "    }\n",
       "\n",
       "    .dataframe thead th {\n",
       "        text-align: right;\n",
       "    }\n",
       "</style>\n",
       "<table border=\"1\" class=\"dataframe\">\n",
       "  <thead>\n",
       "    <tr style=\"text-align: right;\">\n",
       "      <th></th>\n",
       "      <th>Unnamed: 0</th>\n",
       "      <th>Huc_8</th>\n",
       "      <th>Watershed</th>\n",
       "      <th>Huc_12</th>\n",
       "      <th>Huc_12Name</th>\n",
       "      <th>Type</th>\n",
       "      <th>Category</th>\n",
       "      <th>Scientific_Name</th>\n",
       "      <th>Common_Name</th>\n",
       "      <th>Global_Rank</th>\n",
       "      <th>State_Rank</th>\n",
       "      <th>Fed_Status</th>\n",
       "      <th>State_Status</th>\n",
       "      <th>Habitat</th>\n",
       "      <th>Wet_Habitat_Flag</th>\n",
       "    </tr>\n",
       "  </thead>\n",
       "  <tbody>\n",
       "    <tr>\n",
       "      <th>0</th>\n",
       "      <td>1105</td>\n",
       "      <td>5130108</td>\n",
       "      <td>Caney Fork River</td>\n",
       "      <td>51301080204</td>\n",
       "      <td>Dry Fork</td>\n",
       "      <td>Invertebrate Animal</td>\n",
       "      <td>Insect</td>\n",
       "      <td>Pseudanophthalmus sp. 27</td>\n",
       "      <td>Rumbling Falls Cave Beetle</td>\n",
       "      <td>G1</td>\n",
       "      <td>S1</td>\n",
       "      <td>--</td>\n",
       "      <td>Rare, Not State Listed</td>\n",
       "      <td>Terrestrial cave obligate; middle Cumberlands;...</td>\n",
       "      <td>Upland</td>\n",
       "    </tr>\n",
       "    <tr>\n",
       "      <th>1</th>\n",
       "      <td>1113</td>\n",
       "      <td>5130108</td>\n",
       "      <td>Caney Fork River</td>\n",
       "      <td>51301080205</td>\n",
       "      <td>Cane Creek Lower</td>\n",
       "      <td>Invertebrate Animal</td>\n",
       "      <td>Insect</td>\n",
       "      <td>Arrhopalites sp. 4</td>\n",
       "      <td>A Cave Springtail (species 1)</td>\n",
       "      <td>G1</td>\n",
       "      <td>S1</td>\n",
       "      <td>--</td>\n",
       "      <td>Rare, Not State Listed</td>\n",
       "      <td>Terrestrial cave obligate; middle Cumberlands.</td>\n",
       "      <td>Upland</td>\n",
       "    </tr>\n",
       "  </tbody>\n",
       "</table>\n",
       "</div>"
      ],
      "text/plain": [
       "   Unnamed: 0    Huc_8         Watershed       Huc_12        Huc_12Name  \\\n",
       "0        1105  5130108  Caney Fork River  51301080204          Dry Fork   \n",
       "1        1113  5130108  Caney Fork River  51301080205  Cane Creek Lower   \n",
       "\n",
       "                  Type Category           Scientific_Name  \\\n",
       "0  Invertebrate Animal   Insect  Pseudanophthalmus sp. 27   \n",
       "1  Invertebrate Animal   Insect        Arrhopalites sp. 4   \n",
       "\n",
       "                     Common_Name Global_Rank State_Rank Fed_Status  \\\n",
       "0     Rumbling Falls Cave Beetle          G1         S1         --   \n",
       "1  A Cave Springtail (species 1)          G1         S1         --   \n",
       "\n",
       "             State_Status                                            Habitat  \\\n",
       "0  Rare, Not State Listed  Terrestrial cave obligate; middle Cumberlands;...   \n",
       "1  Rare, Not State Listed     Terrestrial cave obligate; middle Cumberlands.   \n",
       "\n",
       "  Wet_Habitat_Flag  \n",
       "0           Upland  \n",
       "1           Upland  "
      ]
     },
     "execution_count": 24,
     "metadata": {},
     "output_type": "execute_result"
    }
   ],
   "source": [
    "G1_Caney.head(2)"
   ]
  },
  {
   "cell_type": "code",
   "execution_count": 25,
   "id": "indonesian-effect",
   "metadata": {},
   "outputs": [
    {
     "data": {
      "text/plain": [
       "29"
      ]
     },
     "execution_count": 25,
     "metadata": {},
     "output_type": "execute_result"
    }
   ],
   "source": [
    "G1_Caney['Common_Name'].nunique()"
   ]
  },
  {
   "cell_type": "code",
   "execution_count": 26,
   "id": "caring-acting",
   "metadata": {},
   "outputs": [],
   "source": [
    "S1_Caney = pd.read_csv('../data/smallfiles/S1_Caney.csv')"
   ]
  },
  {
   "cell_type": "code",
   "execution_count": 27,
   "id": "weird-directive",
   "metadata": {},
   "outputs": [
    {
     "data": {
      "text/html": [
       "<div>\n",
       "<style scoped>\n",
       "    .dataframe tbody tr th:only-of-type {\n",
       "        vertical-align: middle;\n",
       "    }\n",
       "\n",
       "    .dataframe tbody tr th {\n",
       "        vertical-align: top;\n",
       "    }\n",
       "\n",
       "    .dataframe thead th {\n",
       "        text-align: right;\n",
       "    }\n",
       "</style>\n",
       "<table border=\"1\" class=\"dataframe\">\n",
       "  <thead>\n",
       "    <tr style=\"text-align: right;\">\n",
       "      <th></th>\n",
       "      <th>Unnamed: 0</th>\n",
       "      <th>Huc_8</th>\n",
       "      <th>Watershed</th>\n",
       "      <th>Huc_12</th>\n",
       "      <th>Huc_12Name</th>\n",
       "      <th>Type</th>\n",
       "      <th>Category</th>\n",
       "      <th>Scientific_Name</th>\n",
       "      <th>Common_Name</th>\n",
       "      <th>Global_Rank</th>\n",
       "      <th>State_Rank</th>\n",
       "      <th>Fed_Status</th>\n",
       "      <th>State_Status</th>\n",
       "      <th>Habitat</th>\n",
       "      <th>Wet_Habitat_Flag</th>\n",
       "    </tr>\n",
       "  </thead>\n",
       "  <tbody>\n",
       "    <tr>\n",
       "      <th>0</th>\n",
       "      <td>1105</td>\n",
       "      <td>5130108</td>\n",
       "      <td>Caney Fork River</td>\n",
       "      <td>51301080204</td>\n",
       "      <td>Dry Fork</td>\n",
       "      <td>Invertebrate Animal</td>\n",
       "      <td>Insect</td>\n",
       "      <td>Pseudanophthalmus sp. 27</td>\n",
       "      <td>Rumbling Falls Cave Beetle</td>\n",
       "      <td>G1</td>\n",
       "      <td>S1</td>\n",
       "      <td>--</td>\n",
       "      <td>Rare, Not State Listed</td>\n",
       "      <td>Terrestrial cave obligate; middle Cumberlands;...</td>\n",
       "      <td>Upland</td>\n",
       "    </tr>\n",
       "    <tr>\n",
       "      <th>1</th>\n",
       "      <td>1113</td>\n",
       "      <td>5130108</td>\n",
       "      <td>Caney Fork River</td>\n",
       "      <td>51301080205</td>\n",
       "      <td>Cane Creek Lower</td>\n",
       "      <td>Invertebrate Animal</td>\n",
       "      <td>Insect</td>\n",
       "      <td>Arrhopalites sp. 4</td>\n",
       "      <td>A Cave Springtail (species 1)</td>\n",
       "      <td>G1</td>\n",
       "      <td>S1</td>\n",
       "      <td>--</td>\n",
       "      <td>Rare, Not State Listed</td>\n",
       "      <td>Terrestrial cave obligate; middle Cumberlands.</td>\n",
       "      <td>Upland</td>\n",
       "    </tr>\n",
       "  </tbody>\n",
       "</table>\n",
       "</div>"
      ],
      "text/plain": [
       "   Unnamed: 0    Huc_8         Watershed       Huc_12        Huc_12Name  \\\n",
       "0        1105  5130108  Caney Fork River  51301080204          Dry Fork   \n",
       "1        1113  5130108  Caney Fork River  51301080205  Cane Creek Lower   \n",
       "\n",
       "                  Type Category           Scientific_Name  \\\n",
       "0  Invertebrate Animal   Insect  Pseudanophthalmus sp. 27   \n",
       "1  Invertebrate Animal   Insect        Arrhopalites sp. 4   \n",
       "\n",
       "                     Common_Name Global_Rank State_Rank Fed_Status  \\\n",
       "0     Rumbling Falls Cave Beetle          G1         S1         --   \n",
       "1  A Cave Springtail (species 1)          G1         S1         --   \n",
       "\n",
       "             State_Status                                            Habitat  \\\n",
       "0  Rare, Not State Listed  Terrestrial cave obligate; middle Cumberlands;...   \n",
       "1  Rare, Not State Listed     Terrestrial cave obligate; middle Cumberlands.   \n",
       "\n",
       "  Wet_Habitat_Flag  \n",
       "0           Upland  \n",
       "1           Upland  "
      ]
     },
     "execution_count": 27,
     "metadata": {},
     "output_type": "execute_result"
    }
   ],
   "source": [
    "S1_Caney.head(2)"
   ]
  },
  {
   "cell_type": "code",
   "execution_count": 28,
   "id": "systematic-shelf",
   "metadata": {},
   "outputs": [
    {
     "data": {
      "text/plain": [
       "81"
      ]
     },
     "execution_count": 28,
     "metadata": {},
     "output_type": "execute_result"
    }
   ],
   "source": [
    "S1_Caney['Common_Name'].nunique()"
   ]
  },
  {
   "cell_type": "code",
   "execution_count": 29,
   "id": "mechanical-lodge",
   "metadata": {},
   "outputs": [],
   "source": [
    "LE_Caney = pd.read_csv('../data/smallfiles/LE_Caney.csv')"
   ]
  },
  {
   "cell_type": "code",
   "execution_count": 30,
   "id": "bearing-carol",
   "metadata": {},
   "outputs": [
    {
     "data": {
      "text/html": [
       "<div>\n",
       "<style scoped>\n",
       "    .dataframe tbody tr th:only-of-type {\n",
       "        vertical-align: middle;\n",
       "    }\n",
       "\n",
       "    .dataframe tbody tr th {\n",
       "        vertical-align: top;\n",
       "    }\n",
       "\n",
       "    .dataframe thead th {\n",
       "        text-align: right;\n",
       "    }\n",
       "</style>\n",
       "<table border=\"1\" class=\"dataframe\">\n",
       "  <thead>\n",
       "    <tr style=\"text-align: right;\">\n",
       "      <th></th>\n",
       "      <th>Unnamed: 0</th>\n",
       "      <th>Huc_8</th>\n",
       "      <th>Watershed</th>\n",
       "      <th>Huc_12</th>\n",
       "      <th>Huc_12Name</th>\n",
       "      <th>Type</th>\n",
       "      <th>Category</th>\n",
       "      <th>Scientific_Name</th>\n",
       "      <th>Common_Name</th>\n",
       "      <th>Global_Rank</th>\n",
       "      <th>State_Rank</th>\n",
       "      <th>Fed_Status</th>\n",
       "      <th>State_Status</th>\n",
       "      <th>Habitat</th>\n",
       "      <th>Wet_Habitat_Flag</th>\n",
       "    </tr>\n",
       "  </thead>\n",
       "  <tbody>\n",
       "    <tr>\n",
       "      <th>0</th>\n",
       "      <td>1121</td>\n",
       "      <td>5130108</td>\n",
       "      <td>Caney Fork River</td>\n",
       "      <td>51301080205</td>\n",
       "      <td>Cane Creek Lower</td>\n",
       "      <td>Invertebrate Animal</td>\n",
       "      <td>Mollusc</td>\n",
       "      <td>Pleuronaia gibberum</td>\n",
       "      <td>Cumberland Pigtoe</td>\n",
       "      <td>G1</td>\n",
       "      <td>S1</td>\n",
       "      <td>LE</td>\n",
       "      <td>E</td>\n",
       "      <td>Shallow areas in small-medium rivers in riffle...</td>\n",
       "      <td>Aquatic</td>\n",
       "    </tr>\n",
       "    <tr>\n",
       "      <th>1</th>\n",
       "      <td>1123</td>\n",
       "      <td>5130108</td>\n",
       "      <td>Caney Fork River</td>\n",
       "      <td>51301080205</td>\n",
       "      <td>Cane Creek Lower</td>\n",
       "      <td>Invertebrate Animal</td>\n",
       "      <td>Mollusc</td>\n",
       "      <td>Pegias fabula</td>\n",
       "      <td>Littlewing Pearlymussel</td>\n",
       "      <td>G1</td>\n",
       "      <td>S1</td>\n",
       "      <td>LE</td>\n",
       "      <td>E</td>\n",
       "      <td>Cool, clear, high-gradient streams in sand, gr...</td>\n",
       "      <td>Aquatic</td>\n",
       "    </tr>\n",
       "  </tbody>\n",
       "</table>\n",
       "</div>"
      ],
      "text/plain": [
       "   Unnamed: 0    Huc_8         Watershed       Huc_12        Huc_12Name  \\\n",
       "0        1121  5130108  Caney Fork River  51301080205  Cane Creek Lower   \n",
       "1        1123  5130108  Caney Fork River  51301080205  Cane Creek Lower   \n",
       "\n",
       "                  Type Category      Scientific_Name              Common_Name  \\\n",
       "0  Invertebrate Animal  Mollusc  Pleuronaia gibberum        Cumberland Pigtoe   \n",
       "1  Invertebrate Animal  Mollusc        Pegias fabula  Littlewing Pearlymussel   \n",
       "\n",
       "  Global_Rank State_Rank Fed_Status State_Status  \\\n",
       "0          G1         S1         LE            E   \n",
       "1          G1         S1         LE            E   \n",
       "\n",
       "                                             Habitat Wet_Habitat_Flag  \n",
       "0  Shallow areas in small-medium rivers in riffle...          Aquatic  \n",
       "1  Cool, clear, high-gradient streams in sand, gr...          Aquatic  "
      ]
     },
     "execution_count": 30,
     "metadata": {},
     "output_type": "execute_result"
    }
   ],
   "source": [
    "LE_Caney.head(2)"
   ]
  },
  {
   "cell_type": "code",
   "execution_count": 31,
   "id": "fuzzy-spyware",
   "metadata": {},
   "outputs": [
    {
     "data": {
      "text/plain": [
       "13"
      ]
     },
     "execution_count": 31,
     "metadata": {},
     "output_type": "execute_result"
    }
   ],
   "source": [
    "LE_Caney['Common_Name'].nunique()"
   ]
  }
 ],
 "metadata": {
  "kernelspec": {
   "display_name": "Python 3",
   "language": "python",
   "name": "python3"
  },
  "language_info": {
   "codemirror_mode": {
    "name": "ipython",
    "version": 3
   },
   "file_extension": ".py",
   "mimetype": "text/x-python",
   "name": "python",
   "nbconvert_exporter": "python",
   "pygments_lexer": "ipython3",
   "version": "3.8.5"
  }
 },
 "nbformat": 4,
 "nbformat_minor": 5
}
