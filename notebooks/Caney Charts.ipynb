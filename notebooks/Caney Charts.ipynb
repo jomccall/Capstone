{
 "cells": [
  {
   "cell_type": "code",
   "execution_count": 1,
   "id": "extensive-north",
   "metadata": {},
   "outputs": [],
   "source": [
    "import matplotlib.pyplot as plt\n",
    "import pandas as pd\n",
    "import collections\n",
    "\n",
    "%matplotlib inline"
   ]
  },
  {
   "cell_type": "code",
   "execution_count": 2,
   "id": "physical-salad",
   "metadata": {},
   "outputs": [
    {
     "data": {
      "text/html": [
       "<div>\n",
       "<style scoped>\n",
       "    .dataframe tbody tr th:only-of-type {\n",
       "        vertical-align: middle;\n",
       "    }\n",
       "\n",
       "    .dataframe tbody tr th {\n",
       "        vertical-align: top;\n",
       "    }\n",
       "\n",
       "    .dataframe thead th {\n",
       "        text-align: right;\n",
       "    }\n",
       "</style>\n",
       "<table border=\"1\" class=\"dataframe\">\n",
       "  <thead>\n",
       "    <tr style=\"text-align: right;\">\n",
       "      <th></th>\n",
       "      <th>Huc 8</th>\n",
       "      <th>Huc 8 Name</th>\n",
       "      <th>Huc 12</th>\n",
       "      <th>Huc 12 Name</th>\n",
       "      <th>Type</th>\n",
       "      <th>Category</th>\n",
       "      <th>Scientific Name</th>\n",
       "      <th>Common Name</th>\n",
       "      <th>Global Rank</th>\n",
       "      <th>State Rank</th>\n",
       "      <th>Fed Status</th>\n",
       "      <th>State Status</th>\n",
       "      <th>Habitat Description</th>\n",
       "      <th>Wet Habitat Flag</th>\n",
       "    </tr>\n",
       "  </thead>\n",
       "  <tbody>\n",
       "    <tr>\n",
       "      <th>0</th>\n",
       "      <td>3150101</td>\n",
       "      <td>Conasauga River</td>\n",
       "      <td>31501010101</td>\n",
       "      <td>Headwaters Conasuaga River</td>\n",
       "      <td>Vertebrate Animal</td>\n",
       "      <td>Fish</td>\n",
       "      <td>Notropis asperifrons</td>\n",
       "      <td>Burrhead Shiner</td>\n",
       "      <td>G4</td>\n",
       "      <td>S2</td>\n",
       "      <td>--</td>\n",
       "      <td>Rare, Not State Listed</td>\n",
       "      <td>Rocky and sandy pools and runs of clear creeks...</td>\n",
       "      <td>Aquatic</td>\n",
       "    </tr>\n",
       "    <tr>\n",
       "      <th>1</th>\n",
       "      <td>3150101</td>\n",
       "      <td>Conasauga River</td>\n",
       "      <td>31501010101</td>\n",
       "      <td>Headwaters Conasuaga River</td>\n",
       "      <td>Vertebrate Animal</td>\n",
       "      <td>Fish</td>\n",
       "      <td>Notropis stilbius</td>\n",
       "      <td>Silverstripe Shiner</td>\n",
       "      <td>G4</td>\n",
       "      <td>S3</td>\n",
       "      <td>--</td>\n",
       "      <td>Rare, Not State Listed</td>\n",
       "      <td>Still or gently flowing pool areas in the Cona...</td>\n",
       "      <td>Aquatic</td>\n",
       "    </tr>\n",
       "    <tr>\n",
       "      <th>2</th>\n",
       "      <td>3150101</td>\n",
       "      <td>Conasauga River</td>\n",
       "      <td>31501010101</td>\n",
       "      <td>Headwaters Conasuaga River</td>\n",
       "      <td>Invertebrate Animal</td>\n",
       "      <td>Mollusc</td>\n",
       "      <td>Elliptio arctata</td>\n",
       "      <td>Delicate Spike</td>\n",
       "      <td>G2G3Q</td>\n",
       "      <td>S2</td>\n",
       "      <td>--</td>\n",
       "      <td>Rare, Not State Listed</td>\n",
       "      <td>In substrates of coarse sand, gravel, and cobb...</td>\n",
       "      <td>Aquatic</td>\n",
       "    </tr>\n",
       "  </tbody>\n",
       "</table>\n",
       "</div>"
      ],
      "text/plain": [
       "     Huc 8       Huc 8 Name       Huc 12                 Huc 12 Name  \\\n",
       "0  3150101  Conasauga River  31501010101  Headwaters Conasuaga River   \n",
       "1  3150101  Conasauga River  31501010101  Headwaters Conasuaga River   \n",
       "2  3150101  Conasauga River  31501010101  Headwaters Conasuaga River   \n",
       "\n",
       "                  Type Category       Scientific Name          Common Name  \\\n",
       "0    Vertebrate Animal     Fish  Notropis asperifrons      Burrhead Shiner   \n",
       "1    Vertebrate Animal     Fish     Notropis stilbius  Silverstripe Shiner   \n",
       "2  Invertebrate Animal  Mollusc      Elliptio arctata       Delicate Spike   \n",
       "\n",
       "  Global Rank State Rank Fed Status            State Status  \\\n",
       "0          G4         S2         --  Rare, Not State Listed   \n",
       "1          G4         S3         --  Rare, Not State Listed   \n",
       "2       G2G3Q         S2         --  Rare, Not State Listed   \n",
       "\n",
       "                                 Habitat Description Wet Habitat Flag  \n",
       "0  Rocky and sandy pools and runs of clear creeks...          Aquatic  \n",
       "1  Still or gently flowing pool areas in the Cona...          Aquatic  \n",
       "2  In substrates of coarse sand, gravel, and cobb...          Aquatic  "
      ]
     },
     "execution_count": 2,
     "metadata": {},
     "output_type": "execute_result"
    }
   ],
   "source": [
    "ws = pd.read_csv('../data/rare_species_by_watershed.csv')\n",
    "ws.head(3)"
   ]
  },
  {
   "cell_type": "code",
   "execution_count": 3,
   "id": "suspected-sleep",
   "metadata": {},
   "outputs": [],
   "source": [
    "ws.columns = ['Huc_8', 'Watershed', 'Huc_12', 'Huc_12Name', 'Type', 'Category', 'Scientific_Name', 'Common_Name', \n",
    "               'Global_Rank', 'State_Rank', 'Fed_Status', 'State_Status', 'Habitat', 'Wet_Habitat_Flag']"
   ]
  },
  {
   "cell_type": "code",
   "execution_count": 4,
   "id": "honest-owner",
   "metadata": {},
   "outputs": [
    {
     "data": {
      "text/plain": [
       "115612"
      ]
     },
     "execution_count": 4,
     "metadata": {},
     "output_type": "execute_result"
    }
   ],
   "source": [
    "ws.size"
   ]
  },
  {
   "cell_type": "code",
   "execution_count": 5,
   "id": "crazy-argument",
   "metadata": {},
   "outputs": [
    {
     "data": {
      "text/plain": [
       "928"
      ]
     },
     "execution_count": 5,
     "metadata": {},
     "output_type": "execute_result"
    }
   ],
   "source": [
    "ws['Common_Name'].nunique()"
   ]
  },
  {
   "cell_type": "code",
   "execution_count": 6,
   "id": "instructional-poland",
   "metadata": {},
   "outputs": [],
   "source": [
    "caney = ws.loc[(ws.Watershed == 'Caney Fork River')]"
   ]
  },
  {
   "cell_type": "code",
   "execution_count": 7,
   "id": "successful-earth",
   "metadata": {},
   "outputs": [
    {
     "data": {
      "text/plain": [
       "(466, 14)"
      ]
     },
     "execution_count": 7,
     "metadata": {},
     "output_type": "execute_result"
    }
   ],
   "source": [
    "caney.shape"
   ]
  },
  {
   "cell_type": "code",
   "execution_count": 8,
   "id": "trying-partnership",
   "metadata": {},
   "outputs": [
    {
     "data": {
      "text/html": [
       "<div>\n",
       "<style scoped>\n",
       "    .dataframe tbody tr th:only-of-type {\n",
       "        vertical-align: middle;\n",
       "    }\n",
       "\n",
       "    .dataframe tbody tr th {\n",
       "        vertical-align: top;\n",
       "    }\n",
       "\n",
       "    .dataframe thead th {\n",
       "        text-align: right;\n",
       "    }\n",
       "</style>\n",
       "<table border=\"1\" class=\"dataframe\">\n",
       "  <thead>\n",
       "    <tr style=\"text-align: right;\">\n",
       "      <th></th>\n",
       "      <th>Huc_8</th>\n",
       "      <th>Watershed</th>\n",
       "      <th>Huc_12</th>\n",
       "      <th>Huc_12Name</th>\n",
       "      <th>Type</th>\n",
       "      <th>Category</th>\n",
       "      <th>Scientific_Name</th>\n",
       "      <th>Common_Name</th>\n",
       "      <th>Global_Rank</th>\n",
       "      <th>State_Rank</th>\n",
       "      <th>Fed_Status</th>\n",
       "      <th>State_Status</th>\n",
       "      <th>Habitat</th>\n",
       "      <th>Wet_Habitat_Flag</th>\n",
       "    </tr>\n",
       "  </thead>\n",
       "  <tbody>\n",
       "    <tr>\n",
       "      <th>1032</th>\n",
       "      <td>5130108</td>\n",
       "      <td>Caney Fork River</td>\n",
       "      <td>51301080101</td>\n",
       "      <td>Glade Creek</td>\n",
       "      <td>Vascular Plant</td>\n",
       "      <td>Flowering Plant</td>\n",
       "      <td>Epilobium ciliatum</td>\n",
       "      <td>Hairy Willow-herb</td>\n",
       "      <td>G5</td>\n",
       "      <td>S1</td>\n",
       "      <td>--</td>\n",
       "      <td>T</td>\n",
       "      <td>Mountain Balds</td>\n",
       "      <td>Possible</td>\n",
       "    </tr>\n",
       "    <tr>\n",
       "      <th>1033</th>\n",
       "      <td>5130108</td>\n",
       "      <td>Caney Fork River</td>\n",
       "      <td>51301080101</td>\n",
       "      <td>Glade Creek</td>\n",
       "      <td>Vascular Plant</td>\n",
       "      <td>Flowering Plant</td>\n",
       "      <td>Scleria muehlenbergii</td>\n",
       "      <td>Muhlenberg's Nutrush</td>\n",
       "      <td>G5</td>\n",
       "      <td>S2</td>\n",
       "      <td>--</td>\n",
       "      <td>T</td>\n",
       "      <td>Wet Meadows</td>\n",
       "      <td>Possible</td>\n",
       "    </tr>\n",
       "    <tr>\n",
       "      <th>1034</th>\n",
       "      <td>5130108</td>\n",
       "      <td>Caney Fork River</td>\n",
       "      <td>51301080101</td>\n",
       "      <td>Glade Creek</td>\n",
       "      <td>Vascular Plant</td>\n",
       "      <td>Flowering Plant</td>\n",
       "      <td>Platanthera integrilabia</td>\n",
       "      <td>White Fringeless Orchid</td>\n",
       "      <td>G2G3</td>\n",
       "      <td>S2S3</td>\n",
       "      <td>LT</td>\n",
       "      <td>E</td>\n",
       "      <td>Acidic Seeps And Stream Heads</td>\n",
       "      <td>Possible</td>\n",
       "    </tr>\n",
       "    <tr>\n",
       "      <th>1035</th>\n",
       "      <td>5130108</td>\n",
       "      <td>Caney Fork River</td>\n",
       "      <td>51301080101</td>\n",
       "      <td>Glade Creek</td>\n",
       "      <td>Vascular Plant</td>\n",
       "      <td>Flowering Plant</td>\n",
       "      <td>Helianthus occidentalis</td>\n",
       "      <td>Naked-stem Sunflower</td>\n",
       "      <td>G5</td>\n",
       "      <td>S2</td>\n",
       "      <td>--</td>\n",
       "      <td>S</td>\n",
       "      <td>Limestone Glades And Barrens</td>\n",
       "      <td>Upland</td>\n",
       "    </tr>\n",
       "    <tr>\n",
       "      <th>1036</th>\n",
       "      <td>5130108</td>\n",
       "      <td>Caney Fork River</td>\n",
       "      <td>51301080101</td>\n",
       "      <td>Glade Creek</td>\n",
       "      <td>Vascular Plant</td>\n",
       "      <td>Flowering Plant</td>\n",
       "      <td>Fimbristylis puberula</td>\n",
       "      <td>Hairy Fimbristylis</td>\n",
       "      <td>G5</td>\n",
       "      <td>S1S2</td>\n",
       "      <td>--</td>\n",
       "      <td>T</td>\n",
       "      <td>Wet Prairies And Woods</td>\n",
       "      <td>Possible</td>\n",
       "    </tr>\n",
       "  </tbody>\n",
       "</table>\n",
       "</div>"
      ],
      "text/plain": [
       "        Huc_8         Watershed       Huc_12   Huc_12Name            Type  \\\n",
       "1032  5130108  Caney Fork River  51301080101  Glade Creek  Vascular Plant   \n",
       "1033  5130108  Caney Fork River  51301080101  Glade Creek  Vascular Plant   \n",
       "1034  5130108  Caney Fork River  51301080101  Glade Creek  Vascular Plant   \n",
       "1035  5130108  Caney Fork River  51301080101  Glade Creek  Vascular Plant   \n",
       "1036  5130108  Caney Fork River  51301080101  Glade Creek  Vascular Plant   \n",
       "\n",
       "             Category           Scientific_Name              Common_Name  \\\n",
       "1032  Flowering Plant        Epilobium ciliatum        Hairy Willow-herb   \n",
       "1033  Flowering Plant     Scleria muehlenbergii     Muhlenberg's Nutrush   \n",
       "1034  Flowering Plant  Platanthera integrilabia  White Fringeless Orchid   \n",
       "1035  Flowering Plant   Helianthus occidentalis     Naked-stem Sunflower   \n",
       "1036  Flowering Plant     Fimbristylis puberula       Hairy Fimbristylis   \n",
       "\n",
       "     Global_Rank State_Rank Fed_Status State_Status  \\\n",
       "1032          G5         S1         --            T   \n",
       "1033          G5         S2         --            T   \n",
       "1034        G2G3       S2S3         LT            E   \n",
       "1035          G5         S2         --            S   \n",
       "1036          G5       S1S2         --            T   \n",
       "\n",
       "                            Habitat Wet_Habitat_Flag  \n",
       "1032                 Mountain Balds         Possible  \n",
       "1033                    Wet Meadows         Possible  \n",
       "1034  Acidic Seeps And Stream Heads         Possible  \n",
       "1035   Limestone Glades And Barrens           Upland  \n",
       "1036         Wet Prairies And Woods         Possible  "
      ]
     },
     "execution_count": 8,
     "metadata": {},
     "output_type": "execute_result"
    }
   ],
   "source": [
    "caney.head()"
   ]
  },
  {
   "cell_type": "code",
   "execution_count": 9,
   "id": "robust-devil",
   "metadata": {},
   "outputs": [],
   "source": [
    "caney.to_csv('../data/caney.csv')"
   ]
  },
  {
   "cell_type": "code",
   "execution_count": 10,
   "id": "running-favor",
   "metadata": {},
   "outputs": [
    {
     "data": {
      "text/plain": [
       "185"
      ]
     },
     "execution_count": 10,
     "metadata": {},
     "output_type": "execute_result"
    }
   ],
   "source": [
    "caney['Common_Name'].nunique()"
   ]
  },
  {
   "cell_type": "markdown",
   "id": "infinite-nursing",
   "metadata": {},
   "source": [
    "Global Rank:"
   ]
  },
  {
   "cell_type": "code",
   "execution_count": 11,
   "id": "painted-parker",
   "metadata": {},
   "outputs": [],
   "source": [
    "gtype_list = caney.Global_Rank.tolist()"
   ]
  },
  {
   "cell_type": "code",
   "execution_count": 12,
   "id": "referenced-entity",
   "metadata": {},
   "outputs": [],
   "source": [
    "gtype_dict = collections.Counter(gtype_list)"
   ]
  },
  {
   "cell_type": "code",
   "execution_count": 13,
   "id": "imposed-duration",
   "metadata": {},
   "outputs": [],
   "source": [
    "gtype_df = pd.DataFrame.from_dict(gtype_dict, orient = 'index', columns = ['count'])"
   ]
  },
  {
   "cell_type": "code",
   "execution_count": 14,
   "id": "terminal-conversation",
   "metadata": {},
   "outputs": [],
   "source": [
    "gtype_df = gtype_df.sort_values(['count'], ascending = False).reset_index()"
   ]
  },
  {
   "cell_type": "code",
   "execution_count": 15,
   "id": "needed-semiconductor",
   "metadata": {},
   "outputs": [],
   "source": [
    "gtype_df = gtype_df.head(8)"
   ]
  },
  {
   "cell_type": "code",
   "execution_count": 16,
   "id": "atmospheric-stage",
   "metadata": {},
   "outputs": [],
   "source": [
    "gtype_df = gtype_df.sort_values(['count'])"
   ]
  },
  {
   "cell_type": "code",
   "execution_count": 25,
   "id": "owned-auckland",
   "metadata": {},
   "outputs": [
    {
     "data": {
      "image/png": "[encoded data removed]",
      "text/plain": [
       "<Figure size 1080x792 with 1 Axes>"
      ]
     },
     "metadata": {
      "needs_background": "light"
     },
     "output_type": "display_data"
    }
   ],
   "source": [
    "#plot:\n",
    "\n",
    "plt.figure(figsize = (15, 11))\n",
    "plt.rcParams['axes.facecolor'] = 'floralwhite'\n",
    "plt.barh('index', 'count', data = gtype_df, color = 'seagreen', align = 'edge', height = 0.9)\n",
    "plt.xlabel('Species Instances', fontweight = 'bold', fontsize = 16, color = 'black')\n",
    "plt.ylabel('Global Rank', fontweight = 'bold', fontsize = 16, color = 'black')\n",
    "plt.title('Caney Fork River Species Instances by Global Rank', fontweight = 'bold', fontsize = 18, color = 'black')\n",
    "plt.xticks(rotation = 90, color = 'black')\n",
    "plt.yticks(color = 'black')\n",
    "\n",
    "for i in plt.barh('index', 'count', data = gtype_df, color = 'seagreen', align = 'edge', height = 0.9):  \n",
    "    plt.text(i.get_width()-0.0001*i.get_width(), i.get_y()+0.5,\n",
    "             str(round((i.get_width()), 2)),\n",
    "             fontsize = 12, fontweight = 'bold',\n",
    "             color ='black');"
   ]
  },
  {
   "cell_type": "markdown",
   "id": "mysterious-infection",
   "metadata": {},
   "source": [
    "State Rank:"
   ]
  },
  {
   "cell_type": "code",
   "execution_count": 26,
   "id": "tender-diversity",
   "metadata": {},
   "outputs": [],
   "source": [
    "stype_list = caney.State_Rank.tolist()"
   ]
  },
  {
   "cell_type": "code",
   "execution_count": 27,
   "id": "certified-potter",
   "metadata": {},
   "outputs": [],
   "source": [
    "stype_dict = collections.Counter(stype_list)"
   ]
  },
  {
   "cell_type": "code",
   "execution_count": 28,
   "id": "hazardous-proportion",
   "metadata": {},
   "outputs": [],
   "source": [
    "stype_df = pd.DataFrame.from_dict(stype_dict, orient = 'index', columns = ['count'])"
   ]
  },
  {
   "cell_type": "code",
   "execution_count": 29,
   "id": "specialized-terror",
   "metadata": {},
   "outputs": [],
   "source": [
    "stype_df = stype_df.sort_values(['count'], ascending = False).reset_index(inplace = False)"
   ]
  },
  {
   "cell_type": "code",
   "execution_count": 30,
   "id": "indian-heart",
   "metadata": {},
   "outputs": [],
   "source": [
    "stype_df = stype_df.head(6)"
   ]
  },
  {
   "cell_type": "code",
   "execution_count": 31,
   "id": "given-sacramento",
   "metadata": {},
   "outputs": [],
   "source": [
    "stype_df = stype_df.sort_values(['count'])"
   ]
  },
  {
   "cell_type": "code",
   "execution_count": 32,
   "id": "small-matthew",
   "metadata": {},
   "outputs": [
    {
     "data": {
      "image/png": "[encoded data removed]",
      "text/plain": [
       "<Figure size 1080x792 with 1 Axes>"
      ]
     },
     "metadata": {
      "needs_background": "light"
     },
     "output_type": "display_data"
    }
   ],
   "source": [
    "#plot:\n",
    "\n",
    "plt.figure(figsize = (15, 11))\n",
    "plt.rcParams['axes.facecolor'] = 'floralwhite'\n",
    "plt.barh('index', 'count', data = stype_df, color = 'seagreen', align = 'edge', height = 0.9)\n",
    "plt.xlabel('Species Instances', fontweight = 'bold', fontsize = 16, color = 'black')\n",
    "plt.ylabel('State Rank', fontweight = 'bold', fontsize = 16, color = 'black')\n",
    "plt.title('Caney Fork River Species Instances by State Rank', fontweight = 'bold', fontsize = 18, color = 'black')\n",
    "plt.xticks(rotation = 90, color = 'black')\n",
    "plt.yticks(color = 'black')\n",
    "\n",
    "for i in plt.barh('index', 'count', data = stype_df, color = 'seagreen', align = 'edge', height = 0.9):  \n",
    "    plt.text(i.get_width()-0.0001*i.get_width(), i.get_y()+0.5,\n",
    "             str(round((i.get_width()), 2)),\n",
    "             fontsize = 12, fontweight = 'bold',\n",
    "             color ='black');"
   ]
  },
  {
   "cell_type": "markdown",
   "id": "aggressive-comfort",
   "metadata": {},
   "source": [
    "Federal Status:"
   ]
  },
  {
   "cell_type": "code",
   "execution_count": 33,
   "id": "controversial-accused",
   "metadata": {},
   "outputs": [],
   "source": [
    "fstat_list = caney.Fed_Status.tolist()"
   ]
  },
  {
   "cell_type": "code",
   "execution_count": 34,
   "id": "suburban-priest",
   "metadata": {},
   "outputs": [],
   "source": [
    "fstat_dict = collections.Counter(fstat_list)"
   ]
  },
  {
   "cell_type": "code",
   "execution_count": 35,
   "id": "floppy-johns",
   "metadata": {},
   "outputs": [],
   "source": [
    "fstat_df = pd.DataFrame.from_dict(fstat_dict, orient = 'index', columns = ['count'])"
   ]
  },
  {
   "cell_type": "code",
   "execution_count": 36,
   "id": "environmental-enhancement",
   "metadata": {},
   "outputs": [],
   "source": [
    "fstat_df = fstat_df.sort_values(['count']).reset_index(inplace = False)"
   ]
  },
  {
   "cell_type": "code",
   "execution_count": 37,
   "id": "urban-extent",
   "metadata": {},
   "outputs": [],
   "source": [
    "fstat_df = fstat_df.sort_values(['count']).reset_index(inplace = False)"
   ]
  },
  {
   "cell_type": "code",
   "execution_count": 38,
   "id": "three-alias",
   "metadata": {},
   "outputs": [
    {
     "data": {
      "text/html": [
       "<div>\n",
       "<style scoped>\n",
       "    .dataframe tbody tr th:only-of-type {\n",
       "        vertical-align: middle;\n",
       "    }\n",
       "\n",
       "    .dataframe tbody tr th {\n",
       "        vertical-align: top;\n",
       "    }\n",
       "\n",
       "    .dataframe thead th {\n",
       "        text-align: right;\n",
       "    }\n",
       "</style>\n",
       "<table border=\"1\" class=\"dataframe\">\n",
       "  <thead>\n",
       "    <tr style=\"text-align: right;\">\n",
       "      <th></th>\n",
       "      <th>level_0</th>\n",
       "      <th>index</th>\n",
       "      <th>count</th>\n",
       "    </tr>\n",
       "  </thead>\n",
       "  <tbody>\n",
       "    <tr>\n",
       "      <th>0</th>\n",
       "      <td>0</td>\n",
       "      <td>DM</td>\n",
       "      <td>1</td>\n",
       "    </tr>\n",
       "    <tr>\n",
       "      <th>1</th>\n",
       "      <td>1</td>\n",
       "      <td>No Status</td>\n",
       "      <td>3</td>\n",
       "    </tr>\n",
       "    <tr>\n",
       "      <th>2</th>\n",
       "      <td>2</td>\n",
       "      <td>LE, XN</td>\n",
       "      <td>5</td>\n",
       "    </tr>\n",
       "    <tr>\n",
       "      <th>3</th>\n",
       "      <td>3</td>\n",
       "      <td>LT</td>\n",
       "      <td>17</td>\n",
       "    </tr>\n",
       "    <tr>\n",
       "      <th>4</th>\n",
       "      <td>4</td>\n",
       "      <td>LE</td>\n",
       "      <td>44</td>\n",
       "    </tr>\n",
       "    <tr>\n",
       "      <th>5</th>\n",
       "      <td>5</td>\n",
       "      <td>--</td>\n",
       "      <td>396</td>\n",
       "    </tr>\n",
       "  </tbody>\n",
       "</table>\n",
       "</div>"
      ],
      "text/plain": [
       "   level_0      index  count\n",
       "0        0         DM      1\n",
       "1        1  No Status      3\n",
       "2        2     LE, XN      5\n",
       "3        3         LT     17\n",
       "4        4         LE     44\n",
       "5        5         --    396"
      ]
     },
     "execution_count": 38,
     "metadata": {},
     "output_type": "execute_result"
    }
   ],
   "source": [
    "fstat_df"
   ]
  },
  {
   "cell_type": "code",
   "execution_count": 39,
   "id": "industrial-bangladesh",
   "metadata": {},
   "outputs": [],
   "source": [
    "fstat_df = fstat_df[(fstat_df['level_0'].isin([3, 4]))]"
   ]
  },
  {
   "cell_type": "code",
   "execution_count": 40,
   "id": "wound-stuart",
   "metadata": {},
   "outputs": [
    {
     "data": {
      "text/html": [
       "<div>\n",
       "<style scoped>\n",
       "    .dataframe tbody tr th:only-of-type {\n",
       "        vertical-align: middle;\n",
       "    }\n",
       "\n",
       "    .dataframe tbody tr th {\n",
       "        vertical-align: top;\n",
       "    }\n",
       "\n",
       "    .dataframe thead th {\n",
       "        text-align: right;\n",
       "    }\n",
       "</style>\n",
       "<table border=\"1\" class=\"dataframe\">\n",
       "  <thead>\n",
       "    <tr style=\"text-align: right;\">\n",
       "      <th></th>\n",
       "      <th>level_0</th>\n",
       "      <th>index</th>\n",
       "      <th>count</th>\n",
       "    </tr>\n",
       "  </thead>\n",
       "  <tbody>\n",
       "    <tr>\n",
       "      <th>3</th>\n",
       "      <td>3</td>\n",
       "      <td>LT</td>\n",
       "      <td>17</td>\n",
       "    </tr>\n",
       "    <tr>\n",
       "      <th>4</th>\n",
       "      <td>4</td>\n",
       "      <td>LE</td>\n",
       "      <td>44</td>\n",
       "    </tr>\n",
       "  </tbody>\n",
       "</table>\n",
       "</div>"
      ],
      "text/plain": [
       "   level_0 index  count\n",
       "3        3    LT     17\n",
       "4        4    LE     44"
      ]
     },
     "execution_count": 40,
     "metadata": {},
     "output_type": "execute_result"
    }
   ],
   "source": [
    "fstat_df"
   ]
  },
  {
   "cell_type": "code",
   "execution_count": 41,
   "id": "spatial-nirvana",
   "metadata": {},
   "outputs": [
    {
     "data": {
      "image/png": "[encoded data removed]",
      "text/plain": [
       "<Figure size 1080x792 with 1 Axes>"
      ]
     },
     "metadata": {
      "needs_background": "light"
     },
     "output_type": "display_data"
    }
   ],
   "source": [
    "#plot:\n",
    "\n",
    "plt.figure(figsize = (15, 11))\n",
    "plt.rcParams['axes.facecolor'] = 'floralwhite'\n",
    "plt.barh('index', 'count', data = fstat_df, color = 'seagreen', align = 'edge', height = 0.9)\n",
    "plt.xlabel('Species Instances', fontweight = 'bold', fontsize = 16, color = 'black')\n",
    "plt.ylabel('Federal Status', fontweight = 'bold', fontsize = 16, color = 'black')\n",
    "plt.title('Caney Fork River Species Instances by Federal Status', fontweight = 'bold', fontsize = 18, color = 'black')\n",
    "plt.xticks(rotation = 90, color = 'black')\n",
    "plt.yticks(color = 'black')\n",
    "\n",
    "for i in plt.barh('index', 'count', data = fstat_df, color = 'seagreen', align = 'edge', height = 0.9):  \n",
    "    plt.text(i.get_width()-0.0001*i.get_width(), i.get_y()+0.5,\n",
    "             str(round((i.get_width()), 2)),\n",
    "             fontsize = 12, fontweight = 'bold',\n",
    "             color ='black');"
   ]
  },
  {
   "cell_type": "markdown",
   "id": "wired-recall",
   "metadata": {},
   "source": [
    "Type:"
   ]
  },
  {
   "cell_type": "code",
   "execution_count": 42,
   "id": "advanced-macedonia",
   "metadata": {},
   "outputs": [],
   "source": [
    "type_list = caney.Type.tolist()"
   ]
  },
  {
   "cell_type": "code",
   "execution_count": 43,
   "id": "wound-riverside",
   "metadata": {},
   "outputs": [],
   "source": [
    "type_dict = collections.Counter(type_list)"
   ]
  },
  {
   "cell_type": "code",
   "execution_count": 44,
   "id": "informative-jersey",
   "metadata": {},
   "outputs": [],
   "source": [
    "type_df = pd.DataFrame.from_dict(type_dict, orient = 'index', columns = ['count'])"
   ]
  },
  {
   "cell_type": "code",
   "execution_count": 45,
   "id": "specialized-least",
   "metadata": {},
   "outputs": [],
   "source": [
    "type_df = type_df.sort_values(['count']).reset_index(inplace = False)"
   ]
  },
  {
   "cell_type": "code",
   "execution_count": 46,
   "id": "solved-officer",
   "metadata": {},
   "outputs": [],
   "source": [
    "type_df = type_df.tail(4)"
   ]
  },
  {
   "cell_type": "code",
   "execution_count": 47,
   "id": "boolean-treasury",
   "metadata": {},
   "outputs": [
    {
     "data": {
      "image/png": "[encoded data removed]",
      "text/plain": [
       "<Figure size 1080x792 with 1 Axes>"
      ]
     },
     "metadata": {
      "needs_background": "light"
     },
     "output_type": "display_data"
    }
   ],
   "source": [
    "#plot:\n",
    "\n",
    "plt.figure(figsize = (15, 11))\n",
    "plt.rcParams['axes.facecolor'] = 'floralwhite'\n",
    "plt.barh('index', 'count', data = type_df, color = 'seagreen', align = 'edge', height = 0.9)\n",
    "plt.xlabel('Caney Fork River Species Instances', fontweight = 'bold', fontsize = 16, color = 'black')\n",
    "plt.ylabel('Type', fontweight = 'bold', fontsize = 16, color = 'black')\n",
    "plt.title('Species Instances by Type', fontweight = 'bold', fontsize = 18, color = 'black')\n",
    "plt.xticks(rotation = 90, color = 'black')\n",
    "plt.yticks(rotation = 45, color = 'black')\n",
    "\n",
    "for i in plt.barh('index', 'count', data = type_df, color = 'seagreen', align = 'edge', height = 0.9):  \n",
    "    plt.text(i.get_width()-0.0001*i.get_width(), i.get_y()+0.5,\n",
    "             str(round((i.get_width()), 2)),\n",
    "             fontsize = 12, fontweight = 'bold',\n",
    "             color ='black');"
   ]
  },
  {
   "cell_type": "markdown",
   "id": "military-commissioner",
   "metadata": {},
   "source": [
    "Category:"
   ]
  },
  {
   "cell_type": "code",
   "execution_count": 48,
   "id": "voluntary-transformation",
   "metadata": {},
   "outputs": [],
   "source": [
    "cat_list = caney.Category.tolist()"
   ]
  },
  {
   "cell_type": "code",
   "execution_count": 49,
   "id": "attached-nurse",
   "metadata": {},
   "outputs": [],
   "source": [
    "cat_dict = collections.Counter(cat_list)"
   ]
  },
  {
   "cell_type": "code",
   "execution_count": 50,
   "id": "previous-worcester",
   "metadata": {},
   "outputs": [],
   "source": [
    "cat_df = pd.DataFrame.from_dict(cat_dict, orient = 'index', columns = ['count'])"
   ]
  },
  {
   "cell_type": "code",
   "execution_count": 51,
   "id": "superb-spiritual",
   "metadata": {},
   "outputs": [],
   "source": [
    "cat_df = cat_df.sort_values(['count']).reset_index(inplace = False)"
   ]
  },
  {
   "cell_type": "code",
   "execution_count": 52,
   "id": "suffering-treaty",
   "metadata": {},
   "outputs": [
    {
     "data": {
      "image/png": "[encoded data removed]",
      "text/plain": [
       "<Figure size 1080x792 with 1 Axes>"
      ]
     },
     "metadata": {
      "needs_background": "light"
     },
     "output_type": "display_data"
    }
   ],
   "source": [
    "#plot:\n",
    "\n",
    "plt.figure(figsize = (15, 11))\n",
    "plt.rcParams['axes.facecolor'] = 'floralwhite'\n",
    "plt.barh('index', 'count', data = cat_df, color = 'seagreen', align = 'edge', height = 0.9)\n",
    "plt.xlabel('Species Instances', fontweight = 'bold', fontsize = 16, color = 'black')\n",
    "plt.ylabel('Category', fontweight = 'bold', fontsize = 16, color = 'black')\n",
    "plt.title('Caney Fork River Species Instances by Category', fontweight = 'bold', fontsize = 18, color = 'black')\n",
    "plt.xticks(rotation = 90, color = 'black')\n",
    "plt.yticks(color = 'black')\n",
    "\n",
    "for i in plt.barh('index', 'count', data = cat_df, color = 'seagreen', align = 'edge', height = 0.9):  \n",
    "    plt.text(i.get_width()-0.0001*i.get_width(), i.get_y()+0.5,\n",
    "             str(round((i.get_width()), 2)),\n",
    "             fontsize = 12, fontweight = 'bold',\n",
    "             color ='black');"
   ]
  }
 ],
 "metadata": {
  "kernelspec": {
   "display_name": "Python 3",
   "language": "python",
   "name": "python3"
  },
  "language_info": {
   "codemirror_mode": {
    "name": "ipython",
    "version": 3
   },
   "file_extension": ".py",
   "mimetype": "text/x-python",
   "name": "python",
   "nbconvert_exporter": "python",
   "pygments_lexer": "ipython3",
   "version": "3.8.5"
  }
 },
 "nbformat": 4,
 "nbformat_minor": 5
}
