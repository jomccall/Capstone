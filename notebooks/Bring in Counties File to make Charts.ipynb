{
 "cells": [
  {
   "cell_type": "code",
   "execution_count": 7,
   "id": "rational-hungarian",
   "metadata": {},
   "outputs": [],
   "source": [
    "import addfips\n",
    "import requests\n",
    "import matplotlib.pyplot as plt\n",
    "from IPython.display import Image\n",
    "import folium\n",
    "import pickle\n",
    "import pandas as pd\n",
    "from shapely.geometry import Point\n",
    "import geopandas as gpd\n",
    "from folium.plugins import MarkerCluster\n",
    "from folium.plugins import FastMarkerCluster\n",
    "import pyproj\n",
    "import collections\n",
    "import numpy as np\n",
    "\n",
    "%matplotlib inline"
   ]
  },
  {
   "cell_type": "code",
   "execution_count": 2,
   "id": "sixth-drunk",
   "metadata": {},
   "outputs": [],
   "source": [
    "counties = pd.read_csv('../data/countybreakout.csv')"
   ]
  },
  {
   "cell_type": "code",
   "execution_count": 3,
   "id": "manufactured-stomach",
   "metadata": {},
   "outputs": [
    {
     "data": {
      "text/html": [
       "<div>\n",
       "<style scoped>\n",
       "    .dataframe tbody tr th:only-of-type {\n",
       "        vertical-align: middle;\n",
       "    }\n",
       "\n",
       "    .dataframe tbody tr th {\n",
       "        vertical-align: top;\n",
       "    }\n",
       "\n",
       "    .dataframe thead th {\n",
       "        text-align: right;\n",
       "    }\n",
       "</style>\n",
       "<table border=\"1\" class=\"dataframe\">\n",
       "  <thead>\n",
       "    <tr style=\"text-align: right;\">\n",
       "      <th></th>\n",
       "      <th>Unnamed: 0</th>\n",
       "      <th>id</th>\n",
       "      <th>County</th>\n",
       "      <th>G5</th>\n",
       "      <th>G4</th>\n",
       "      <th>G3</th>\n",
       "      <th>G2</th>\n",
       "      <th>G1</th>\n",
       "      <th>S5</th>\n",
       "      <th>S4</th>\n",
       "      <th>...</th>\n",
       "      <th>C_Crustacean</th>\n",
       "      <th>C_Non_Vasc_Plant</th>\n",
       "      <th>C_Amphibian</th>\n",
       "      <th>C_Bird</th>\n",
       "      <th>C_Insect</th>\n",
       "      <th>C_Mammal</th>\n",
       "      <th>C_Fish</th>\n",
       "      <th>C_Mollusc</th>\n",
       "      <th>C_Flowering Plant</th>\n",
       "      <th>geometry</th>\n",
       "    </tr>\n",
       "  </thead>\n",
       "  <tbody>\n",
       "    <tr>\n",
       "      <th>0</th>\n",
       "      <td>0</td>\n",
       "      <td>0</td>\n",
       "      <td>Chester</td>\n",
       "      <td>1</td>\n",
       "      <td>0</td>\n",
       "      <td>1</td>\n",
       "      <td>0</td>\n",
       "      <td>2</td>\n",
       "      <td>0</td>\n",
       "      <td>0</td>\n",
       "      <td>...</td>\n",
       "      <td>1</td>\n",
       "      <td>0</td>\n",
       "      <td>0</td>\n",
       "      <td>0</td>\n",
       "      <td>0</td>\n",
       "      <td>0</td>\n",
       "      <td>1</td>\n",
       "      <td>0</td>\n",
       "      <td>4</td>\n",
       "      <td>POLYGON ((1137985.762302732 344601.6428789578,...</td>\n",
       "    </tr>\n",
       "    <tr>\n",
       "      <th>1</th>\n",
       "      <td>1</td>\n",
       "      <td>1</td>\n",
       "      <td>Wayne</td>\n",
       "      <td>10</td>\n",
       "      <td>3</td>\n",
       "      <td>11</td>\n",
       "      <td>2</td>\n",
       "      <td>3</td>\n",
       "      <td>0</td>\n",
       "      <td>0</td>\n",
       "      <td>...</td>\n",
       "      <td>1</td>\n",
       "      <td>0</td>\n",
       "      <td>1</td>\n",
       "      <td>1</td>\n",
       "      <td>1</td>\n",
       "      <td>6</td>\n",
       "      <td>11</td>\n",
       "      <td>5</td>\n",
       "      <td>13</td>\n",
       "      <td>POLYGON ((1365052.057184977 391716.8055382015,...</td>\n",
       "    </tr>\n",
       "    <tr>\n",
       "      <th>2</th>\n",
       "      <td>2</td>\n",
       "      <td>2</td>\n",
       "      <td>Tipton</td>\n",
       "      <td>5</td>\n",
       "      <td>0</td>\n",
       "      <td>4</td>\n",
       "      <td>0</td>\n",
       "      <td>0</td>\n",
       "      <td>0</td>\n",
       "      <td>0</td>\n",
       "      <td>...</td>\n",
       "      <td>0</td>\n",
       "      <td>0</td>\n",
       "      <td>0</td>\n",
       "      <td>1</td>\n",
       "      <td>0</td>\n",
       "      <td>0</td>\n",
       "      <td>7</td>\n",
       "      <td>3</td>\n",
       "      <td>4</td>\n",
       "      <td>MULTIPOLYGON (((886814.3302633836 400456.52460...</td>\n",
       "    </tr>\n",
       "    <tr>\n",
       "      <th>3</th>\n",
       "      <td>3</td>\n",
       "      <td>3</td>\n",
       "      <td>Hamilton</td>\n",
       "      <td>15</td>\n",
       "      <td>12</td>\n",
       "      <td>10</td>\n",
       "      <td>3</td>\n",
       "      <td>5</td>\n",
       "      <td>0</td>\n",
       "      <td>1</td>\n",
       "      <td>...</td>\n",
       "      <td>2</td>\n",
       "      <td>4</td>\n",
       "      <td>2</td>\n",
       "      <td>6</td>\n",
       "      <td>0</td>\n",
       "      <td>3</td>\n",
       "      <td>2</td>\n",
       "      <td>5</td>\n",
       "      <td>38</td>\n",
       "      <td>POLYGON ((2274954.438163981 239788.9109037909,...</td>\n",
       "    </tr>\n",
       "    <tr>\n",
       "      <th>4</th>\n",
       "      <td>4</td>\n",
       "      <td>4</td>\n",
       "      <td>Stewart</td>\n",
       "      <td>10</td>\n",
       "      <td>6</td>\n",
       "      <td>7</td>\n",
       "      <td>1</td>\n",
       "      <td>0</td>\n",
       "      <td>0</td>\n",
       "      <td>0</td>\n",
       "      <td>...</td>\n",
       "      <td>0</td>\n",
       "      <td>0</td>\n",
       "      <td>1</td>\n",
       "      <td>5</td>\n",
       "      <td>0</td>\n",
       "      <td>2</td>\n",
       "      <td>2</td>\n",
       "      <td>1</td>\n",
       "      <td>23</td>\n",
       "      <td>POLYGON ((1382472.783498319 743972.3021412947,...</td>\n",
       "    </tr>\n",
       "  </tbody>\n",
       "</table>\n",
       "<p>5 rows × 48 columns</p>\n",
       "</div>"
      ],
      "text/plain": [
       "   Unnamed: 0  id    County  G5  G4  G3  G2  G1  S5  S4  ...  C_Crustacean  \\\n",
       "0           0   0   Chester   1   0   1   0   2   0   0  ...             1   \n",
       "1           1   1     Wayne  10   3  11   2   3   0   0  ...             1   \n",
       "2           2   2    Tipton   5   0   4   0   0   0   0  ...             0   \n",
       "3           3   3  Hamilton  15  12  10   3   5   0   1  ...             2   \n",
       "4           4   4   Stewart  10   6   7   1   0   0   0  ...             0   \n",
       "\n",
       "   C_Non_Vasc_Plant  C_Amphibian  C_Bird  C_Insect  C_Mammal  C_Fish  \\\n",
       "0                 0            0       0         0         0       1   \n",
       "1                 0            1       1         1         6      11   \n",
       "2                 0            0       1         0         0       7   \n",
       "3                 4            2       6         0         3       2   \n",
       "4                 0            1       5         0         2       2   \n",
       "\n",
       "   C_Mollusc  C_Flowering Plant  \\\n",
       "0          0                  4   \n",
       "1          5                 13   \n",
       "2          3                  4   \n",
       "3          5                 38   \n",
       "4          1                 23   \n",
       "\n",
       "                                            geometry  \n",
       "0  POLYGON ((1137985.762302732 344601.6428789578,...  \n",
       "1  POLYGON ((1365052.057184977 391716.8055382015,...  \n",
       "2  MULTIPOLYGON (((886814.3302633836 400456.52460...  \n",
       "3  POLYGON ((2274954.438163981 239788.9109037909,...  \n",
       "4  POLYGON ((1382472.783498319 743972.3021412947,...  \n",
       "\n",
       "[5 rows x 48 columns]"
      ]
     },
     "execution_count": 3,
     "metadata": {},
     "output_type": "execute_result"
    }
   ],
   "source": [
    "counties.head()"
   ]
  },
  {
   "cell_type": "code",
   "execution_count": 4,
   "id": "welsh-worship",
   "metadata": {},
   "outputs": [
    {
     "data": {
      "text/plain": [
       "41.8421052631579"
      ]
     },
     "execution_count": 4,
     "metadata": {},
     "output_type": "execute_result"
    }
   ],
   "source": [
    "counties['fed_diff'].mean()"
   ]
  },
  {
   "cell_type": "code",
   "execution_count": 5,
   "id": "ethical-extraction",
   "metadata": {},
   "outputs": [
    {
     "data": {
      "text/plain": [
       "14.0"
      ]
     },
     "execution_count": 5,
     "metadata": {},
     "output_type": "execute_result"
    }
   ],
   "source": [
    "counties['global_diff'].mean()"
   ]
  },
  {
   "cell_type": "code",
   "execution_count": 6,
   "id": "known-checklist",
   "metadata": {},
   "outputs": [
    {
     "data": {
      "text/plain": [
       "10.56842105263158"
      ]
     },
     "execution_count": 6,
     "metadata": {},
     "output_type": "execute_result"
    }
   ],
   "source": [
    "counties['state_diff'].mean()"
   ]
  },
  {
   "cell_type": "code",
   "execution_count": null,
   "id": "forty-block",
   "metadata": {},
   "outputs": [],
   "source": []
  }
 ],
 "metadata": {
  "kernelspec": {
   "display_name": "Python 3",
   "language": "python",
   "name": "python3"
  },
  "language_info": {
   "codemirror_mode": {
    "name": "ipython",
    "version": 3
   },
   "file_extension": ".py",
   "mimetype": "text/x-python",
   "name": "python",
   "nbconvert_exporter": "python",
   "pygments_lexer": "ipython3",
   "version": "3.8.5"
  }
 },
 "nbformat": 4,
 "nbformat_minor": 5
}
