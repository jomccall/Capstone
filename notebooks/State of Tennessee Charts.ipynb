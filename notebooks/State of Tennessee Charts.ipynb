{
 "cells": [
  {
   "cell_type": "code",
   "execution_count": 62,
   "id": "welsh-award",
   "metadata": {},
   "outputs": [],
   "source": [
    "import matplotlib.pyplot as plt\n",
    "import pandas as pd\n",
    "import collections\n",
    "\n",
    "%matplotlib inline"
   ]
  },
  {
   "cell_type": "markdown",
   "id": "mounted-brief",
   "metadata": {},
   "source": [
    "#### Bring in the county level species data"
   ]
  },
  {
   "cell_type": "code",
   "execution_count": 63,
   "id": "aggregate-retrieval",
   "metadata": {},
   "outputs": [],
   "source": [
    "spec = pd.read_csv('../data/rare_species_by_county.csv')"
   ]
  },
  {
   "cell_type": "code",
   "execution_count": 64,
   "id": "exotic-promotion",
   "metadata": {},
   "outputs": [
    {
     "data": {
      "text/html": [
       "<div>\n",
       "<style scoped>\n",
       "    .dataframe tbody tr th:only-of-type {\n",
       "        vertical-align: middle;\n",
       "    }\n",
       "\n",
       "    .dataframe tbody tr th {\n",
       "        vertical-align: top;\n",
       "    }\n",
       "\n",
       "    .dataframe thead th {\n",
       "        text-align: right;\n",
       "    }\n",
       "</style>\n",
       "<table border=\"1\" class=\"dataframe\">\n",
       "  <thead>\n",
       "    <tr style=\"text-align: right;\">\n",
       "      <th></th>\n",
       "      <th>County</th>\n",
       "      <th>Type</th>\n",
       "      <th>Category</th>\n",
       "      <th>Scientific Name</th>\n",
       "      <th>Common Name</th>\n",
       "      <th>Global Rank</th>\n",
       "      <th>State Rank</th>\n",
       "      <th>Fed. Status</th>\n",
       "      <th>State Status</th>\n",
       "      <th>Habitat</th>\n",
       "      <th>Wet Habitat Flag</th>\n",
       "    </tr>\n",
       "  </thead>\n",
       "  <tbody>\n",
       "    <tr>\n",
       "      <th>0</th>\n",
       "      <td>Anderson</td>\n",
       "      <td>Invertebrate Animal</td>\n",
       "      <td>Arachnid</td>\n",
       "      <td>Hesperochernes mirabilis</td>\n",
       "      <td>Southeastern Cave Pseudoscorpion</td>\n",
       "      <td>G5</td>\n",
       "      <td>S3</td>\n",
       "      <td>--</td>\n",
       "      <td>Rare, Not State Listed</td>\n",
       "      <td>Terrestrial cave obligate; woodrat debris in c...</td>\n",
       "      <td>Upland</td>\n",
       "    </tr>\n",
       "    <tr>\n",
       "      <th>1</th>\n",
       "      <td>Anderson</td>\n",
       "      <td>Invertebrate Animal</td>\n",
       "      <td>Mollusc</td>\n",
       "      <td>Cyprogenia stegaria</td>\n",
       "      <td>Fanshell</td>\n",
       "      <td>G1</td>\n",
       "      <td>S1</td>\n",
       "      <td>LE, XN</td>\n",
       "      <td>E</td>\n",
       "      <td>Medium to large streams and rivers with coarse...</td>\n",
       "      <td>Aquatic</td>\n",
       "    </tr>\n",
       "    <tr>\n",
       "      <th>2</th>\n",
       "      <td>Anderson</td>\n",
       "      <td>Vertebrate Animal</td>\n",
       "      <td>Bird</td>\n",
       "      <td>Limnothlypis swainsonii</td>\n",
       "      <td>Swainson's Warbler</td>\n",
       "      <td>G4</td>\n",
       "      <td>S3</td>\n",
       "      <td>--</td>\n",
       "      <td>D</td>\n",
       "      <td>Mature, rich, damp, deciduous floodplain and s...</td>\n",
       "      <td>Possible</td>\n",
       "    </tr>\n",
       "    <tr>\n",
       "      <th>3</th>\n",
       "      <td>Anderson</td>\n",
       "      <td>Vertebrate Animal</td>\n",
       "      <td>Reptile</td>\n",
       "      <td>Ophisaurus attenuatus longicaudus</td>\n",
       "      <td>Eastern Slender Glass Lizard</td>\n",
       "      <td>G5T5</td>\n",
       "      <td>S3</td>\n",
       "      <td>--</td>\n",
       "      <td>D</td>\n",
       "      <td>Dry upland areas including brushy, cut-over wo...</td>\n",
       "      <td>Upland</td>\n",
       "    </tr>\n",
       "    <tr>\n",
       "      <th>4</th>\n",
       "      <td>Anderson</td>\n",
       "      <td>Vertebrate Animal</td>\n",
       "      <td>Bird</td>\n",
       "      <td>Vermivora chrysoptera</td>\n",
       "      <td>Golden-winged Warbler</td>\n",
       "      <td>G4</td>\n",
       "      <td>S3B</td>\n",
       "      <td>--</td>\n",
       "      <td>T</td>\n",
       "      <td>Early successional habitats in foothill region...</td>\n",
       "      <td>Upland</td>\n",
       "    </tr>\n",
       "  </tbody>\n",
       "</table>\n",
       "</div>"
      ],
      "text/plain": [
       "     County                 Type  Category                    Scientific Name  \\\n",
       "0  Anderson  Invertebrate Animal  Arachnid           Hesperochernes mirabilis   \n",
       "1  Anderson  Invertebrate Animal   Mollusc                Cyprogenia stegaria   \n",
       "2  Anderson    Vertebrate Animal      Bird            Limnothlypis swainsonii   \n",
       "3  Anderson    Vertebrate Animal   Reptile  Ophisaurus attenuatus longicaudus   \n",
       "4  Anderson    Vertebrate Animal      Bird              Vermivora chrysoptera   \n",
       "\n",
       "                        Common Name Global Rank State Rank Fed. Status  \\\n",
       "0  Southeastern Cave Pseudoscorpion          G5         S3          --   \n",
       "1                          Fanshell          G1         S1      LE, XN   \n",
       "2                Swainson's Warbler          G4         S3          --   \n",
       "3      Eastern Slender Glass Lizard        G5T5         S3          --   \n",
       "4             Golden-winged Warbler          G4        S3B          --   \n",
       "\n",
       "             State Status                                            Habitat  \\\n",
       "0  Rare, Not State Listed  Terrestrial cave obligate; woodrat debris in c...   \n",
       "1                       E  Medium to large streams and rivers with coarse...   \n",
       "2                       D  Mature, rich, damp, deciduous floodplain and s...   \n",
       "3                       D  Dry upland areas including brushy, cut-over wo...   \n",
       "4                       T  Early successional habitats in foothill region...   \n",
       "\n",
       "  Wet Habitat Flag  \n",
       "0           Upland  \n",
       "1          Aquatic  \n",
       "2         Possible  \n",
       "3           Upland  \n",
       "4           Upland  "
      ]
     },
     "execution_count": 64,
     "metadata": {},
     "output_type": "execute_result"
    }
   ],
   "source": [
    "spec.head()"
   ]
  },
  {
   "cell_type": "markdown",
   "id": "solid-namibia",
   "metadata": {},
   "source": [
    "##### Rename columns with no spaces, create a column that makes it easy to sum instances, \"summer\" and group by County"
   ]
  },
  {
   "cell_type": "code",
   "execution_count": 65,
   "id": "dietary-bronze",
   "metadata": {},
   "outputs": [],
   "source": [
    "spec.columns = ['County', 'Type', 'Category', 'Scientific_Name', 'Common_Name', \n",
    "               'Global_Rank', 'State_Rank', 'Fed_Status', 'State_Status', 'Habitat', 'Wet_Habitat_Flag']"
   ]
  },
  {
   "cell_type": "markdown",
   "id": "special-dealing",
   "metadata": {},
   "source": [
    "##### Join the geometry from original counties file"
   ]
  },
  {
   "cell_type": "markdown",
   "id": "internal-biography",
   "metadata": {},
   "source": [
    "#### How many of each of the ranks are we seeing in the whole state?"
   ]
  },
  {
   "cell_type": "markdown",
   "id": "surface-bookmark",
   "metadata": {},
   "source": [
    "First, global rank:"
   ]
  },
  {
   "cell_type": "code",
   "execution_count": 66,
   "id": "specific-prospect",
   "metadata": {},
   "outputs": [
    {
     "data": {
      "text/plain": [
       "0          G5\n",
       "1          G1\n",
       "2          G4\n",
       "3        G5T5\n",
       "4          G4\n",
       "        ...  \n",
       "4422      G3Q\n",
       "4423       G5\n",
       "4424    G5T4?\n",
       "4425       G5\n",
       "4426       G1\n",
       "Name: Global_Rank, Length: 4427, dtype: object"
      ]
     },
     "execution_count": 66,
     "metadata": {},
     "output_type": "execute_result"
    }
   ],
   "source": [
    "spec.Global_Rank"
   ]
  },
  {
   "cell_type": "code",
   "execution_count": 67,
   "id": "threaded-cyprus",
   "metadata": {},
   "outputs": [],
   "source": [
    "gtype_list = spec.Global_Rank.tolist()"
   ]
  },
  {
   "cell_type": "code",
   "execution_count": 68,
   "id": "amber-composite",
   "metadata": {},
   "outputs": [
    {
     "data": {
      "text/plain": [
       "list"
      ]
     },
     "execution_count": 68,
     "metadata": {},
     "output_type": "execute_result"
    }
   ],
   "source": [
    "type(gtype_list)"
   ]
  },
  {
   "cell_type": "code",
   "execution_count": 69,
   "id": "thirty-newspaper",
   "metadata": {},
   "outputs": [
    {
     "data": {
      "text/plain": [
       "Counter({'G5': 1098,\n",
       "         'G1': 433,\n",
       "         'G4': 602,\n",
       "         'G5T5': 56,\n",
       "         'G1G2': 133,\n",
       "         'G3': 697,\n",
       "         'G3G4': 297,\n",
       "         'GNR': 71,\n",
       "         'G2G3': 253,\n",
       "         'G4T4': 34,\n",
       "         'G3G5': 17,\n",
       "         'G4?T4Q': 11,\n",
       "         'G2': 267,\n",
       "         'G3?': 22,\n",
       "         'G4G5': 138,\n",
       "         'G3G4T3': 14,\n",
       "         'G2?': 18,\n",
       "         'G2Q': 15,\n",
       "         'G3QT3Q': 17,\n",
       "         'G5T3Q': 13,\n",
       "         'G5T4?': 8,\n",
       "         'G4?': 41,\n",
       "         'G5T4Q': 5,\n",
       "         'G5?': 24,\n",
       "         'G1G2Q': 8,\n",
       "         'GNRT1': 1,\n",
       "         'G5T2': 8,\n",
       "         'G3T2T3': 4,\n",
       "         'G5T3?': 5,\n",
       "         'G2G4': 10,\n",
       "         'G3Q': 8,\n",
       "         'G1Q': 11,\n",
       "         'G4G5T4T5': 7,\n",
       "         'GH': 3,\n",
       "         'G5T4T5': 5,\n",
       "         'G3G4T2': 4,\n",
       "         'G5T3': 4,\n",
       "         'G4?Q': 7,\n",
       "         'GU': 2,\n",
       "         'G4G5T4': 3,\n",
       "         'G5?T3': 3,\n",
       "         'G4T2': 3,\n",
       "         'G2G3Q': 8,\n",
       "         'G4G5T4?': 7,\n",
       "         'G4G5T3': 4,\n",
       "         'G4T3Q': 5,\n",
       "         'G5T3T5': 1,\n",
       "         'G3G4Q': 1,\n",
       "         'G4T3?': 5,\n",
       "         'GNRT3T4': 2,\n",
       "         'GNRTNR': 1,\n",
       "         'G4G5T1T2': 1,\n",
       "         'G5TUQ': 2,\n",
       "         'G4T3': 4,\n",
       "         'G1G3': 3,\n",
       "         'G3?Q': 1,\n",
       "         'GNRT2': 1,\n",
       "         'GNA': 1})"
      ]
     },
     "execution_count": 69,
     "metadata": {},
     "output_type": "execute_result"
    }
   ],
   "source": [
    "collections.Counter(gtype_list)"
   ]
  },
  {
   "cell_type": "code",
   "execution_count": 70,
   "id": "demanding-image",
   "metadata": {},
   "outputs": [],
   "source": [
    "gtype_dict = collections.Counter(gtype_list)"
   ]
  },
  {
   "cell_type": "code",
   "execution_count": 71,
   "id": "innovative-declaration",
   "metadata": {},
   "outputs": [],
   "source": [
    "gtype_df = pd.DataFrame.from_dict(gtype_dict, orient = 'index', columns = ['count'])"
   ]
  },
  {
   "cell_type": "code",
   "execution_count": 72,
   "id": "announced-congress",
   "metadata": {},
   "outputs": [],
   "source": [
    "gtype_df = gtype_df.sort_values(['count'], ascending = False).reset_index()"
   ]
  },
  {
   "cell_type": "code",
   "execution_count": 73,
   "id": "favorite-analysis",
   "metadata": {},
   "outputs": [
    {
     "name": "stdout",
     "output_type": "stream",
     "text": [
      "<class 'pandas.core.frame.DataFrame'>\n",
      "RangeIndex: 58 entries, 0 to 57\n",
      "Data columns (total 2 columns):\n",
      " #   Column  Non-Null Count  Dtype \n",
      "---  ------  --------------  ----- \n",
      " 0   index   58 non-null     object\n",
      " 1   count   58 non-null     int64 \n",
      "dtypes: int64(1), object(1)\n",
      "memory usage: 1.0+ KB\n"
     ]
    }
   ],
   "source": [
    "gtype_df.info()"
   ]
  },
  {
   "cell_type": "code",
   "execution_count": 74,
   "id": "flexible-diagnosis",
   "metadata": {},
   "outputs": [],
   "source": [
    "gtype_df = gtype_df.head(9)"
   ]
  },
  {
   "cell_type": "code",
   "execution_count": 75,
   "id": "generic-treasure",
   "metadata": {},
   "outputs": [],
   "source": [
    "gtype_df = gtype_df.sort_values(['count'])"
   ]
  },
  {
   "cell_type": "code",
   "execution_count": 76,
   "id": "binary-investment",
   "metadata": {},
   "outputs": [
    {
     "data": {
      "image/png": "[encoded data removed]",
      "text/plain": [
       "<Figure size 1080x792 with 1 Axes>"
      ]
     },
     "metadata": {
      "needs_background": "light"
     },
     "output_type": "display_data"
    }
   ],
   "source": [
    "#plot:\n",
    "\n",
    "plt.figure(figsize = (15, 11))\n",
    "plt.rcParams['axes.facecolor'] = 'floralwhite'\n",
    "plt.barh('index', 'count', data = gtype_df, color = 'seagreen', align = 'edge', height = 0.9)\n",
    "plt.xlabel('Species Instances', fontweight = 'bold', fontsize = 16, color = 'black')\n",
    "plt.ylabel('Global Rank', fontweight = 'bold', fontsize = 16, color = 'black')\n",
    "plt.title('Species Instances by Global Rank', fontweight = 'bold', fontsize = 18, color = 'black')\n",
    "plt.xticks(rotation = 90, color = 'black')\n",
    "plt.yticks(color = 'black')\n",
    "\n",
    "for i in plt.barh('index', 'count', data = gtype_df, color = 'seagreen', align = 'edge', height = 0.9):  \n",
    "    plt.text(i.get_width()-0.0001*i.get_width(), i.get_y()+0.5,\n",
    "             str(round((i.get_width()), 2)),\n",
    "             fontsize = 12, fontweight = 'bold',\n",
    "             color ='black');"
   ]
  },
  {
   "cell_type": "markdown",
   "id": "refined-campus",
   "metadata": {},
   "source": [
    "Next, State rank:"
   ]
  },
  {
   "cell_type": "code",
   "execution_count": 77,
   "id": "turned-marathon",
   "metadata": {},
   "outputs": [],
   "source": [
    "stype_list = spec.State_Rank.tolist()"
   ]
  },
  {
   "cell_type": "code",
   "execution_count": 78,
   "id": "spatial-publicity",
   "metadata": {},
   "outputs": [],
   "source": [
    "stype_dict = collections.Counter(stype_list)"
   ]
  },
  {
   "cell_type": "code",
   "execution_count": 79,
   "id": "fallen-reservation",
   "metadata": {},
   "outputs": [],
   "source": [
    "stype_df = pd.DataFrame.from_dict(stype_dict, orient = 'index', columns = ['count'])"
   ]
  },
  {
   "cell_type": "code",
   "execution_count": 80,
   "id": "apparent-surface",
   "metadata": {},
   "outputs": [],
   "source": [
    "stype_df = stype_df.sort_values(['count'], ascending = False).reset_index(inplace = False)"
   ]
  },
  {
   "cell_type": "code",
   "execution_count": 81,
   "id": "remarkable-promotion",
   "metadata": {},
   "outputs": [],
   "source": [
    "stype_df = stype_df.sort_values(['count'], ascending = False).reset_index(inplace = False)"
   ]
  },
  {
   "cell_type": "code",
   "execution_count": 82,
   "id": "arranged-mission",
   "metadata": {},
   "outputs": [
    {
     "data": {
      "text/html": [
       "<div>\n",
       "<style scoped>\n",
       "    .dataframe tbody tr th:only-of-type {\n",
       "        vertical-align: middle;\n",
       "    }\n",
       "\n",
       "    .dataframe tbody tr th {\n",
       "        vertical-align: top;\n",
       "    }\n",
       "\n",
       "    .dataframe thead th {\n",
       "        text-align: right;\n",
       "    }\n",
       "</style>\n",
       "<table border=\"1\" class=\"dataframe\">\n",
       "  <thead>\n",
       "    <tr style=\"text-align: right;\">\n",
       "      <th></th>\n",
       "      <th>level_0</th>\n",
       "      <th>index</th>\n",
       "      <th>count</th>\n",
       "    </tr>\n",
       "  </thead>\n",
       "  <tbody>\n",
       "    <tr>\n",
       "      <th>0</th>\n",
       "      <td>0</td>\n",
       "      <td>S1</td>\n",
       "      <td>1401</td>\n",
       "    </tr>\n",
       "    <tr>\n",
       "      <th>1</th>\n",
       "      <td>1</td>\n",
       "      <td>S2</td>\n",
       "      <td>1208</td>\n",
       "    </tr>\n",
       "    <tr>\n",
       "      <th>2</th>\n",
       "      <td>2</td>\n",
       "      <td>S3</td>\n",
       "      <td>777</td>\n",
       "    </tr>\n",
       "    <tr>\n",
       "      <th>3</th>\n",
       "      <td>3</td>\n",
       "      <td>S2S3</td>\n",
       "      <td>350</td>\n",
       "    </tr>\n",
       "    <tr>\n",
       "      <th>4</th>\n",
       "      <td>4</td>\n",
       "      <td>S1S2</td>\n",
       "      <td>337</td>\n",
       "    </tr>\n",
       "    <tr>\n",
       "      <th>5</th>\n",
       "      <td>5</td>\n",
       "      <td>S3S4</td>\n",
       "      <td>85</td>\n",
       "    </tr>\n",
       "    <tr>\n",
       "      <th>6</th>\n",
       "      <td>6</td>\n",
       "      <td>SNR</td>\n",
       "      <td>73</td>\n",
       "    </tr>\n",
       "    <tr>\n",
       "      <th>7</th>\n",
       "      <td>7</td>\n",
       "      <td>S3B</td>\n",
       "      <td>37</td>\n",
       "    </tr>\n",
       "    <tr>\n",
       "      <th>8</th>\n",
       "      <td>8</td>\n",
       "      <td>S4</td>\n",
       "      <td>37</td>\n",
       "    </tr>\n",
       "    <tr>\n",
       "      <th>9</th>\n",
       "      <td>9</td>\n",
       "      <td>S2?</td>\n",
       "      <td>27</td>\n",
       "    </tr>\n",
       "    <tr>\n",
       "      <th>10</th>\n",
       "      <td>10</td>\n",
       "      <td>S1B</td>\n",
       "      <td>19</td>\n",
       "    </tr>\n",
       "    <tr>\n",
       "      <th>11</th>\n",
       "      <td>11</td>\n",
       "      <td>SH</td>\n",
       "      <td>18</td>\n",
       "    </tr>\n",
       "    <tr>\n",
       "      <th>12</th>\n",
       "      <td>12</td>\n",
       "      <td>S2B</td>\n",
       "      <td>15</td>\n",
       "    </tr>\n",
       "    <tr>\n",
       "      <th>13</th>\n",
       "      <td>13</td>\n",
       "      <td>S1?</td>\n",
       "      <td>15</td>\n",
       "    </tr>\n",
       "    <tr>\n",
       "      <th>14</th>\n",
       "      <td>14</td>\n",
       "      <td>S2B,S3N</td>\n",
       "      <td>5</td>\n",
       "    </tr>\n",
       "    <tr>\n",
       "      <th>15</th>\n",
       "      <td>15</td>\n",
       "      <td>S2S3B</td>\n",
       "      <td>5</td>\n",
       "    </tr>\n",
       "    <tr>\n",
       "      <th>16</th>\n",
       "      <td>16</td>\n",
       "      <td>S3?</td>\n",
       "      <td>5</td>\n",
       "    </tr>\n",
       "    <tr>\n",
       "      <th>17</th>\n",
       "      <td>17</td>\n",
       "      <td>S1B,S2N</td>\n",
       "      <td>4</td>\n",
       "    </tr>\n",
       "    <tr>\n",
       "      <th>18</th>\n",
       "      <td>18</td>\n",
       "      <td>S2S4</td>\n",
       "      <td>3</td>\n",
       "    </tr>\n",
       "    <tr>\n",
       "      <th>19</th>\n",
       "      <td>19</td>\n",
       "      <td>S1B,S4N</td>\n",
       "      <td>3</td>\n",
       "    </tr>\n",
       "    <tr>\n",
       "      <th>20</th>\n",
       "      <td>20</td>\n",
       "      <td>SX</td>\n",
       "      <td>1</td>\n",
       "    </tr>\n",
       "    <tr>\n",
       "      <th>21</th>\n",
       "      <td>21</td>\n",
       "      <td>SU</td>\n",
       "      <td>1</td>\n",
       "    </tr>\n",
       "    <tr>\n",
       "      <th>22</th>\n",
       "      <td>22</td>\n",
       "      <td>S1S3</td>\n",
       "      <td>1</td>\n",
       "    </tr>\n",
       "  </tbody>\n",
       "</table>\n",
       "</div>"
      ],
      "text/plain": [
       "    level_0    index  count\n",
       "0         0       S1   1401\n",
       "1         1       S2   1208\n",
       "2         2       S3    777\n",
       "3         3     S2S3    350\n",
       "4         4     S1S2    337\n",
       "5         5     S3S4     85\n",
       "6         6      SNR     73\n",
       "7         7      S3B     37\n",
       "8         8       S4     37\n",
       "9         9      S2?     27\n",
       "10       10      S1B     19\n",
       "11       11       SH     18\n",
       "12       12      S2B     15\n",
       "13       13      S1?     15\n",
       "14       14  S2B,S3N      5\n",
       "15       15    S2S3B      5\n",
       "16       16      S3?      5\n",
       "17       17  S1B,S2N      4\n",
       "18       18     S2S4      3\n",
       "19       19  S1B,S4N      3\n",
       "20       20       SX      1\n",
       "21       21       SU      1\n",
       "22       22     S1S3      1"
      ]
     },
     "execution_count": 82,
     "metadata": {},
     "output_type": "execute_result"
    }
   ],
   "source": [
    "stype_df"
   ]
  },
  {
   "cell_type": "code",
   "execution_count": 83,
   "id": "affected-train",
   "metadata": {},
   "outputs": [
    {
     "name": "stdout",
     "output_type": "stream",
     "text": [
      "<class 'pandas.core.frame.DataFrame'>\n",
      "RangeIndex: 23 entries, 0 to 22\n",
      "Data columns (total 3 columns):\n",
      " #   Column   Non-Null Count  Dtype \n",
      "---  ------   --------------  ----- \n",
      " 0   level_0  23 non-null     int64 \n",
      " 1   index    23 non-null     object\n",
      " 2   count    23 non-null     int64 \n",
      "dtypes: int64(2), object(1)\n",
      "memory usage: 680.0+ bytes\n"
     ]
    }
   ],
   "source": [
    "stype_df.info()"
   ]
  },
  {
   "cell_type": "code",
   "execution_count": 84,
   "id": "silent-shame",
   "metadata": {},
   "outputs": [],
   "source": [
    "stype_df = stype_df[(stype_df['level_0'].isin([0, 1, 2, 8, 4, 3, 5]))]"
   ]
  },
  {
   "cell_type": "code",
   "execution_count": 85,
   "id": "beneficial-writing",
   "metadata": {},
   "outputs": [],
   "source": [
    "stype_df = stype_df.sort_values(['count'])"
   ]
  },
  {
   "cell_type": "code",
   "execution_count": 86,
   "id": "dimensional-outline",
   "metadata": {},
   "outputs": [
    {
     "data": {
      "image/png": "[encoded data removed]",
      "text/plain": [
       "<Figure size 1080x792 with 1 Axes>"
      ]
     },
     "metadata": {
      "needs_background": "light"
     },
     "output_type": "display_data"
    }
   ],
   "source": [
    "#plot:\n",
    "\n",
    "plt.figure(figsize = (15, 11))\n",
    "plt.rcParams['axes.facecolor'] = 'floralwhite'\n",
    "plt.barh('index', 'count', data = stype_df, color = 'seagreen', align = 'edge', height = 0.9)\n",
    "plt.xlabel('Species Instances', fontweight = 'bold', fontsize = 16, color = 'black')\n",
    "plt.ylabel('State Rank', fontweight = 'bold', fontsize = 16, color = 'black')\n",
    "plt.title('Species Instances by State Rank', fontweight = 'bold', fontsize = 18, color = 'black')\n",
    "plt.xticks(rotation = 90, color = 'black')\n",
    "plt.yticks(color = 'black')\n",
    "\n",
    "for i in plt.barh('index', 'count', data = stype_df, color = 'seagreen', align = 'edge', height = 0.9):  \n",
    "    plt.text(i.get_width()-0.0001*i.get_width(), i.get_y()+0.5,\n",
    "             str(round((i.get_width()), 2)),\n",
    "             fontsize = 12, fontweight = 'bold',\n",
    "             color ='black');"
   ]
  },
  {
   "cell_type": "markdown",
   "id": "healthy-harris",
   "metadata": {},
   "source": [
    "Same process but with Federal Status:"
   ]
  },
  {
   "cell_type": "code",
   "execution_count": 87,
   "id": "complete-fifty",
   "metadata": {},
   "outputs": [],
   "source": [
    "fstat_list = spec.Fed_Status.tolist()"
   ]
  },
  {
   "cell_type": "code",
   "execution_count": 88,
   "id": "collective-malpractice",
   "metadata": {},
   "outputs": [],
   "source": [
    "fstat_dict = collections.Counter(fstat_list)"
   ]
  },
  {
   "cell_type": "code",
   "execution_count": 89,
   "id": "functioning-swimming",
   "metadata": {},
   "outputs": [],
   "source": [
    "fstat_df = pd.DataFrame.from_dict(fstat_dict, orient = 'index', columns = ['count'])"
   ]
  },
  {
   "cell_type": "code",
   "execution_count": 90,
   "id": "integral-mobility",
   "metadata": {},
   "outputs": [],
   "source": [
    "fstat_df = fstat_df.sort_values(['count']).reset_index(inplace = False)"
   ]
  },
  {
   "cell_type": "code",
   "execution_count": 91,
   "id": "latter-relations",
   "metadata": {},
   "outputs": [],
   "source": [
    "fstat_df = fstat_df.sort_values(['count']).reset_index(inplace = False)"
   ]
  },
  {
   "cell_type": "code",
   "execution_count": 92,
   "id": "demographic-photographer",
   "metadata": {},
   "outputs": [
    {
     "data": {
      "text/html": [
       "<div>\n",
       "<style scoped>\n",
       "    .dataframe tbody tr th:only-of-type {\n",
       "        vertical-align: middle;\n",
       "    }\n",
       "\n",
       "    .dataframe tbody tr th {\n",
       "        vertical-align: top;\n",
       "    }\n",
       "\n",
       "    .dataframe thead th {\n",
       "        text-align: right;\n",
       "    }\n",
       "</style>\n",
       "<table border=\"1\" class=\"dataframe\">\n",
       "  <thead>\n",
       "    <tr style=\"text-align: right;\">\n",
       "      <th></th>\n",
       "      <th>level_0</th>\n",
       "      <th>index</th>\n",
       "      <th>count</th>\n",
       "    </tr>\n",
       "  </thead>\n",
       "  <tbody>\n",
       "    <tr>\n",
       "      <th>0</th>\n",
       "      <td>0</td>\n",
       "      <td>SC</td>\n",
       "      <td>1</td>\n",
       "    </tr>\n",
       "    <tr>\n",
       "      <th>1</th>\n",
       "      <td>1</td>\n",
       "      <td>SAT</td>\n",
       "      <td>2</td>\n",
       "    </tr>\n",
       "    <tr>\n",
       "      <th>2</th>\n",
       "      <td>2</td>\n",
       "      <td>C</td>\n",
       "      <td>4</td>\n",
       "    </tr>\n",
       "    <tr>\n",
       "      <th>3</th>\n",
       "      <td>3</td>\n",
       "      <td>LT, XN</td>\n",
       "      <td>6</td>\n",
       "    </tr>\n",
       "    <tr>\n",
       "      <th>4</th>\n",
       "      <td>4</td>\n",
       "      <td>LT,XN</td>\n",
       "      <td>20</td>\n",
       "    </tr>\n",
       "    <tr>\n",
       "      <th>5</th>\n",
       "      <td>5</td>\n",
       "      <td>LE,XN</td>\n",
       "      <td>20</td>\n",
       "    </tr>\n",
       "    <tr>\n",
       "      <th>6</th>\n",
       "      <td>6</td>\n",
       "      <td>DM</td>\n",
       "      <td>21</td>\n",
       "    </tr>\n",
       "    <tr>\n",
       "      <th>7</th>\n",
       "      <td>7</td>\n",
       "      <td>No Status</td>\n",
       "      <td>48</td>\n",
       "    </tr>\n",
       "    <tr>\n",
       "      <th>8</th>\n",
       "      <td>8</td>\n",
       "      <td>LT</td>\n",
       "      <td>113</td>\n",
       "    </tr>\n",
       "    <tr>\n",
       "      <th>9</th>\n",
       "      <td>9</td>\n",
       "      <td>LE, XN</td>\n",
       "      <td>170</td>\n",
       "    </tr>\n",
       "    <tr>\n",
       "      <th>10</th>\n",
       "      <td>10</td>\n",
       "      <td>LE</td>\n",
       "      <td>339</td>\n",
       "    </tr>\n",
       "    <tr>\n",
       "      <th>11</th>\n",
       "      <td>11</td>\n",
       "      <td>--</td>\n",
       "      <td>3683</td>\n",
       "    </tr>\n",
       "  </tbody>\n",
       "</table>\n",
       "</div>"
      ],
      "text/plain": [
       "    level_0      index  count\n",
       "0         0         SC      1\n",
       "1         1        SAT      2\n",
       "2         2          C      4\n",
       "3         3     LT, XN      6\n",
       "4         4      LT,XN     20\n",
       "5         5      LE,XN     20\n",
       "6         6         DM     21\n",
       "7         7  No Status     48\n",
       "8         8         LT    113\n",
       "9         9     LE, XN    170\n",
       "10       10         LE    339\n",
       "11       11         --   3683"
      ]
     },
     "execution_count": 92,
     "metadata": {},
     "output_type": "execute_result"
    }
   ],
   "source": [
    "fstat_df"
   ]
  },
  {
   "cell_type": "code",
   "execution_count": 93,
   "id": "dramatic-diagnosis",
   "metadata": {},
   "outputs": [],
   "source": [
    "fstat_df = fstat_df[(fstat_df['level_0'].isin([8, 10]))]"
   ]
  },
  {
   "cell_type": "code",
   "execution_count": 94,
   "id": "approved-fraud",
   "metadata": {},
   "outputs": [
    {
     "data": {
      "text/html": [
       "<div>\n",
       "<style scoped>\n",
       "    .dataframe tbody tr th:only-of-type {\n",
       "        vertical-align: middle;\n",
       "    }\n",
       "\n",
       "    .dataframe tbody tr th {\n",
       "        vertical-align: top;\n",
       "    }\n",
       "\n",
       "    .dataframe thead th {\n",
       "        text-align: right;\n",
       "    }\n",
       "</style>\n",
       "<table border=\"1\" class=\"dataframe\">\n",
       "  <thead>\n",
       "    <tr style=\"text-align: right;\">\n",
       "      <th></th>\n",
       "      <th>level_0</th>\n",
       "      <th>index</th>\n",
       "      <th>count</th>\n",
       "    </tr>\n",
       "  </thead>\n",
       "  <tbody>\n",
       "    <tr>\n",
       "      <th>8</th>\n",
       "      <td>8</td>\n",
       "      <td>LT</td>\n",
       "      <td>113</td>\n",
       "    </tr>\n",
       "    <tr>\n",
       "      <th>10</th>\n",
       "      <td>10</td>\n",
       "      <td>LE</td>\n",
       "      <td>339</td>\n",
       "    </tr>\n",
       "  </tbody>\n",
       "</table>\n",
       "</div>"
      ],
      "text/plain": [
       "    level_0 index  count\n",
       "8         8    LT    113\n",
       "10       10    LE    339"
      ]
     },
     "execution_count": 94,
     "metadata": {},
     "output_type": "execute_result"
    }
   ],
   "source": [
    "fstat_df"
   ]
  },
  {
   "cell_type": "code",
   "execution_count": 95,
   "id": "universal-thread",
   "metadata": {},
   "outputs": [
    {
     "data": {
      "image/png": "[encoded data removed]",
      "text/plain": [
       "<Figure size 1080x792 with 1 Axes>"
      ]
     },
     "metadata": {
      "needs_background": "light"
     },
     "output_type": "display_data"
    }
   ],
   "source": [
    "#plot:\n",
    "\n",
    "plt.figure(figsize = (15, 11))\n",
    "plt.rcParams['axes.facecolor'] = 'floralwhite'\n",
    "plt.barh('index', 'count', data = fstat_df, color = 'seagreen', align = 'edge', height = 0.9)\n",
    "plt.xlabel('Species Instances', fontweight = 'bold', fontsize = 16, color = 'black')\n",
    "plt.ylabel('Federal Status', fontweight = 'bold', fontsize = 16, color = 'black')\n",
    "plt.title('Species Instances by Federal Status', fontweight = 'bold', fontsize = 18, color = 'black')\n",
    "plt.xticks(rotation = 90, color = 'black')\n",
    "plt.yticks(color = 'black')\n",
    "\n",
    "for i in plt.barh('index', 'count', data = fstat_df, color = 'seagreen', align = 'edge', height = 0.9):  \n",
    "    plt.text(i.get_width()-0.0001*i.get_width(), i.get_y()+0.5,\n",
    "             str(round((i.get_width()), 2)),\n",
    "             fontsize = 12, fontweight = 'bold',\n",
    "             color ='black');"
   ]
  },
  {
   "cell_type": "markdown",
   "id": "liable-citizenship",
   "metadata": {},
   "source": [
    "Next: Type"
   ]
  },
  {
   "cell_type": "code",
   "execution_count": 96,
   "id": "annual-underwear",
   "metadata": {},
   "outputs": [],
   "source": [
    "type_list = spec.Type.tolist()"
   ]
  },
  {
   "cell_type": "code",
   "execution_count": 97,
   "id": "underlying-system",
   "metadata": {},
   "outputs": [],
   "source": [
    "type_dict = collections.Counter(type_list)"
   ]
  },
  {
   "cell_type": "code",
   "execution_count": 98,
   "id": "destroyed-newark",
   "metadata": {},
   "outputs": [],
   "source": [
    "type_df = pd.DataFrame.from_dict(type_dict, orient = 'index', columns = ['count'])"
   ]
  },
  {
   "cell_type": "code",
   "execution_count": 99,
   "id": "expanded-rates",
   "metadata": {},
   "outputs": [],
   "source": [
    "type_df = type_df.sort_values(['count']).reset_index(inplace = False)"
   ]
  },
  {
   "cell_type": "code",
   "execution_count": 100,
   "id": "excessive-jewel",
   "metadata": {},
   "outputs": [],
   "source": [
    "type_df = type_df.sort_values(['count']).reset_index(inplace = False)"
   ]
  },
  {
   "cell_type": "code",
   "execution_count": 101,
   "id": "static-benjamin",
   "metadata": {},
   "outputs": [
    {
     "data": {
      "text/html": [
       "<div>\n",
       "<style scoped>\n",
       "    .dataframe tbody tr th:only-of-type {\n",
       "        vertical-align: middle;\n",
       "    }\n",
       "\n",
       "    .dataframe tbody tr th {\n",
       "        vertical-align: top;\n",
       "    }\n",
       "\n",
       "    .dataframe thead th {\n",
       "        text-align: right;\n",
       "    }\n",
       "</style>\n",
       "<table border=\"1\" class=\"dataframe\">\n",
       "  <thead>\n",
       "    <tr style=\"text-align: right;\">\n",
       "      <th></th>\n",
       "      <th>level_0</th>\n",
       "      <th>index</th>\n",
       "      <th>count</th>\n",
       "    </tr>\n",
       "  </thead>\n",
       "  <tbody>\n",
       "    <tr>\n",
       "      <th>0</th>\n",
       "      <td>0</td>\n",
       "      <td>Fungus</td>\n",
       "      <td>4</td>\n",
       "    </tr>\n",
       "    <tr>\n",
       "      <th>1</th>\n",
       "      <td>1</td>\n",
       "      <td>International Terrestrial Ecological System Cl...</td>\n",
       "      <td>31</td>\n",
       "    </tr>\n",
       "    <tr>\n",
       "      <th>2</th>\n",
       "      <td>2</td>\n",
       "      <td>Animal Assemblage</td>\n",
       "      <td>42</td>\n",
       "    </tr>\n",
       "    <tr>\n",
       "      <th>3</th>\n",
       "      <td>3</td>\n",
       "      <td>International Vegetation Classification - Natural</td>\n",
       "      <td>43</td>\n",
       "    </tr>\n",
       "    <tr>\n",
       "      <th>4</th>\n",
       "      <td>4</td>\n",
       "      <td>Nonvascular Plant</td>\n",
       "      <td>121</td>\n",
       "    </tr>\n",
       "    <tr>\n",
       "      <th>5</th>\n",
       "      <td>5</td>\n",
       "      <td>Invertebrate Animal</td>\n",
       "      <td>984</td>\n",
       "    </tr>\n",
       "    <tr>\n",
       "      <th>6</th>\n",
       "      <td>6</td>\n",
       "      <td>Vertebrate Animal</td>\n",
       "      <td>1241</td>\n",
       "    </tr>\n",
       "    <tr>\n",
       "      <th>7</th>\n",
       "      <td>7</td>\n",
       "      <td>Vascular Plant</td>\n",
       "      <td>1961</td>\n",
       "    </tr>\n",
       "  </tbody>\n",
       "</table>\n",
       "</div>"
      ],
      "text/plain": [
       "   level_0                                              index  count\n",
       "0        0                                             Fungus      4\n",
       "1        1  International Terrestrial Ecological System Cl...     31\n",
       "2        2                                  Animal Assemblage     42\n",
       "3        3  International Vegetation Classification - Natural     43\n",
       "4        4                                  Nonvascular Plant    121\n",
       "5        5                                Invertebrate Animal    984\n",
       "6        6                                  Vertebrate Animal   1241\n",
       "7        7                                     Vascular Plant   1961"
      ]
     },
     "execution_count": 101,
     "metadata": {},
     "output_type": "execute_result"
    }
   ],
   "source": [
    "type_df"
   ]
  },
  {
   "cell_type": "code",
   "execution_count": 102,
   "id": "sexual-holder",
   "metadata": {},
   "outputs": [],
   "source": [
    "type_df = type_df[(type_df['level_0'].isin([0, 2, 4, 5, 6, 7]))]"
   ]
  },
  {
   "cell_type": "code",
   "execution_count": 103,
   "id": "flexible-exception",
   "metadata": {},
   "outputs": [
    {
     "data": {
      "image/png": "[encoded data removed]",
      "text/plain": [
       "<Figure size 1080x792 with 1 Axes>"
      ]
     },
     "metadata": {
      "needs_background": "light"
     },
     "output_type": "display_data"
    }
   ],
   "source": [
    "#plot:\n",
    "\n",
    "plt.figure(figsize = (15, 11))\n",
    "plt.rcParams['axes.facecolor'] = 'floralwhite'\n",
    "plt.barh('index', 'count', data = type_df, color = 'seagreen', align = 'edge', height = 0.9)\n",
    "plt.xlabel('Species Instances', fontweight = 'bold', fontsize = 16, color = 'black')\n",
    "plt.ylabel('Type', fontweight = 'bold', fontsize = 16, color = 'floralwhite')\n",
    "plt.title('Species Instances by Type', fontweight = 'bold', fontsize = 18, color = 'black')\n",
    "plt.xticks(rotation = 90, color = 'black')\n",
    "plt.yticks(rotation = 45, color = 'black')\n",
    "\n",
    "for i in plt.barh('index', 'count', data = type_df, color = 'seagreen', align = 'edge', height = 0.9):  \n",
    "    plt.text(i.get_width()-0.0001*i.get_width(), i.get_y()+0.5,\n",
    "             str(round((i.get_width()), 2)),\n",
    "             fontsize = 12, fontweight = 'bold',\n",
    "             color ='black');"
   ]
  },
  {
   "cell_type": "markdown",
   "id": "accepted-triumph",
   "metadata": {},
   "source": [
    "Now with Category:"
   ]
  },
  {
   "cell_type": "code",
   "execution_count": 104,
   "id": "blond-siemens",
   "metadata": {},
   "outputs": [],
   "source": [
    "cat_list = spec.Category.tolist()"
   ]
  },
  {
   "cell_type": "code",
   "execution_count": 105,
   "id": "convinced-mortality",
   "metadata": {},
   "outputs": [],
   "source": [
    "cat_dict = collections.Counter(cat_list)"
   ]
  },
  {
   "cell_type": "code",
   "execution_count": 106,
   "id": "continuing-leisure",
   "metadata": {},
   "outputs": [],
   "source": [
    "cat_df = pd.DataFrame.from_dict(cat_dict, orient = 'index', columns = ['count'])"
   ]
  },
  {
   "cell_type": "code",
   "execution_count": 107,
   "id": "allied-valve",
   "metadata": {},
   "outputs": [],
   "source": [
    "cat_df = cat_df.sort_values(['count']).reset_index(inplace = False)"
   ]
  },
  {
   "cell_type": "code",
   "execution_count": 108,
   "id": "ethical-storm",
   "metadata": {},
   "outputs": [
    {
     "data": {
      "image/png": "[encoded data removed]",
      "text/plain": [
       "<Figure size 1080x792 with 1 Axes>"
      ]
     },
     "metadata": {
      "needs_background": "light"
     },
     "output_type": "display_data"
    }
   ],
   "source": [
    "#plot:\n",
    "\n",
    "plt.figure(figsize = (15, 11))\n",
    "plt.rcParams['axes.facecolor'] = 'floralwhite'\n",
    "plt.barh('index', 'count', data = cat_df, color = 'seagreen', align = 'edge', height = 0.9)\n",
    "plt.xlabel('Species Instances', fontweight = 'bold', fontsize = 16, color = 'black')\n",
    "plt.ylabel('Category', fontweight = 'bold', fontsize = 16, color = 'black')\n",
    "plt.title('Species Instances by Category', fontweight = 'bold', fontsize = 18, color = 'black')\n",
    "plt.xticks(rotation = 90, color = 'black')\n",
    "plt.yticks(color = 'black')\n",
    "\n",
    "for i in plt.barh('index', 'count', data = cat_df, color = 'seagreen', align = 'edge', height = 0.9):  \n",
    "    plt.text(i.get_width()-0.0001*i.get_width(), i.get_y()+0.5,\n",
    "             str(round((i.get_width()), 2)),\n",
    "             fontsize = 12, fontweight = 'bold',\n",
    "             color ='black');"
   ]
  },
  {
   "cell_type": "markdown",
   "id": "abandoned-patent",
   "metadata": {},
   "source": [
    "Now, habitat types:"
   ]
  },
  {
   "cell_type": "code",
   "execution_count": 109,
   "id": "received-columbus",
   "metadata": {},
   "outputs": [],
   "source": [
    "hab_list = spec.Wet_Habitat_Flag.tolist()"
   ]
  },
  {
   "cell_type": "code",
   "execution_count": 110,
   "id": "superior-extension",
   "metadata": {},
   "outputs": [],
   "source": [
    "hab_dict = collections.Counter(hab_list)"
   ]
  },
  {
   "cell_type": "code",
   "execution_count": 111,
   "id": "brown-confirmation",
   "metadata": {},
   "outputs": [],
   "source": [
    "hab_df = pd.DataFrame.from_dict(hab_dict, orient = 'index', columns = ['count'])"
   ]
  },
  {
   "cell_type": "code",
   "execution_count": 112,
   "id": "charming-maria",
   "metadata": {},
   "outputs": [],
   "source": [
    "hab_df = hab_df.sort_values(['count']).reset_index(inplace = False)"
   ]
  },
  {
   "cell_type": "code",
   "execution_count": 113,
   "id": "historic-sellers",
   "metadata": {},
   "outputs": [
    {
     "data": {
      "image/png": "[encoded data removed]",
      "text/plain": [
       "<Figure size 1080x792 with 1 Axes>"
      ]
     },
     "metadata": {
      "needs_background": "light"
     },
     "output_type": "display_data"
    }
   ],
   "source": [
    "#plot:\n",
    "\n",
    "plt.figure(figsize = (15, 11))\n",
    "plt.rcParams['axes.facecolor'] = 'floralwhite'\n",
    "plt.barh('index', 'count', data = hab_df, color = 'seagreen', align = 'edge', height = 0.9)\n",
    "plt.xlabel('Species Instances', fontweight = 'bold', fontsize = 16, color = 'black')\n",
    "plt.ylabel('Habitat Flag', fontweight = 'bold', fontsize = 16, color = 'black')\n",
    "plt.title('Species Instances by Habitat Flag', fontweight = 'bold', fontsize = 18, color = 'black')\n",
    "plt.xticks(rotation = 90, color = 'black')\n",
    "plt.yticks(color = 'black')\n",
    "\n",
    "for i in plt.barh('index', 'count', data = hab_df, color = 'seagreen', align = 'edge', height = 0.9):  \n",
    "    plt.text(i.get_width()-0.0001*i.get_width(), i.get_y()+0.5,\n",
    "             str(round((i.get_width()), 2)),\n",
    "             fontsize = 12, fontweight = 'bold',\n",
    "             color ='black');"
   ]
  }
 ],
 "metadata": {
  "kernelspec": {
   "display_name": "Python 3",
   "language": "python",
   "name": "python3"
  },
  "language_info": {
   "codemirror_mode": {
    "name": "ipython",
    "version": 3
   },
   "file_extension": ".py",
   "mimetype": "text/x-python",
   "name": "python",
   "nbconvert_exporter": "python",
   "pygments_lexer": "ipython3",
   "version": "3.8.5"
  }
 },
 "nbformat": 4,
 "nbformat_minor": 5
}
