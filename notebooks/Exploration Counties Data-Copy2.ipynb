{
 "cells": [
  {
   "cell_type": "code",
   "execution_count": 1,
   "id": "welsh-award",
   "metadata": {},
   "outputs": [],
   "source": [
    "import addfips\n",
    "import requests\n",
    "import matplotlib.pyplot as plt\n",
    "from IPython.display import Image\n",
    "import folium\n",
    "import pickle\n",
    "import pandas as pd\n",
    "from shapely.geometry import Point\n",
    "import geopandas as gpd\n",
    "from folium.plugins import MarkerCluster\n",
    "from folium.plugins import FastMarkerCluster\n",
    "import pyproj\n",
    "import collections\n",
    "\n",
    "%matplotlib inline"
   ]
  },
  {
   "cell_type": "markdown",
   "id": "trained-estate",
   "metadata": {},
   "source": [
    "#### Bring in the counties shapefile"
   ]
  },
  {
   "cell_type": "code",
   "execution_count": 2,
   "id": "nasty-slovakia",
   "metadata": {},
   "outputs": [
    {
     "name": "stdout",
     "output_type": "stream",
     "text": [
      "epsg:2274\n"
     ]
    },
    {
     "data": {
      "text/html": [
       "<div>\n",
       "<style scoped>\n",
       "    .dataframe tbody tr th:only-of-type {\n",
       "        vertical-align: middle;\n",
       "    }\n",
       "\n",
       "    .dataframe tbody tr th {\n",
       "        vertical-align: top;\n",
       "    }\n",
       "\n",
       "    .dataframe thead th {\n",
       "        text-align: right;\n",
       "    }\n",
       "</style>\n",
       "<table border=\"1\" class=\"dataframe\">\n",
       "  <thead>\n",
       "    <tr style=\"text-align: right;\">\n",
       "      <th></th>\n",
       "      <th>OBJECTID</th>\n",
       "      <th>NAME</th>\n",
       "      <th>KEY</th>\n",
       "      <th>SHAPE_AREA</th>\n",
       "      <th>SHAPE_LEN</th>\n",
       "      <th>geometry</th>\n",
       "    </tr>\n",
       "  </thead>\n",
       "  <tbody>\n",
       "    <tr>\n",
       "      <th>0</th>\n",
       "      <td>76</td>\n",
       "      <td>Chester</td>\n",
       "      <td>47023</td>\n",
       "      <td>8.049024e+09</td>\n",
       "      <td>520461.080124</td>\n",
       "      <td>POLYGON ((1137985.762 344601.643, 1137965.070 ...</td>\n",
       "    </tr>\n",
       "    <tr>\n",
       "      <th>1</th>\n",
       "      <td>77</td>\n",
       "      <td>Wayne</td>\n",
       "      <td>47181</td>\n",
       "      <td>2.050741e+10</td>\n",
       "      <td>666520.678598</td>\n",
       "      <td>POLYGON ((1365052.057 391716.806, 1365746.554 ...</td>\n",
       "    </tr>\n",
       "    <tr>\n",
       "      <th>2</th>\n",
       "      <td>78</td>\n",
       "      <td>Tipton</td>\n",
       "      <td>47167</td>\n",
       "      <td>1.319125e+10</td>\n",
       "      <td>865093.887634</td>\n",
       "      <td>MULTIPOLYGON (((886814.330 400456.525, 886774....</td>\n",
       "    </tr>\n",
       "    <tr>\n",
       "      <th>3</th>\n",
       "      <td>79</td>\n",
       "      <td>Hamilton</td>\n",
       "      <td>47065</td>\n",
       "      <td>1.604776e+10</td>\n",
       "      <td>652926.001078</td>\n",
       "      <td>POLYGON ((2274954.438 239788.911, 2274090.610 ...</td>\n",
       "    </tr>\n",
       "    <tr>\n",
       "      <th>4</th>\n",
       "      <td>80</td>\n",
       "      <td>Stewart</td>\n",
       "      <td>47161</td>\n",
       "      <td>1.375003e+10</td>\n",
       "      <td>490090.336180</td>\n",
       "      <td>POLYGON ((1382472.783 743972.302, 1382445.171 ...</td>\n",
       "    </tr>\n",
       "  </tbody>\n",
       "</table>\n",
       "</div>"
      ],
      "text/plain": [
       "   OBJECTID      NAME    KEY    SHAPE_AREA      SHAPE_LEN  \\\n",
       "0        76   Chester  47023  8.049024e+09  520461.080124   \n",
       "1        77     Wayne  47181  2.050741e+10  666520.678598   \n",
       "2        78    Tipton  47167  1.319125e+10  865093.887634   \n",
       "3        79  Hamilton  47065  1.604776e+10  652926.001078   \n",
       "4        80   Stewart  47161  1.375003e+10  490090.336180   \n",
       "\n",
       "                                            geometry  \n",
       "0  POLYGON ((1137985.762 344601.643, 1137965.070 ...  \n",
       "1  POLYGON ((1365052.057 391716.806, 1365746.554 ...  \n",
       "2  MULTIPOLYGON (((886814.330 400456.525, 886774....  \n",
       "3  POLYGON ((2274954.438 239788.911, 2274090.610 ...  \n",
       "4  POLYGON ((1382472.783 743972.302, 1382445.171 ...  "
      ]
     },
     "execution_count": 2,
     "metadata": {},
     "output_type": "execute_result"
    }
   ],
   "source": [
    "counties = gpd.read_file('../data/counties/tncounty.shp')\n",
    "print(counties.crs)\n",
    "counties.head()"
   ]
  },
  {
   "cell_type": "code",
   "execution_count": 3,
   "id": "mobile-switch",
   "metadata": {},
   "outputs": [
    {
     "data": {
      "text/plain": [
       "<Projected CRS: EPSG:2274>\n",
       "Name: NAD83 / Tennessee (ftUS)\n",
       "Axis Info [cartesian]:\n",
       "- X[east]: Easting (US survey foot)\n",
       "- Y[north]: Northing (US survey foot)\n",
       "Area of Use:\n",
       "- name: USA - Tennessee\n",
       "- bounds: (-90.31, 34.98, -81.65, 36.68)\n",
       "Coordinate Operation:\n",
       "- name: SPCS83 Tennessee zone (US Survey feet)\n",
       "- method: Lambert Conic Conformal (2SP)\n",
       "Datum: North American Datum 1983\n",
       "- Ellipsoid: GRS 1980\n",
       "- Prime Meridian: Greenwich"
      ]
     },
     "execution_count": 3,
     "metadata": {},
     "output_type": "execute_result"
    }
   ],
   "source": [
    "counties.crs"
   ]
  },
  {
   "cell_type": "markdown",
   "id": "romance-source",
   "metadata": {},
   "source": [
    "##### I know the other shapefiles I have have NAD83 datum... we'll see how they all go together"
   ]
  },
  {
   "cell_type": "markdown",
   "id": "mounted-brief",
   "metadata": {},
   "source": [
    "#### Bring in the county level species data"
   ]
  },
  {
   "cell_type": "code",
   "execution_count": 4,
   "id": "aggregate-retrieval",
   "metadata": {},
   "outputs": [],
   "source": [
    "spec = pd.read_csv('../data/rare_species_by_county.csv')"
   ]
  },
  {
   "cell_type": "code",
   "execution_count": 5,
   "id": "exotic-promotion",
   "metadata": {},
   "outputs": [
    {
     "data": {
      "text/html": [
       "<div>\n",
       "<style scoped>\n",
       "    .dataframe tbody tr th:only-of-type {\n",
       "        vertical-align: middle;\n",
       "    }\n",
       "\n",
       "    .dataframe tbody tr th {\n",
       "        vertical-align: top;\n",
       "    }\n",
       "\n",
       "    .dataframe thead th {\n",
       "        text-align: right;\n",
       "    }\n",
       "</style>\n",
       "<table border=\"1\" class=\"dataframe\">\n",
       "  <thead>\n",
       "    <tr style=\"text-align: right;\">\n",
       "      <th></th>\n",
       "      <th>County</th>\n",
       "      <th>Type</th>\n",
       "      <th>Category</th>\n",
       "      <th>Scientific Name</th>\n",
       "      <th>Common Name</th>\n",
       "      <th>Global Rank</th>\n",
       "      <th>State Rank</th>\n",
       "      <th>Fed. Status</th>\n",
       "      <th>State Status</th>\n",
       "      <th>Habitat</th>\n",
       "      <th>Wet Habitat Flag</th>\n",
       "    </tr>\n",
       "  </thead>\n",
       "  <tbody>\n",
       "    <tr>\n",
       "      <th>0</th>\n",
       "      <td>Anderson</td>\n",
       "      <td>Invertebrate Animal</td>\n",
       "      <td>Arachnid</td>\n",
       "      <td>Hesperochernes mirabilis</td>\n",
       "      <td>Southeastern Cave Pseudoscorpion</td>\n",
       "      <td>G5</td>\n",
       "      <td>S3</td>\n",
       "      <td>--</td>\n",
       "      <td>Rare, Not State Listed</td>\n",
       "      <td>Terrestrial cave obligate; woodrat debris in c...</td>\n",
       "      <td>Upland</td>\n",
       "    </tr>\n",
       "    <tr>\n",
       "      <th>1</th>\n",
       "      <td>Anderson</td>\n",
       "      <td>Invertebrate Animal</td>\n",
       "      <td>Mollusc</td>\n",
       "      <td>Cyprogenia stegaria</td>\n",
       "      <td>Fanshell</td>\n",
       "      <td>G1</td>\n",
       "      <td>S1</td>\n",
       "      <td>LE, XN</td>\n",
       "      <td>E</td>\n",
       "      <td>Medium to large streams and rivers with coarse...</td>\n",
       "      <td>Aquatic</td>\n",
       "    </tr>\n",
       "    <tr>\n",
       "      <th>2</th>\n",
       "      <td>Anderson</td>\n",
       "      <td>Vertebrate Animal</td>\n",
       "      <td>Bird</td>\n",
       "      <td>Limnothlypis swainsonii</td>\n",
       "      <td>Swainson's Warbler</td>\n",
       "      <td>G4</td>\n",
       "      <td>S3</td>\n",
       "      <td>--</td>\n",
       "      <td>D</td>\n",
       "      <td>Mature, rich, damp, deciduous floodplain and s...</td>\n",
       "      <td>Possible</td>\n",
       "    </tr>\n",
       "    <tr>\n",
       "      <th>3</th>\n",
       "      <td>Anderson</td>\n",
       "      <td>Vertebrate Animal</td>\n",
       "      <td>Reptile</td>\n",
       "      <td>Ophisaurus attenuatus longicaudus</td>\n",
       "      <td>Eastern Slender Glass Lizard</td>\n",
       "      <td>G5T5</td>\n",
       "      <td>S3</td>\n",
       "      <td>--</td>\n",
       "      <td>D</td>\n",
       "      <td>Dry upland areas including brushy, cut-over wo...</td>\n",
       "      <td>Upland</td>\n",
       "    </tr>\n",
       "    <tr>\n",
       "      <th>4</th>\n",
       "      <td>Anderson</td>\n",
       "      <td>Vertebrate Animal</td>\n",
       "      <td>Bird</td>\n",
       "      <td>Vermivora chrysoptera</td>\n",
       "      <td>Golden-winged Warbler</td>\n",
       "      <td>G4</td>\n",
       "      <td>S3B</td>\n",
       "      <td>--</td>\n",
       "      <td>T</td>\n",
       "      <td>Early successional habitats in foothill region...</td>\n",
       "      <td>Upland</td>\n",
       "    </tr>\n",
       "  </tbody>\n",
       "</table>\n",
       "</div>"
      ],
      "text/plain": [
       "     County                 Type  Category                    Scientific Name  \\\n",
       "0  Anderson  Invertebrate Animal  Arachnid           Hesperochernes mirabilis   \n",
       "1  Anderson  Invertebrate Animal   Mollusc                Cyprogenia stegaria   \n",
       "2  Anderson    Vertebrate Animal      Bird            Limnothlypis swainsonii   \n",
       "3  Anderson    Vertebrate Animal   Reptile  Ophisaurus attenuatus longicaudus   \n",
       "4  Anderson    Vertebrate Animal      Bird              Vermivora chrysoptera   \n",
       "\n",
       "                        Common Name Global Rank State Rank Fed. Status  \\\n",
       "0  Southeastern Cave Pseudoscorpion          G5         S3          --   \n",
       "1                          Fanshell          G1         S1      LE, XN   \n",
       "2                Swainson's Warbler          G4         S3          --   \n",
       "3      Eastern Slender Glass Lizard        G5T5         S3          --   \n",
       "4             Golden-winged Warbler          G4        S3B          --   \n",
       "\n",
       "             State Status                                            Habitat  \\\n",
       "0  Rare, Not State Listed  Terrestrial cave obligate; woodrat debris in c...   \n",
       "1                       E  Medium to large streams and rivers with coarse...   \n",
       "2                       D  Mature, rich, damp, deciduous floodplain and s...   \n",
       "3                       D  Dry upland areas including brushy, cut-over wo...   \n",
       "4                       T  Early successional habitats in foothill region...   \n",
       "\n",
       "  Wet Habitat Flag  \n",
       "0           Upland  \n",
       "1          Aquatic  \n",
       "2         Possible  \n",
       "3           Upland  \n",
       "4           Upland  "
      ]
     },
     "execution_count": 5,
     "metadata": {},
     "output_type": "execute_result"
    }
   ],
   "source": [
    "spec.head()"
   ]
  },
  {
   "cell_type": "markdown",
   "id": "solid-namibia",
   "metadata": {},
   "source": [
    "##### Rename columns with no spaces, create a column that makes it easy to sum instances, \"summer\" and group by County"
   ]
  },
  {
   "cell_type": "code",
   "execution_count": 6,
   "id": "dietary-bronze",
   "metadata": {},
   "outputs": [],
   "source": [
    "spec.columns = ['County', 'Type', 'Category', 'Scientific_Name', 'Common_Name', \n",
    "               'Global_Rank', 'State_Rank', 'Fed_Status', 'State_Status', 'Habitat', 'Wet_Habitat_Flag']"
   ]
  },
  {
   "cell_type": "code",
   "execution_count": 7,
   "id": "colonial-accused",
   "metadata": {},
   "outputs": [],
   "source": [
    "species_list = spec['Common_Name'].value_counts()"
   ]
  },
  {
   "cell_type": "code",
   "execution_count": 8,
   "id": "located-bowling",
   "metadata": {},
   "outputs": [],
   "source": [
    "spec['summer'] = 1"
   ]
  },
  {
   "cell_type": "code",
   "execution_count": 9,
   "id": "differential-yemen",
   "metadata": {},
   "outputs": [],
   "source": [
    "allspec_bycounty = spec.groupby(['County']).agg({'summer': sum})"
   ]
  },
  {
   "cell_type": "markdown",
   "id": "special-dealing",
   "metadata": {},
   "source": [
    "##### Join the geometry from original counties file"
   ]
  },
  {
   "cell_type": "markdown",
   "id": "internal-biography",
   "metadata": {},
   "source": [
    "#### How many of each of the ranks are we seeing in the whole state?"
   ]
  },
  {
   "cell_type": "markdown",
   "id": "surface-bookmark",
   "metadata": {},
   "source": [
    "First, global rank:"
   ]
  },
  {
   "cell_type": "code",
   "execution_count": 10,
   "id": "specific-prospect",
   "metadata": {},
   "outputs": [
    {
     "data": {
      "text/plain": [
       "0          G5\n",
       "1          G1\n",
       "2          G4\n",
       "3        G5T5\n",
       "4          G4\n",
       "        ...  \n",
       "4422      G3Q\n",
       "4423       G5\n",
       "4424    G5T4?\n",
       "4425       G5\n",
       "4426       G1\n",
       "Name: Global_Rank, Length: 4427, dtype: object"
      ]
     },
     "execution_count": 10,
     "metadata": {},
     "output_type": "execute_result"
    }
   ],
   "source": [
    "spec.Global_Rank"
   ]
  },
  {
   "cell_type": "code",
   "execution_count": 11,
   "id": "threaded-cyprus",
   "metadata": {},
   "outputs": [],
   "source": [
    "gtype_list = spec.Global_Rank.tolist()"
   ]
  },
  {
   "cell_type": "code",
   "execution_count": 12,
   "id": "amber-composite",
   "metadata": {},
   "outputs": [
    {
     "data": {
      "text/plain": [
       "list"
      ]
     },
     "execution_count": 12,
     "metadata": {},
     "output_type": "execute_result"
    }
   ],
   "source": [
    "type(gtype_list)"
   ]
  },
  {
   "cell_type": "code",
   "execution_count": 13,
   "id": "thirty-newspaper",
   "metadata": {},
   "outputs": [
    {
     "data": {
      "text/plain": [
       "Counter({'G5': 1098,\n",
       "         'G1': 433,\n",
       "         'G4': 602,\n",
       "         'G5T5': 56,\n",
       "         'G1G2': 133,\n",
       "         'G3': 697,\n",
       "         'G3G4': 297,\n",
       "         'GNR': 71,\n",
       "         'G2G3': 253,\n",
       "         'G4T4': 34,\n",
       "         'G3G5': 17,\n",
       "         'G4?T4Q': 11,\n",
       "         'G2': 267,\n",
       "         'G3?': 22,\n",
       "         'G4G5': 138,\n",
       "         'G3G4T3': 14,\n",
       "         'G2?': 18,\n",
       "         'G2Q': 15,\n",
       "         'G3QT3Q': 17,\n",
       "         'G5T3Q': 13,\n",
       "         'G5T4?': 8,\n",
       "         'G4?': 41,\n",
       "         'G5T4Q': 5,\n",
       "         'G5?': 24,\n",
       "         'G1G2Q': 8,\n",
       "         'GNRT1': 1,\n",
       "         'G5T2': 8,\n",
       "         'G3T2T3': 4,\n",
       "         'G5T3?': 5,\n",
       "         'G2G4': 10,\n",
       "         'G3Q': 8,\n",
       "         'G1Q': 11,\n",
       "         'G4G5T4T5': 7,\n",
       "         'GH': 3,\n",
       "         'G5T4T5': 5,\n",
       "         'G3G4T2': 4,\n",
       "         'G5T3': 4,\n",
       "         'G4?Q': 7,\n",
       "         'GU': 2,\n",
       "         'G4G5T4': 3,\n",
       "         'G5?T3': 3,\n",
       "         'G4T2': 3,\n",
       "         'G2G3Q': 8,\n",
       "         'G4G5T4?': 7,\n",
       "         'G4G5T3': 4,\n",
       "         'G4T3Q': 5,\n",
       "         'G5T3T5': 1,\n",
       "         'G3G4Q': 1,\n",
       "         'G4T3?': 5,\n",
       "         'GNRT3T4': 2,\n",
       "         'GNRTNR': 1,\n",
       "         'G4G5T1T2': 1,\n",
       "         'G5TUQ': 2,\n",
       "         'G4T3': 4,\n",
       "         'G1G3': 3,\n",
       "         'G3?Q': 1,\n",
       "         'GNRT2': 1,\n",
       "         'GNA': 1})"
      ]
     },
     "execution_count": 13,
     "metadata": {},
     "output_type": "execute_result"
    }
   ],
   "source": [
    "collections.Counter(gtype_list)"
   ]
  },
  {
   "cell_type": "code",
   "execution_count": 14,
   "id": "demanding-image",
   "metadata": {},
   "outputs": [],
   "source": [
    "gtype_dict = collections.Counter(gtype_list)"
   ]
  },
  {
   "cell_type": "code",
   "execution_count": 15,
   "id": "innovative-declaration",
   "metadata": {},
   "outputs": [],
   "source": [
    "gtype_df = pd.DataFrame.from_dict(gtype_dict, orient = 'index', columns = ['count'])"
   ]
  },
  {
   "cell_type": "code",
   "execution_count": 58,
   "id": "announced-congress",
   "metadata": {},
   "outputs": [],
   "source": [
    "gtype_df = gtype_df.sort_values(['count'], ascending = False).reset_index()"
   ]
  },
  {
   "cell_type": "code",
   "execution_count": 59,
   "id": "favorite-analysis",
   "metadata": {},
   "outputs": [
    {
     "name": "stdout",
     "output_type": "stream",
     "text": [
      "<class 'pandas.core.frame.DataFrame'>\n",
      "RangeIndex: 58 entries, 0 to 57\n",
      "Data columns (total 3 columns):\n",
      " #   Column   Non-Null Count  Dtype \n",
      "---  ------   --------------  ----- \n",
      " 0   level_0  58 non-null     int64 \n",
      " 1   index    58 non-null     object\n",
      " 2   count    58 non-null     int64 \n",
      "dtypes: int64(2), object(1)\n",
      "memory usage: 1.5+ KB\n"
     ]
    }
   ],
   "source": [
    "gtype_df.info()"
   ]
  },
  {
   "cell_type": "code",
   "execution_count": 62,
   "id": "boring-length",
   "metadata": {},
   "outputs": [],
   "source": [
    "gtype_df = gtype_df.head(9)"
   ]
  },
  {
   "cell_type": "code",
   "execution_count": 66,
   "id": "basic-leave",
   "metadata": {},
   "outputs": [],
   "source": [
    "gtype_df = gtype_df.sort_values(['count'])"
   ]
  },
  {
   "cell_type": "code",
   "execution_count": 76,
   "id": "intellectual-community",
   "metadata": {},
   "outputs": [
    {
     "data": {
      "image/png": "[encoded data removed]",
      "text/plain": [
       "<Figure size 1080x792 with 1 Axes>"
      ]
     },
     "metadata": {
      "needs_background": "light"
     },
     "output_type": "display_data"
    }
   ],
   "source": [
    "#plot:\n",
    "\n",
    "plt.figure(figsize = (15, 11))\n",
    "plt.barh('index', 'count', data = gtype_df, color = 'lemonchiffon', align = 'edge', height = 0.9)\n",
    "plt.xlabel('Species Instances', fontweight = 'bold', fontsize = 16)\n",
    "plt.ylabel('Global Rank', fontweight = 'bold', fontsize = 16)\n",
    "plt.title('Species Instances by Global Rank', fontweight = 'bold', fontsize = 18)\n",
    "plt.xticks(rotation = 90)\n",
    "\n",
    "for i in plt.barh('index', 'count', data = gtype_df, color = 'lemonchiffon', align = 'edge', height = 0.9):  \n",
    "    plt.text(i.get_width()-0.0001*i.get_width(), i.get_y()+0.5,\n",
    "             str(round((i.get_width()), 2)),\n",
    "             fontsize = 12, fontweight = 'bold', fontstyle = 'italic',\n",
    "             color ='black')"
   ]
  },
  {
   "cell_type": "code",
   "execution_count": null,
   "id": "passive-university",
   "metadata": {},
   "outputs": [],
   "source": [
    "fig, ax = plt.subplots()\n",
    "ax.plot"
   ]
  },
  {
   "cell_type": "markdown",
   "id": "refined-campus",
   "metadata": {},
   "source": [
    "Next, State rank:"
   ]
  },
  {
   "cell_type": "code",
   "execution_count": 20,
   "id": "turned-marathon",
   "metadata": {},
   "outputs": [],
   "source": [
    "stype_list = spec.State_Rank.tolist()"
   ]
  },
  {
   "cell_type": "code",
   "execution_count": 21,
   "id": "spatial-publicity",
   "metadata": {},
   "outputs": [],
   "source": [
    "stype_dict = collections.Counter(stype_list)"
   ]
  },
  {
   "cell_type": "code",
   "execution_count": 22,
   "id": "fallen-reservation",
   "metadata": {},
   "outputs": [],
   "source": [
    "stype_df = pd.DataFrame.from_dict(stype_dict, orient = 'index', columns = ['count'])"
   ]
  },
  {
   "cell_type": "code",
   "execution_count": 23,
   "id": "apparent-surface",
   "metadata": {},
   "outputs": [
    {
     "data": {
      "text/html": [
       "<div>\n",
       "<style scoped>\n",
       "    .dataframe tbody tr th:only-of-type {\n",
       "        vertical-align: middle;\n",
       "    }\n",
       "\n",
       "    .dataframe tbody tr th {\n",
       "        vertical-align: top;\n",
       "    }\n",
       "\n",
       "    .dataframe thead th {\n",
       "        text-align: right;\n",
       "    }\n",
       "</style>\n",
       "<table border=\"1\" class=\"dataframe\">\n",
       "  <thead>\n",
       "    <tr style=\"text-align: right;\">\n",
       "      <th></th>\n",
       "      <th>index</th>\n",
       "      <th>count</th>\n",
       "    </tr>\n",
       "  </thead>\n",
       "  <tbody>\n",
       "    <tr>\n",
       "      <th>0</th>\n",
       "      <td>S1S3</td>\n",
       "      <td>1</td>\n",
       "    </tr>\n",
       "    <tr>\n",
       "      <th>1</th>\n",
       "      <td>SX</td>\n",
       "      <td>1</td>\n",
       "    </tr>\n",
       "    <tr>\n",
       "      <th>2</th>\n",
       "      <td>SU</td>\n",
       "      <td>1</td>\n",
       "    </tr>\n",
       "    <tr>\n",
       "      <th>3</th>\n",
       "      <td>S1B,S4N</td>\n",
       "      <td>3</td>\n",
       "    </tr>\n",
       "    <tr>\n",
       "      <th>4</th>\n",
       "      <td>S2S4</td>\n",
       "      <td>3</td>\n",
       "    </tr>\n",
       "    <tr>\n",
       "      <th>5</th>\n",
       "      <td>S1B,S2N</td>\n",
       "      <td>4</td>\n",
       "    </tr>\n",
       "    <tr>\n",
       "      <th>6</th>\n",
       "      <td>S3?</td>\n",
       "      <td>5</td>\n",
       "    </tr>\n",
       "    <tr>\n",
       "      <th>7</th>\n",
       "      <td>S2S3B</td>\n",
       "      <td>5</td>\n",
       "    </tr>\n",
       "    <tr>\n",
       "      <th>8</th>\n",
       "      <td>S2B,S3N</td>\n",
       "      <td>5</td>\n",
       "    </tr>\n",
       "    <tr>\n",
       "      <th>9</th>\n",
       "      <td>S1?</td>\n",
       "      <td>15</td>\n",
       "    </tr>\n",
       "    <tr>\n",
       "      <th>10</th>\n",
       "      <td>S2B</td>\n",
       "      <td>15</td>\n",
       "    </tr>\n",
       "    <tr>\n",
       "      <th>11</th>\n",
       "      <td>SH</td>\n",
       "      <td>18</td>\n",
       "    </tr>\n",
       "    <tr>\n",
       "      <th>12</th>\n",
       "      <td>S1B</td>\n",
       "      <td>19</td>\n",
       "    </tr>\n",
       "    <tr>\n",
       "      <th>13</th>\n",
       "      <td>S2?</td>\n",
       "      <td>27</td>\n",
       "    </tr>\n",
       "    <tr>\n",
       "      <th>14</th>\n",
       "      <td>S4</td>\n",
       "      <td>37</td>\n",
       "    </tr>\n",
       "    <tr>\n",
       "      <th>15</th>\n",
       "      <td>S3B</td>\n",
       "      <td>37</td>\n",
       "    </tr>\n",
       "    <tr>\n",
       "      <th>16</th>\n",
       "      <td>SNR</td>\n",
       "      <td>73</td>\n",
       "    </tr>\n",
       "    <tr>\n",
       "      <th>17</th>\n",
       "      <td>S3S4</td>\n",
       "      <td>85</td>\n",
       "    </tr>\n",
       "    <tr>\n",
       "      <th>18</th>\n",
       "      <td>S1S2</td>\n",
       "      <td>337</td>\n",
       "    </tr>\n",
       "    <tr>\n",
       "      <th>19</th>\n",
       "      <td>S2S3</td>\n",
       "      <td>350</td>\n",
       "    </tr>\n",
       "    <tr>\n",
       "      <th>20</th>\n",
       "      <td>S3</td>\n",
       "      <td>777</td>\n",
       "    </tr>\n",
       "    <tr>\n",
       "      <th>21</th>\n",
       "      <td>S2</td>\n",
       "      <td>1208</td>\n",
       "    </tr>\n",
       "    <tr>\n",
       "      <th>22</th>\n",
       "      <td>S1</td>\n",
       "      <td>1401</td>\n",
       "    </tr>\n",
       "  </tbody>\n",
       "</table>\n",
       "</div>"
      ],
      "text/plain": [
       "      index  count\n",
       "0      S1S3      1\n",
       "1        SX      1\n",
       "2        SU      1\n",
       "3   S1B,S4N      3\n",
       "4      S2S4      3\n",
       "5   S1B,S2N      4\n",
       "6       S3?      5\n",
       "7     S2S3B      5\n",
       "8   S2B,S3N      5\n",
       "9       S1?     15\n",
       "10      S2B     15\n",
       "11       SH     18\n",
       "12      S1B     19\n",
       "13      S2?     27\n",
       "14       S4     37\n",
       "15      S3B     37\n",
       "16      SNR     73\n",
       "17     S3S4     85\n",
       "18     S1S2    337\n",
       "19     S2S3    350\n",
       "20       S3    777\n",
       "21       S2   1208\n",
       "22       S1   1401"
      ]
     },
     "execution_count": 23,
     "metadata": {},
     "output_type": "execute_result"
    }
   ],
   "source": [
    "stype_df.sort_values(['count']).reset_index(inplace = False)"
   ]
  },
  {
   "cell_type": "code",
   "execution_count": 24,
   "id": "dimensional-outline",
   "metadata": {},
   "outputs": [
    {
     "data": {
      "text/plain": [
       "<AxesSubplot:title={'center':'State Species Status and Ranks in Tennessee'}, xlabel='Species Status and Rank', ylabel='Reports'>"
      ]
     },
     "execution_count": 24,
     "metadata": {},
     "output_type": "execute_result"
    },
    {
     "data": {
      "image/png": "[encoded data removed]",
      "text/plain": [
       "<Figure size 1080x720 with 1 Axes>"
      ]
     },
     "metadata": {
      "needs_background": "light"
     },
     "output_type": "display_data"
    }
   ],
   "source": [
    "stype_df.sort_values(['count']).plot(kind = 'bar', \n",
    "                                          figsize = (15, 10), \n",
    "                                          title = 'State Species Status and Ranks in Tennessee', \n",
    "                                          color = 'green',\n",
    "                                          xlabel = 'Species Status and Rank', \n",
    "                                          ylabel = 'Reports', \n",
    "                                          legend = False)"
   ]
  },
  {
   "cell_type": "markdown",
   "id": "healthy-harris",
   "metadata": {},
   "source": [
    "Same process but with Federal Status:"
   ]
  },
  {
   "cell_type": "code",
   "execution_count": 25,
   "id": "complete-fifty",
   "metadata": {},
   "outputs": [],
   "source": [
    "fstat_list = spec.Fed_Status.tolist()"
   ]
  },
  {
   "cell_type": "code",
   "execution_count": 26,
   "id": "collective-malpractice",
   "metadata": {},
   "outputs": [],
   "source": [
    "fstat_dict = collections.Counter(fstat_list)"
   ]
  },
  {
   "cell_type": "code",
   "execution_count": 27,
   "id": "functioning-swimming",
   "metadata": {},
   "outputs": [],
   "source": [
    "fstat_df = pd.DataFrame.from_dict(fstat_dict, orient = 'index', columns = ['count'])"
   ]
  },
  {
   "cell_type": "code",
   "execution_count": 28,
   "id": "integral-mobility",
   "metadata": {},
   "outputs": [
    {
     "data": {
      "text/html": [
       "<div>\n",
       "<style scoped>\n",
       "    .dataframe tbody tr th:only-of-type {\n",
       "        vertical-align: middle;\n",
       "    }\n",
       "\n",
       "    .dataframe tbody tr th {\n",
       "        vertical-align: top;\n",
       "    }\n",
       "\n",
       "    .dataframe thead th {\n",
       "        text-align: right;\n",
       "    }\n",
       "</style>\n",
       "<table border=\"1\" class=\"dataframe\">\n",
       "  <thead>\n",
       "    <tr style=\"text-align: right;\">\n",
       "      <th></th>\n",
       "      <th>index</th>\n",
       "      <th>count</th>\n",
       "    </tr>\n",
       "  </thead>\n",
       "  <tbody>\n",
       "    <tr>\n",
       "      <th>0</th>\n",
       "      <td>SC</td>\n",
       "      <td>1</td>\n",
       "    </tr>\n",
       "    <tr>\n",
       "      <th>1</th>\n",
       "      <td>SAT</td>\n",
       "      <td>2</td>\n",
       "    </tr>\n",
       "    <tr>\n",
       "      <th>2</th>\n",
       "      <td>C</td>\n",
       "      <td>4</td>\n",
       "    </tr>\n",
       "    <tr>\n",
       "      <th>3</th>\n",
       "      <td>LT, XN</td>\n",
       "      <td>6</td>\n",
       "    </tr>\n",
       "    <tr>\n",
       "      <th>4</th>\n",
       "      <td>LT,XN</td>\n",
       "      <td>20</td>\n",
       "    </tr>\n",
       "    <tr>\n",
       "      <th>5</th>\n",
       "      <td>LE,XN</td>\n",
       "      <td>20</td>\n",
       "    </tr>\n",
       "    <tr>\n",
       "      <th>6</th>\n",
       "      <td>DM</td>\n",
       "      <td>21</td>\n",
       "    </tr>\n",
       "    <tr>\n",
       "      <th>7</th>\n",
       "      <td>No Status</td>\n",
       "      <td>48</td>\n",
       "    </tr>\n",
       "    <tr>\n",
       "      <th>8</th>\n",
       "      <td>LT</td>\n",
       "      <td>113</td>\n",
       "    </tr>\n",
       "    <tr>\n",
       "      <th>9</th>\n",
       "      <td>LE, XN</td>\n",
       "      <td>170</td>\n",
       "    </tr>\n",
       "    <tr>\n",
       "      <th>10</th>\n",
       "      <td>LE</td>\n",
       "      <td>339</td>\n",
       "    </tr>\n",
       "    <tr>\n",
       "      <th>11</th>\n",
       "      <td>--</td>\n",
       "      <td>3683</td>\n",
       "    </tr>\n",
       "  </tbody>\n",
       "</table>\n",
       "</div>"
      ],
      "text/plain": [
       "        index  count\n",
       "0          SC      1\n",
       "1         SAT      2\n",
       "2           C      4\n",
       "3      LT, XN      6\n",
       "4       LT,XN     20\n",
       "5       LE,XN     20\n",
       "6          DM     21\n",
       "7   No Status     48\n",
       "8          LT    113\n",
       "9      LE, XN    170\n",
       "10         LE    339\n",
       "11         --   3683"
      ]
     },
     "execution_count": 28,
     "metadata": {},
     "output_type": "execute_result"
    }
   ],
   "source": [
    "fstat_df.sort_values(['count']).reset_index(inplace = False)"
   ]
  },
  {
   "cell_type": "code",
   "execution_count": 29,
   "id": "universal-thread",
   "metadata": {},
   "outputs": [
    {
     "data": {
      "text/plain": [
       "<AxesSubplot:title={'center':'Federal Status of Species in Tennessee'}, xlabel='Species Status', ylabel='Reports'>"
      ]
     },
     "execution_count": 29,
     "metadata": {},
     "output_type": "execute_result"
    },
    {
     "data": {
      "image/png": "[encoded data removed]",
      "text/plain": [
       "<Figure size 1080x720 with 1 Axes>"
      ]
     },
     "metadata": {
      "needs_background": "light"
     },
     "output_type": "display_data"
    }
   ],
   "source": [
    "fstat_df.sort_values(['count']).plot(kind = 'bar', \n",
    "                                          figsize = (15, 10), \n",
    "                                          title = 'Federal Status of Species in Tennessee', \n",
    "                                          color = 'green',\n",
    "                                          xlabel = 'Species Status', \n",
    "                                          ylabel = 'Reports', \n",
    "                                          legend = False)"
   ]
  },
  {
   "cell_type": "markdown",
   "id": "liable-citizenship",
   "metadata": {},
   "source": [
    "Next: Type"
   ]
  },
  {
   "cell_type": "code",
   "execution_count": 51,
   "id": "annual-underwear",
   "metadata": {},
   "outputs": [],
   "source": [
    "type_list = spec.Type.tolist()"
   ]
  },
  {
   "cell_type": "code",
   "execution_count": 52,
   "id": "underlying-system",
   "metadata": {},
   "outputs": [],
   "source": [
    "type_dict = collections.Counter(type_list)"
   ]
  },
  {
   "cell_type": "code",
   "execution_count": 53,
   "id": "destroyed-newark",
   "metadata": {},
   "outputs": [],
   "source": [
    "type_df = pd.DataFrame.from_dict(type_dict, orient = 'index', columns = ['count'])"
   ]
  },
  {
   "cell_type": "code",
   "execution_count": 54,
   "id": "expanded-rates",
   "metadata": {},
   "outputs": [
    {
     "data": {
      "text/html": [
       "<div>\n",
       "<style scoped>\n",
       "    .dataframe tbody tr th:only-of-type {\n",
       "        vertical-align: middle;\n",
       "    }\n",
       "\n",
       "    .dataframe tbody tr th {\n",
       "        vertical-align: top;\n",
       "    }\n",
       "\n",
       "    .dataframe thead th {\n",
       "        text-align: right;\n",
       "    }\n",
       "</style>\n",
       "<table border=\"1\" class=\"dataframe\">\n",
       "  <thead>\n",
       "    <tr style=\"text-align: right;\">\n",
       "      <th></th>\n",
       "      <th>index</th>\n",
       "      <th>count</th>\n",
       "    </tr>\n",
       "  </thead>\n",
       "  <tbody>\n",
       "    <tr>\n",
       "      <th>0</th>\n",
       "      <td>Fungus</td>\n",
       "      <td>4</td>\n",
       "    </tr>\n",
       "    <tr>\n",
       "      <th>1</th>\n",
       "      <td>International Terrestrial Ecological System Cl...</td>\n",
       "      <td>31</td>\n",
       "    </tr>\n",
       "    <tr>\n",
       "      <th>2</th>\n",
       "      <td>Animal Assemblage</td>\n",
       "      <td>42</td>\n",
       "    </tr>\n",
       "    <tr>\n",
       "      <th>3</th>\n",
       "      <td>International Vegetation Classification - Natural</td>\n",
       "      <td>43</td>\n",
       "    </tr>\n",
       "    <tr>\n",
       "      <th>4</th>\n",
       "      <td>Nonvascular Plant</td>\n",
       "      <td>121</td>\n",
       "    </tr>\n",
       "    <tr>\n",
       "      <th>5</th>\n",
       "      <td>Invertebrate Animal</td>\n",
       "      <td>984</td>\n",
       "    </tr>\n",
       "    <tr>\n",
       "      <th>6</th>\n",
       "      <td>Vertebrate Animal</td>\n",
       "      <td>1241</td>\n",
       "    </tr>\n",
       "    <tr>\n",
       "      <th>7</th>\n",
       "      <td>Vascular Plant</td>\n",
       "      <td>1961</td>\n",
       "    </tr>\n",
       "  </tbody>\n",
       "</table>\n",
       "</div>"
      ],
      "text/plain": [
       "                                               index  count\n",
       "0                                             Fungus      4\n",
       "1  International Terrestrial Ecological System Cl...     31\n",
       "2                                  Animal Assemblage     42\n",
       "3  International Vegetation Classification - Natural     43\n",
       "4                                  Nonvascular Plant    121\n",
       "5                                Invertebrate Animal    984\n",
       "6                                  Vertebrate Animal   1241\n",
       "7                                     Vascular Plant   1961"
      ]
     },
     "execution_count": 54,
     "metadata": {},
     "output_type": "execute_result"
    }
   ],
   "source": [
    "type_df.sort_values(['count']).reset_index(inplace = False)"
   ]
  },
  {
   "cell_type": "code",
   "execution_count": 57,
   "id": "flexible-exception",
   "metadata": {},
   "outputs": [
    {
     "data": {
      "text/plain": [
       "<AxesSubplot:title={'center':'Type Classifications of Species in Tennessee'}, xlabel='Species Type', ylabel='Reports'>"
      ]
     },
     "execution_count": 57,
     "metadata": {},
     "output_type": "execute_result"
    },
    {
     "data": {
      "image/png": "[encoded data removed]",
      "text/plain": [
       "<Figure size 1080x720 with 1 Axes>"
      ]
     },
     "metadata": {
      "needs_background": "light"
     },
     "output_type": "display_data"
    }
   ],
   "source": [
    "type_df.sort_values(['count']).plot(kind = 'bar', \n",
    "                                          figsize = (15, 10), \n",
    "                                          title = 'Type Classifications of Species in Tennessee', \n",
    "                                          color = 'green',\n",
    "                                          xlabel = 'Species Type', \n",
    "                                          ylabel = 'Reports', \n",
    "                                          legend = False)"
   ]
  },
  {
   "cell_type": "markdown",
   "id": "accepted-triumph",
   "metadata": {},
   "source": [
    "Now with Category:"
   ]
  },
  {
   "cell_type": "code",
   "execution_count": 40,
   "id": "blond-siemens",
   "metadata": {},
   "outputs": [],
   "source": [
    "cat_list = spec.Category.tolist()"
   ]
  },
  {
   "cell_type": "code",
   "execution_count": 41,
   "id": "convinced-mortality",
   "metadata": {},
   "outputs": [],
   "source": [
    "cat_dict = collections.Counter(cat_list)"
   ]
  },
  {
   "cell_type": "code",
   "execution_count": 42,
   "id": "continuing-leisure",
   "metadata": {},
   "outputs": [],
   "source": [
    "cat_df = pd.DataFrame.from_dict(cat_dict, orient = 'index', columns = ['count'])"
   ]
  },
  {
   "cell_type": "code",
   "execution_count": 43,
   "id": "allied-valve",
   "metadata": {},
   "outputs": [
    {
     "data": {
      "text/html": [
       "<div>\n",
       "<style scoped>\n",
       "    .dataframe tbody tr th:only-of-type {\n",
       "        vertical-align: middle;\n",
       "    }\n",
       "\n",
       "    .dataframe tbody tr th {\n",
       "        vertical-align: top;\n",
       "    }\n",
       "\n",
       "    .dataframe thead th {\n",
       "        text-align: right;\n",
       "    }\n",
       "</style>\n",
       "<table border=\"1\" class=\"dataframe\">\n",
       "  <thead>\n",
       "    <tr style=\"text-align: right;\">\n",
       "      <th></th>\n",
       "      <th>index</th>\n",
       "      <th>count</th>\n",
       "    </tr>\n",
       "  </thead>\n",
       "  <tbody>\n",
       "    <tr>\n",
       "      <th>0</th>\n",
       "      <td>Planarian</td>\n",
       "      <td>2</td>\n",
       "    </tr>\n",
       "    <tr>\n",
       "      <th>1</th>\n",
       "      <td>Tardigrade</td>\n",
       "      <td>2</td>\n",
       "    </tr>\n",
       "    <tr>\n",
       "      <th>2</th>\n",
       "      <td>Annelid</td>\n",
       "      <td>4</td>\n",
       "    </tr>\n",
       "    <tr>\n",
       "      <th>3</th>\n",
       "      <td>Liverwort</td>\n",
       "      <td>4</td>\n",
       "    </tr>\n",
       "    <tr>\n",
       "      <th>4</th>\n",
       "      <td>Plant: Gymnosperm</td>\n",
       "      <td>13</td>\n",
       "    </tr>\n",
       "    <tr>\n",
       "      <th>5</th>\n",
       "      <td>Other Type</td>\n",
       "      <td>20</td>\n",
       "    </tr>\n",
       "    <tr>\n",
       "      <th>6</th>\n",
       "      <td>No Data</td>\n",
       "      <td>42</td>\n",
       "    </tr>\n",
       "    <tr>\n",
       "      <th>7</th>\n",
       "      <td>Arachnid</td>\n",
       "      <td>61</td>\n",
       "    </tr>\n",
       "    <tr>\n",
       "      <th>8</th>\n",
       "      <td>Plant Community</td>\n",
       "      <td>74</td>\n",
       "    </tr>\n",
       "    <tr>\n",
       "      <th>9</th>\n",
       "      <td>Fern and Fern Ally</td>\n",
       "      <td>74</td>\n",
       "    </tr>\n",
       "    <tr>\n",
       "      <th>10</th>\n",
       "      <td>Reptile</td>\n",
       "      <td>83</td>\n",
       "    </tr>\n",
       "    <tr>\n",
       "      <th>11</th>\n",
       "      <td>Crustacean</td>\n",
       "      <td>98</td>\n",
       "    </tr>\n",
       "    <tr>\n",
       "      <th>12</th>\n",
       "      <td>Non-Vascular Plant</td>\n",
       "      <td>121</td>\n",
       "    </tr>\n",
       "    <tr>\n",
       "      <th>13</th>\n",
       "      <td>Amphibian</td>\n",
       "      <td>158</td>\n",
       "    </tr>\n",
       "    <tr>\n",
       "      <th>14</th>\n",
       "      <td>Bird</td>\n",
       "      <td>163</td>\n",
       "    </tr>\n",
       "    <tr>\n",
       "      <th>15</th>\n",
       "      <td>Insect</td>\n",
       "      <td>174</td>\n",
       "    </tr>\n",
       "    <tr>\n",
       "      <th>16</th>\n",
       "      <td>Mammal</td>\n",
       "      <td>334</td>\n",
       "    </tr>\n",
       "    <tr>\n",
       "      <th>17</th>\n",
       "      <td>Fish</td>\n",
       "      <td>503</td>\n",
       "    </tr>\n",
       "    <tr>\n",
       "      <th>18</th>\n",
       "      <td>Mollusc</td>\n",
       "      <td>623</td>\n",
       "    </tr>\n",
       "    <tr>\n",
       "      <th>19</th>\n",
       "      <td>Flowering Plant</td>\n",
       "      <td>1874</td>\n",
       "    </tr>\n",
       "  </tbody>\n",
       "</table>\n",
       "</div>"
      ],
      "text/plain": [
       "                 index  count\n",
       "0            Planarian      2\n",
       "1           Tardigrade      2\n",
       "2              Annelid      4\n",
       "3            Liverwort      4\n",
       "4    Plant: Gymnosperm     13\n",
       "5           Other Type     20\n",
       "6              No Data     42\n",
       "7             Arachnid     61\n",
       "8      Plant Community     74\n",
       "9   Fern and Fern Ally     74\n",
       "10             Reptile     83\n",
       "11          Crustacean     98\n",
       "12  Non-Vascular Plant    121\n",
       "13           Amphibian    158\n",
       "14                Bird    163\n",
       "15              Insect    174\n",
       "16              Mammal    334\n",
       "17                Fish    503\n",
       "18             Mollusc    623\n",
       "19     Flowering Plant   1874"
      ]
     },
     "execution_count": 43,
     "metadata": {},
     "output_type": "execute_result"
    }
   ],
   "source": [
    "cat_df.sort_values(['count']).reset_index(inplace = False)"
   ]
  },
  {
   "cell_type": "code",
   "execution_count": 45,
   "id": "ethical-storm",
   "metadata": {},
   "outputs": [
    {
     "data": {
      "text/plain": [
       "<AxesSubplot:title={'center':'Categories of Species in Tennessee'}, xlabel='Species Category', ylabel='Reports'>"
      ]
     },
     "execution_count": 45,
     "metadata": {},
     "output_type": "execute_result"
    },
    {
     "data": {
      "image/png": "[encoded data removed]",
      "text/plain": [
       "<Figure size 1080x720 with 1 Axes>"
      ]
     },
     "metadata": {
      "needs_background": "light"
     },
     "output_type": "display_data"
    }
   ],
   "source": [
    "cat_df.sort_values(['count']).plot(kind = 'bar', \n",
    "                                          figsize = (15, 10), \n",
    "                                          title = 'Categories of Species in Tennessee', \n",
    "                                          color = 'green',\n",
    "                                          xlabel = 'Species Category', \n",
    "                                          ylabel = 'Reports', \n",
    "                                          legend = False)"
   ]
  },
  {
   "cell_type": "code",
   "execution_count": null,
   "id": "brave-component",
   "metadata": {},
   "outputs": [],
   "source": []
  }
 ],
 "metadata": {
  "kernelspec": {
   "display_name": "Python 3",
   "language": "python",
   "name": "python3"
  },
  "language_info": {
   "codemirror_mode": {
    "name": "ipython",
    "version": 3
   },
   "file_extension": ".py",
   "mimetype": "text/x-python",
   "name": "python",
   "nbconvert_exporter": "python",
   "pygments_lexer": "ipython3",
   "version": "3.8.5"
  }
 },
 "nbformat": 4,
 "nbformat_minor": 5
}
