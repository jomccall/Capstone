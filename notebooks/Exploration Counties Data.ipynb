{
 "cells": [
  {
   "cell_type": "code",
   "execution_count": 14,
   "id": "welsh-award",
   "metadata": {},
   "outputs": [],
   "source": [
    "import addfips\n",
    "import requests\n",
    "import matplotlib.pyplot as plt\n",
    "from IPython.display import Image\n",
    "import folium\n",
    "import pickle\n",
    "import pandas as pd\n",
    "from shapely.geometry import Point\n",
    "import geopandas as gpd\n",
    "from folium.plugins import MarkerCluster\n",
    "from folium.plugins import FastMarkerCluster\n",
    "import pyproj\n",
    "import collections\n",
    "\n",
    "%matplotlib inline"
   ]
  },
  {
   "cell_type": "markdown",
   "id": "trained-estate",
   "metadata": {},
   "source": [
    "#### Bring in the counties shapefile"
   ]
  },
  {
   "cell_type": "code",
   "execution_count": 4,
   "id": "nasty-slovakia",
   "metadata": {},
   "outputs": [
    {
     "name": "stdout",
     "output_type": "stream",
     "text": [
      "epsg:2274\n"
     ]
    },
    {
     "data": {
      "text/html": [
       "<div>\n",
       "<style scoped>\n",
       "    .dataframe tbody tr th:only-of-type {\n",
       "        vertical-align: middle;\n",
       "    }\n",
       "\n",
       "    .dataframe tbody tr th {\n",
       "        vertical-align: top;\n",
       "    }\n",
       "\n",
       "    .dataframe thead th {\n",
       "        text-align: right;\n",
       "    }\n",
       "</style>\n",
       "<table border=\"1\" class=\"dataframe\">\n",
       "  <thead>\n",
       "    <tr style=\"text-align: right;\">\n",
       "      <th></th>\n",
       "      <th>OBJECTID</th>\n",
       "      <th>NAME</th>\n",
       "      <th>KEY</th>\n",
       "      <th>SHAPE_AREA</th>\n",
       "      <th>SHAPE_LEN</th>\n",
       "      <th>geometry</th>\n",
       "    </tr>\n",
       "  </thead>\n",
       "  <tbody>\n",
       "    <tr>\n",
       "      <th>0</th>\n",
       "      <td>76</td>\n",
       "      <td>Chester</td>\n",
       "      <td>47023</td>\n",
       "      <td>8.049024e+09</td>\n",
       "      <td>520461.080124</td>\n",
       "      <td>POLYGON ((1137985.762 344601.643, 1137965.070 ...</td>\n",
       "    </tr>\n",
       "    <tr>\n",
       "      <th>1</th>\n",
       "      <td>77</td>\n",
       "      <td>Wayne</td>\n",
       "      <td>47181</td>\n",
       "      <td>2.050741e+10</td>\n",
       "      <td>666520.678598</td>\n",
       "      <td>POLYGON ((1365052.057 391716.806, 1365746.554 ...</td>\n",
       "    </tr>\n",
       "    <tr>\n",
       "      <th>2</th>\n",
       "      <td>78</td>\n",
       "      <td>Tipton</td>\n",
       "      <td>47167</td>\n",
       "      <td>1.319125e+10</td>\n",
       "      <td>865093.887634</td>\n",
       "      <td>MULTIPOLYGON (((886814.330 400456.525, 886774....</td>\n",
       "    </tr>\n",
       "    <tr>\n",
       "      <th>3</th>\n",
       "      <td>79</td>\n",
       "      <td>Hamilton</td>\n",
       "      <td>47065</td>\n",
       "      <td>1.604776e+10</td>\n",
       "      <td>652926.001078</td>\n",
       "      <td>POLYGON ((2274954.438 239788.911, 2274090.610 ...</td>\n",
       "    </tr>\n",
       "    <tr>\n",
       "      <th>4</th>\n",
       "      <td>80</td>\n",
       "      <td>Stewart</td>\n",
       "      <td>47161</td>\n",
       "      <td>1.375003e+10</td>\n",
       "      <td>490090.336180</td>\n",
       "      <td>POLYGON ((1382472.783 743972.302, 1382445.171 ...</td>\n",
       "    </tr>\n",
       "  </tbody>\n",
       "</table>\n",
       "</div>"
      ],
      "text/plain": [
       "   OBJECTID      NAME    KEY    SHAPE_AREA      SHAPE_LEN  \\\n",
       "0        76   Chester  47023  8.049024e+09  520461.080124   \n",
       "1        77     Wayne  47181  2.050741e+10  666520.678598   \n",
       "2        78    Tipton  47167  1.319125e+10  865093.887634   \n",
       "3        79  Hamilton  47065  1.604776e+10  652926.001078   \n",
       "4        80   Stewart  47161  1.375003e+10  490090.336180   \n",
       "\n",
       "                                            geometry  \n",
       "0  POLYGON ((1137985.762 344601.643, 1137965.070 ...  \n",
       "1  POLYGON ((1365052.057 391716.806, 1365746.554 ...  \n",
       "2  MULTIPOLYGON (((886814.330 400456.525, 886774....  \n",
       "3  POLYGON ((2274954.438 239788.911, 2274090.610 ...  \n",
       "4  POLYGON ((1382472.783 743972.302, 1382445.171 ...  "
      ]
     },
     "execution_count": 4,
     "metadata": {},
     "output_type": "execute_result"
    }
   ],
   "source": [
    "counties = gpd.read_file('../data/counties/tncounty.shp')\n",
    "print(counties.crs)\n",
    "counties.head()"
   ]
  },
  {
   "cell_type": "code",
   "execution_count": 5,
   "id": "mobile-switch",
   "metadata": {},
   "outputs": [
    {
     "data": {
      "text/plain": [
       "<Projected CRS: EPSG:2274>\n",
       "Name: NAD83 / Tennessee (ftUS)\n",
       "Axis Info [cartesian]:\n",
       "- X[east]: Easting (US survey foot)\n",
       "- Y[north]: Northing (US survey foot)\n",
       "Area of Use:\n",
       "- name: USA - Tennessee\n",
       "- bounds: (-90.31, 34.98, -81.65, 36.68)\n",
       "Coordinate Operation:\n",
       "- name: SPCS83 Tennessee zone (US Survey feet)\n",
       "- method: Lambert Conic Conformal (2SP)\n",
       "Datum: North American Datum 1983\n",
       "- Ellipsoid: GRS 1980\n",
       "- Prime Meridian: Greenwich"
      ]
     },
     "execution_count": 5,
     "metadata": {},
     "output_type": "execute_result"
    }
   ],
   "source": [
    "counties.crs"
   ]
  },
  {
   "cell_type": "markdown",
   "id": "romance-source",
   "metadata": {},
   "source": [
    "##### I know the other shapefiles I have have NAD83 datum... we'll see how they all go together"
   ]
  },
  {
   "cell_type": "markdown",
   "id": "mounted-brief",
   "metadata": {},
   "source": [
    "#### Bring in the county level species data"
   ]
  },
  {
   "cell_type": "code",
   "execution_count": 6,
   "id": "aggregate-retrieval",
   "metadata": {},
   "outputs": [],
   "source": [
    "spec = pd.read_csv('../data/rare_species_by_county.csv')"
   ]
  },
  {
   "cell_type": "code",
   "execution_count": 7,
   "id": "exotic-promotion",
   "metadata": {},
   "outputs": [
    {
     "data": {
      "text/html": [
       "<div>\n",
       "<style scoped>\n",
       "    .dataframe tbody tr th:only-of-type {\n",
       "        vertical-align: middle;\n",
       "    }\n",
       "\n",
       "    .dataframe tbody tr th {\n",
       "        vertical-align: top;\n",
       "    }\n",
       "\n",
       "    .dataframe thead th {\n",
       "        text-align: right;\n",
       "    }\n",
       "</style>\n",
       "<table border=\"1\" class=\"dataframe\">\n",
       "  <thead>\n",
       "    <tr style=\"text-align: right;\">\n",
       "      <th></th>\n",
       "      <th>County</th>\n",
       "      <th>Type</th>\n",
       "      <th>Category</th>\n",
       "      <th>Scientific Name</th>\n",
       "      <th>Common Name</th>\n",
       "      <th>Global Rank</th>\n",
       "      <th>State Rank</th>\n",
       "      <th>Fed. Status</th>\n",
       "      <th>State Status</th>\n",
       "      <th>Habitat</th>\n",
       "      <th>Wet Habitat Flag</th>\n",
       "    </tr>\n",
       "  </thead>\n",
       "  <tbody>\n",
       "    <tr>\n",
       "      <th>0</th>\n",
       "      <td>Anderson</td>\n",
       "      <td>Invertebrate Animal</td>\n",
       "      <td>Arachnid</td>\n",
       "      <td>Hesperochernes mirabilis</td>\n",
       "      <td>Southeastern Cave Pseudoscorpion</td>\n",
       "      <td>G5</td>\n",
       "      <td>S3</td>\n",
       "      <td>--</td>\n",
       "      <td>Rare, Not State Listed</td>\n",
       "      <td>Terrestrial cave obligate; woodrat debris in c...</td>\n",
       "      <td>Upland</td>\n",
       "    </tr>\n",
       "    <tr>\n",
       "      <th>1</th>\n",
       "      <td>Anderson</td>\n",
       "      <td>Invertebrate Animal</td>\n",
       "      <td>Mollusc</td>\n",
       "      <td>Cyprogenia stegaria</td>\n",
       "      <td>Fanshell</td>\n",
       "      <td>G1</td>\n",
       "      <td>S1</td>\n",
       "      <td>LE, XN</td>\n",
       "      <td>E</td>\n",
       "      <td>Medium to large streams and rivers with coarse...</td>\n",
       "      <td>Aquatic</td>\n",
       "    </tr>\n",
       "    <tr>\n",
       "      <th>2</th>\n",
       "      <td>Anderson</td>\n",
       "      <td>Vertebrate Animal</td>\n",
       "      <td>Bird</td>\n",
       "      <td>Limnothlypis swainsonii</td>\n",
       "      <td>Swainson's Warbler</td>\n",
       "      <td>G4</td>\n",
       "      <td>S3</td>\n",
       "      <td>--</td>\n",
       "      <td>D</td>\n",
       "      <td>Mature, rich, damp, deciduous floodplain and s...</td>\n",
       "      <td>Possible</td>\n",
       "    </tr>\n",
       "    <tr>\n",
       "      <th>3</th>\n",
       "      <td>Anderson</td>\n",
       "      <td>Vertebrate Animal</td>\n",
       "      <td>Reptile</td>\n",
       "      <td>Ophisaurus attenuatus longicaudus</td>\n",
       "      <td>Eastern Slender Glass Lizard</td>\n",
       "      <td>G5T5</td>\n",
       "      <td>S3</td>\n",
       "      <td>--</td>\n",
       "      <td>D</td>\n",
       "      <td>Dry upland areas including brushy, cut-over wo...</td>\n",
       "      <td>Upland</td>\n",
       "    </tr>\n",
       "    <tr>\n",
       "      <th>4</th>\n",
       "      <td>Anderson</td>\n",
       "      <td>Vertebrate Animal</td>\n",
       "      <td>Bird</td>\n",
       "      <td>Vermivora chrysoptera</td>\n",
       "      <td>Golden-winged Warbler</td>\n",
       "      <td>G4</td>\n",
       "      <td>S3B</td>\n",
       "      <td>--</td>\n",
       "      <td>T</td>\n",
       "      <td>Early successional habitats in foothill region...</td>\n",
       "      <td>Upland</td>\n",
       "    </tr>\n",
       "  </tbody>\n",
       "</table>\n",
       "</div>"
      ],
      "text/plain": [
       "     County                 Type  Category                    Scientific Name  \\\n",
       "0  Anderson  Invertebrate Animal  Arachnid           Hesperochernes mirabilis   \n",
       "1  Anderson  Invertebrate Animal   Mollusc                Cyprogenia stegaria   \n",
       "2  Anderson    Vertebrate Animal      Bird            Limnothlypis swainsonii   \n",
       "3  Anderson    Vertebrate Animal   Reptile  Ophisaurus attenuatus longicaudus   \n",
       "4  Anderson    Vertebrate Animal      Bird              Vermivora chrysoptera   \n",
       "\n",
       "                        Common Name Global Rank State Rank Fed. Status  \\\n",
       "0  Southeastern Cave Pseudoscorpion          G5         S3          --   \n",
       "1                          Fanshell          G1         S1      LE, XN   \n",
       "2                Swainson's Warbler          G4         S3          --   \n",
       "3      Eastern Slender Glass Lizard        G5T5         S3          --   \n",
       "4             Golden-winged Warbler          G4        S3B          --   \n",
       "\n",
       "             State Status                                            Habitat  \\\n",
       "0  Rare, Not State Listed  Terrestrial cave obligate; woodrat debris in c...   \n",
       "1                       E  Medium to large streams and rivers with coarse...   \n",
       "2                       D  Mature, rich, damp, deciduous floodplain and s...   \n",
       "3                       D  Dry upland areas including brushy, cut-over wo...   \n",
       "4                       T  Early successional habitats in foothill region...   \n",
       "\n",
       "  Wet Habitat Flag  \n",
       "0           Upland  \n",
       "1          Aquatic  \n",
       "2         Possible  \n",
       "3           Upland  \n",
       "4           Upland  "
      ]
     },
     "execution_count": 7,
     "metadata": {},
     "output_type": "execute_result"
    }
   ],
   "source": [
    "spec.head()"
   ]
  },
  {
   "cell_type": "markdown",
   "id": "solid-namibia",
   "metadata": {},
   "source": [
    "##### Rename columns with no spaces, create a column that makes it easy to sum instances, \"summer\" and group by County"
   ]
  },
  {
   "cell_type": "code",
   "execution_count": 8,
   "id": "dietary-bronze",
   "metadata": {},
   "outputs": [],
   "source": [
    "spec.columns = ['County', 'Type', 'Category', 'Scientific_Name', 'Common_Name', \n",
    "               'Global_Rank', 'State_Rank', 'Fed_Status', 'State_Status', 'Habitat', 'Wet_Habitat_Flag']"
   ]
  },
  {
   "cell_type": "code",
   "execution_count": 9,
   "id": "located-bowling",
   "metadata": {},
   "outputs": [],
   "source": [
    "spec['summer'] = 1"
   ]
  },
  {
   "cell_type": "code",
   "execution_count": 10,
   "id": "differential-yemen",
   "metadata": {},
   "outputs": [],
   "source": [
    "allspec_bycounty = spec.groupby(['County']).agg({'summer': sum})"
   ]
  },
  {
   "cell_type": "markdown",
   "id": "special-dealing",
   "metadata": {},
   "source": [
    "##### Join the geometry from original counties file"
   ]
  },
  {
   "cell_type": "code",
   "execution_count": 11,
   "id": "prerequisite-soundtrack",
   "metadata": {},
   "outputs": [],
   "source": [
    "allspec_bycounty_geo = pd.merge(left = counties, right = allspec_bycounty, left_on = 'NAME', right_on = 'County')"
   ]
  },
  {
   "cell_type": "code",
   "execution_count": 12,
   "id": "eleven-canon",
   "metadata": {},
   "outputs": [
    {
     "data": {
      "image/png": "[encoded data removed]",
      "text/plain": [
       "<Figure size 1152x288 with 2 Axes>"
      ]
     },
     "metadata": {
      "needs_background": "light"
     },
     "output_type": "display_data"
    }
   ],
   "source": [
    "fig, ax = plt.subplots(figsize=(16,4))\n",
    "allspec_bycounty_geo.plot(column = 'summer',\n",
    "               cmap = 'Greens',\n",
    "               edgecolor = 'grey',\n",
    "                legend = True,\n",
    "              ax = ax)\n",
    "plt.title('Total Number of Species by County', fontsize = 16)\n",
    "ax.axis('off');"
   ]
  },
  {
   "cell_type": "markdown",
   "id": "popular-olympus",
   "metadata": {},
   "source": [
    "Unsurprisingly most of what we're seeing is in East Tennessee... but we got a couple counties down at the bottom too that are blipping pretty hard: Franklin and Coffee Counties. Interesting."
   ]
  },
  {
   "cell_type": "markdown",
   "id": "internal-biography",
   "metadata": {},
   "source": [
    "#### How many of each of the ranks are we seeing in the whole state?"
   ]
  },
  {
   "cell_type": "markdown",
   "id": "surface-bookmark",
   "metadata": {},
   "source": [
    "First, global rank:"
   ]
  },
  {
   "cell_type": "code",
   "execution_count": 20,
   "id": "specific-prospect",
   "metadata": {},
   "outputs": [
    {
     "data": {
      "text/plain": [
       "0          G5\n",
       "1          G1\n",
       "2          G4\n",
       "3        G5T5\n",
       "4          G4\n",
       "        ...  \n",
       "4422      G3Q\n",
       "4423       G5\n",
       "4424    G5T4?\n",
       "4425       G5\n",
       "4426       G1\n",
       "Name: Global_Rank, Length: 4427, dtype: object"
      ]
     },
     "execution_count": 20,
     "metadata": {},
     "output_type": "execute_result"
    }
   ],
   "source": [
    "spec.Global_Rank"
   ]
  },
  {
   "cell_type": "code",
   "execution_count": 21,
   "id": "threaded-cyprus",
   "metadata": {},
   "outputs": [],
   "source": [
    "gtype_list = spec.Global_Rank.tolist()"
   ]
  },
  {
   "cell_type": "code",
   "execution_count": 22,
   "id": "amber-composite",
   "metadata": {},
   "outputs": [
    {
     "data": {
      "text/plain": [
       "list"
      ]
     },
     "execution_count": 22,
     "metadata": {},
     "output_type": "execute_result"
    }
   ],
   "source": [
    "type(gtype_list)"
   ]
  },
  {
   "cell_type": "code",
   "execution_count": 23,
   "id": "thirty-newspaper",
   "metadata": {},
   "outputs": [
    {
     "data": {
      "text/plain": [
       "Counter({'G5': 1098,\n",
       "         'G1': 433,\n",
       "         'G4': 602,\n",
       "         'G5T5': 56,\n",
       "         'G1G2': 133,\n",
       "         'G3': 697,\n",
       "         'G3G4': 297,\n",
       "         'GNR': 71,\n",
       "         'G2G3': 253,\n",
       "         'G4T4': 34,\n",
       "         'G3G5': 17,\n",
       "         'G4?T4Q': 11,\n",
       "         'G2': 267,\n",
       "         'G3?': 22,\n",
       "         'G4G5': 138,\n",
       "         'G3G4T3': 14,\n",
       "         'G2?': 18,\n",
       "         'G2Q': 15,\n",
       "         'G3QT3Q': 17,\n",
       "         'G5T3Q': 13,\n",
       "         'G5T4?': 8,\n",
       "         'G4?': 41,\n",
       "         'G5T4Q': 5,\n",
       "         'G5?': 24,\n",
       "         'G1G2Q': 8,\n",
       "         'GNRT1': 1,\n",
       "         'G5T2': 8,\n",
       "         'G3T2T3': 4,\n",
       "         'G5T3?': 5,\n",
       "         'G2G4': 10,\n",
       "         'G3Q': 8,\n",
       "         'G1Q': 11,\n",
       "         'G4G5T4T5': 7,\n",
       "         'GH': 3,\n",
       "         'G5T4T5': 5,\n",
       "         'G3G4T2': 4,\n",
       "         'G5T3': 4,\n",
       "         'G4?Q': 7,\n",
       "         'GU': 2,\n",
       "         'G4G5T4': 3,\n",
       "         'G5?T3': 3,\n",
       "         'G4T2': 3,\n",
       "         'G2G3Q': 8,\n",
       "         'G4G5T4?': 7,\n",
       "         'G4G5T3': 4,\n",
       "         'G4T3Q': 5,\n",
       "         'G5T3T5': 1,\n",
       "         'G3G4Q': 1,\n",
       "         'G4T3?': 5,\n",
       "         'GNRT3T4': 2,\n",
       "         'GNRTNR': 1,\n",
       "         'G4G5T1T2': 1,\n",
       "         'G5TUQ': 2,\n",
       "         'G4T3': 4,\n",
       "         'G1G3': 3,\n",
       "         'G3?Q': 1,\n",
       "         'GNRT2': 1,\n",
       "         'GNA': 1})"
      ]
     },
     "execution_count": 23,
     "metadata": {},
     "output_type": "execute_result"
    }
   ],
   "source": [
    "collections.Counter(gtype_list)"
   ]
  },
  {
   "cell_type": "code",
   "execution_count": 26,
   "id": "demanding-image",
   "metadata": {},
   "outputs": [],
   "source": [
    "gtype_dict = collections.Counter(gtype_list)"
   ]
  },
  {
   "cell_type": "code",
   "execution_count": 27,
   "id": "innovative-declaration",
   "metadata": {},
   "outputs": [],
   "source": [
    "gtype_df = pd.DataFrame.from_dict(gtype_dict, orient = 'index', columns = ['count'])"
   ]
  },
  {
   "cell_type": "code",
   "execution_count": 73,
   "id": "announced-congress",
   "metadata": {},
   "outputs": [
    {
     "data": {
      "text/html": [
       "<div>\n",
       "<style scoped>\n",
       "    .dataframe tbody tr th:only-of-type {\n",
       "        vertical-align: middle;\n",
       "    }\n",
       "\n",
       "    .dataframe tbody tr th {\n",
       "        vertical-align: top;\n",
       "    }\n",
       "\n",
       "    .dataframe thead th {\n",
       "        text-align: right;\n",
       "    }\n",
       "</style>\n",
       "<table border=\"1\" class=\"dataframe\">\n",
       "  <thead>\n",
       "    <tr style=\"text-align: right;\">\n",
       "      <th></th>\n",
       "      <th>index</th>\n",
       "      <th>count</th>\n",
       "    </tr>\n",
       "  </thead>\n",
       "  <tbody>\n",
       "    <tr>\n",
       "      <th>0</th>\n",
       "      <td>GNA</td>\n",
       "      <td>1</td>\n",
       "    </tr>\n",
       "    <tr>\n",
       "      <th>1</th>\n",
       "      <td>GNRT2</td>\n",
       "      <td>1</td>\n",
       "    </tr>\n",
       "    <tr>\n",
       "      <th>2</th>\n",
       "      <td>G5T3T5</td>\n",
       "      <td>1</td>\n",
       "    </tr>\n",
       "    <tr>\n",
       "      <th>3</th>\n",
       "      <td>G3G4Q</td>\n",
       "      <td>1</td>\n",
       "    </tr>\n",
       "    <tr>\n",
       "      <th>4</th>\n",
       "      <td>GNRTNR</td>\n",
       "      <td>1</td>\n",
       "    </tr>\n",
       "    <tr>\n",
       "      <th>5</th>\n",
       "      <td>GNRT1</td>\n",
       "      <td>1</td>\n",
       "    </tr>\n",
       "    <tr>\n",
       "      <th>6</th>\n",
       "      <td>G3?Q</td>\n",
       "      <td>1</td>\n",
       "    </tr>\n",
       "    <tr>\n",
       "      <th>7</th>\n",
       "      <td>G4G5T1T2</td>\n",
       "      <td>1</td>\n",
       "    </tr>\n",
       "    <tr>\n",
       "      <th>8</th>\n",
       "      <td>G5TUQ</td>\n",
       "      <td>2</td>\n",
       "    </tr>\n",
       "    <tr>\n",
       "      <th>9</th>\n",
       "      <td>GNRT3T4</td>\n",
       "      <td>2</td>\n",
       "    </tr>\n",
       "    <tr>\n",
       "      <th>10</th>\n",
       "      <td>GU</td>\n",
       "      <td>2</td>\n",
       "    </tr>\n",
       "    <tr>\n",
       "      <th>11</th>\n",
       "      <td>GH</td>\n",
       "      <td>3</td>\n",
       "    </tr>\n",
       "    <tr>\n",
       "      <th>12</th>\n",
       "      <td>G4G5T4</td>\n",
       "      <td>3</td>\n",
       "    </tr>\n",
       "    <tr>\n",
       "      <th>13</th>\n",
       "      <td>G5?T3</td>\n",
       "      <td>3</td>\n",
       "    </tr>\n",
       "    <tr>\n",
       "      <th>14</th>\n",
       "      <td>G1G3</td>\n",
       "      <td>3</td>\n",
       "    </tr>\n",
       "    <tr>\n",
       "      <th>15</th>\n",
       "      <td>G4T2</td>\n",
       "      <td>3</td>\n",
       "    </tr>\n",
       "    <tr>\n",
       "      <th>16</th>\n",
       "      <td>G4G5T3</td>\n",
       "      <td>4</td>\n",
       "    </tr>\n",
       "    <tr>\n",
       "      <th>17</th>\n",
       "      <td>G3T2T3</td>\n",
       "      <td>4</td>\n",
       "    </tr>\n",
       "    <tr>\n",
       "      <th>18</th>\n",
       "      <td>G5T3</td>\n",
       "      <td>4</td>\n",
       "    </tr>\n",
       "    <tr>\n",
       "      <th>19</th>\n",
       "      <td>G3G4T2</td>\n",
       "      <td>4</td>\n",
       "    </tr>\n",
       "    <tr>\n",
       "      <th>20</th>\n",
       "      <td>G4T3</td>\n",
       "      <td>4</td>\n",
       "    </tr>\n",
       "    <tr>\n",
       "      <th>21</th>\n",
       "      <td>G5T4T5</td>\n",
       "      <td>5</td>\n",
       "    </tr>\n",
       "    <tr>\n",
       "      <th>22</th>\n",
       "      <td>G4T3?</td>\n",
       "      <td>5</td>\n",
       "    </tr>\n",
       "    <tr>\n",
       "      <th>23</th>\n",
       "      <td>G4T3Q</td>\n",
       "      <td>5</td>\n",
       "    </tr>\n",
       "    <tr>\n",
       "      <th>24</th>\n",
       "      <td>G5T3?</td>\n",
       "      <td>5</td>\n",
       "    </tr>\n",
       "    <tr>\n",
       "      <th>25</th>\n",
       "      <td>G5T4Q</td>\n",
       "      <td>5</td>\n",
       "    </tr>\n",
       "    <tr>\n",
       "      <th>26</th>\n",
       "      <td>G4G5T4?</td>\n",
       "      <td>7</td>\n",
       "    </tr>\n",
       "    <tr>\n",
       "      <th>27</th>\n",
       "      <td>G4G5T4T5</td>\n",
       "      <td>7</td>\n",
       "    </tr>\n",
       "    <tr>\n",
       "      <th>28</th>\n",
       "      <td>G4?Q</td>\n",
       "      <td>7</td>\n",
       "    </tr>\n",
       "    <tr>\n",
       "      <th>29</th>\n",
       "      <td>G5T2</td>\n",
       "      <td>8</td>\n",
       "    </tr>\n",
       "    <tr>\n",
       "      <th>30</th>\n",
       "      <td>G1G2Q</td>\n",
       "      <td>8</td>\n",
       "    </tr>\n",
       "    <tr>\n",
       "      <th>31</th>\n",
       "      <td>G3Q</td>\n",
       "      <td>8</td>\n",
       "    </tr>\n",
       "    <tr>\n",
       "      <th>32</th>\n",
       "      <td>G5T4?</td>\n",
       "      <td>8</td>\n",
       "    </tr>\n",
       "    <tr>\n",
       "      <th>33</th>\n",
       "      <td>G2G3Q</td>\n",
       "      <td>8</td>\n",
       "    </tr>\n",
       "    <tr>\n",
       "      <th>34</th>\n",
       "      <td>G2G4</td>\n",
       "      <td>10</td>\n",
       "    </tr>\n",
       "    <tr>\n",
       "      <th>35</th>\n",
       "      <td>G1Q</td>\n",
       "      <td>11</td>\n",
       "    </tr>\n",
       "    <tr>\n",
       "      <th>36</th>\n",
       "      <td>G4?T4Q</td>\n",
       "      <td>11</td>\n",
       "    </tr>\n",
       "    <tr>\n",
       "      <th>37</th>\n",
       "      <td>G5T3Q</td>\n",
       "      <td>13</td>\n",
       "    </tr>\n",
       "    <tr>\n",
       "      <th>38</th>\n",
       "      <td>G3G4T3</td>\n",
       "      <td>14</td>\n",
       "    </tr>\n",
       "    <tr>\n",
       "      <th>39</th>\n",
       "      <td>G2Q</td>\n",
       "      <td>15</td>\n",
       "    </tr>\n",
       "    <tr>\n",
       "      <th>40</th>\n",
       "      <td>G3QT3Q</td>\n",
       "      <td>17</td>\n",
       "    </tr>\n",
       "    <tr>\n",
       "      <th>41</th>\n",
       "      <td>G3G5</td>\n",
       "      <td>17</td>\n",
       "    </tr>\n",
       "    <tr>\n",
       "      <th>42</th>\n",
       "      <td>G2?</td>\n",
       "      <td>18</td>\n",
       "    </tr>\n",
       "    <tr>\n",
       "      <th>43</th>\n",
       "      <td>G3?</td>\n",
       "      <td>22</td>\n",
       "    </tr>\n",
       "    <tr>\n",
       "      <th>44</th>\n",
       "      <td>G5?</td>\n",
       "      <td>24</td>\n",
       "    </tr>\n",
       "    <tr>\n",
       "      <th>45</th>\n",
       "      <td>G4T4</td>\n",
       "      <td>34</td>\n",
       "    </tr>\n",
       "    <tr>\n",
       "      <th>46</th>\n",
       "      <td>G4?</td>\n",
       "      <td>41</td>\n",
       "    </tr>\n",
       "    <tr>\n",
       "      <th>47</th>\n",
       "      <td>G5T5</td>\n",
       "      <td>56</td>\n",
       "    </tr>\n",
       "    <tr>\n",
       "      <th>48</th>\n",
       "      <td>GNR</td>\n",
       "      <td>71</td>\n",
       "    </tr>\n",
       "    <tr>\n",
       "      <th>49</th>\n",
       "      <td>G1G2</td>\n",
       "      <td>133</td>\n",
       "    </tr>\n",
       "    <tr>\n",
       "      <th>50</th>\n",
       "      <td>G4G5</td>\n",
       "      <td>138</td>\n",
       "    </tr>\n",
       "    <tr>\n",
       "      <th>51</th>\n",
       "      <td>G2G3</td>\n",
       "      <td>253</td>\n",
       "    </tr>\n",
       "    <tr>\n",
       "      <th>52</th>\n",
       "      <td>G2</td>\n",
       "      <td>267</td>\n",
       "    </tr>\n",
       "    <tr>\n",
       "      <th>53</th>\n",
       "      <td>G3G4</td>\n",
       "      <td>297</td>\n",
       "    </tr>\n",
       "    <tr>\n",
       "      <th>54</th>\n",
       "      <td>G1</td>\n",
       "      <td>433</td>\n",
       "    </tr>\n",
       "    <tr>\n",
       "      <th>55</th>\n",
       "      <td>G4</td>\n",
       "      <td>602</td>\n",
       "    </tr>\n",
       "    <tr>\n",
       "      <th>56</th>\n",
       "      <td>G3</td>\n",
       "      <td>697</td>\n",
       "    </tr>\n",
       "    <tr>\n",
       "      <th>57</th>\n",
       "      <td>G5</td>\n",
       "      <td>1098</td>\n",
       "    </tr>\n",
       "  </tbody>\n",
       "</table>\n",
       "</div>"
      ],
      "text/plain": [
       "       index  count\n",
       "0        GNA      1\n",
       "1      GNRT2      1\n",
       "2     G5T3T5      1\n",
       "3      G3G4Q      1\n",
       "4     GNRTNR      1\n",
       "5      GNRT1      1\n",
       "6       G3?Q      1\n",
       "7   G4G5T1T2      1\n",
       "8      G5TUQ      2\n",
       "9    GNRT3T4      2\n",
       "10        GU      2\n",
       "11        GH      3\n",
       "12    G4G5T4      3\n",
       "13     G5?T3      3\n",
       "14      G1G3      3\n",
       "15      G4T2      3\n",
       "16    G4G5T3      4\n",
       "17    G3T2T3      4\n",
       "18      G5T3      4\n",
       "19    G3G4T2      4\n",
       "20      G4T3      4\n",
       "21    G5T4T5      5\n",
       "22     G4T3?      5\n",
       "23     G4T3Q      5\n",
       "24     G5T3?      5\n",
       "25     G5T4Q      5\n",
       "26   G4G5T4?      7\n",
       "27  G4G5T4T5      7\n",
       "28      G4?Q      7\n",
       "29      G5T2      8\n",
       "30     G1G2Q      8\n",
       "31       G3Q      8\n",
       "32     G5T4?      8\n",
       "33     G2G3Q      8\n",
       "34      G2G4     10\n",
       "35       G1Q     11\n",
       "36    G4?T4Q     11\n",
       "37     G5T3Q     13\n",
       "38    G3G4T3     14\n",
       "39       G2Q     15\n",
       "40    G3QT3Q     17\n",
       "41      G3G5     17\n",
       "42       G2?     18\n",
       "43       G3?     22\n",
       "44       G5?     24\n",
       "45      G4T4     34\n",
       "46       G4?     41\n",
       "47      G5T5     56\n",
       "48       GNR     71\n",
       "49      G1G2    133\n",
       "50      G4G5    138\n",
       "51      G2G3    253\n",
       "52        G2    267\n",
       "53      G3G4    297\n",
       "54        G1    433\n",
       "55        G4    602\n",
       "56        G3    697\n",
       "57        G5   1098"
      ]
     },
     "execution_count": 73,
     "metadata": {},
     "output_type": "execute_result"
    }
   ],
   "source": [
    "gtype_df.sort_values(['count']).reset_index(inplace = False)"
   ]
  },
  {
   "cell_type": "code",
   "execution_count": 74,
   "id": "religious-binding",
   "metadata": {},
   "outputs": [
    {
     "data": {
      "text/plain": [
       "<AxesSubplot:title={'center':'Global Species Status and Ranks in Tennessee'}, xlabel='Species Status and Rank', ylabel='Reports'>"
      ]
     },
     "execution_count": 74,
     "metadata": {},
     "output_type": "execute_result"
    },
    {
     "data": {
      "image/png": "[encoded data removed]",
      "text/plain": [
       "<Figure size 1080x720 with 1 Axes>"
      ]
     },
     "metadata": {
      "needs_background": "light"
     },
     "output_type": "display_data"
    }
   ],
   "source": [
    "gtype_df.sort_values(['count']).plot(kind = 'bar', \n",
    "                                          figsize = (15, 10), \n",
    "                                          title = 'Global Species Status and Ranks in Tennessee', \n",
    "                                          color = 'green',\n",
    "                                          xlabel = 'Species Status and Rank', \n",
    "                                          ylabel = 'Reports', \n",
    "                                          legend = False)\n",
    "\n",
    "plt.plot(gtype_df)"
   ]
  },
  {
   "cell_type": "code",
   "execution_count": 83,
   "id": "dominant-nickname",
   "metadata": {},
   "outputs": [
    {
     "data": {
      "text/plain": [
       "<BarContainer object of 58 artists>"
      ]
     },
     "execution_count": 83,
     "metadata": {},
     "output_type": "execute_result"
    },
    {
     "data": {
      "image/png": "[encoded data removed]",
      "text/plain": [
       "<Figure size 432x288 with 1 Axes>"
      ]
     },
     "metadata": {
      "needs_background": "light"
     },
     "output_type": "display_data"
    }
   ],
   "source": [
    "plt.bar(x = 'index', height = 'count', data = gtype_df)"
   ]
  },
  {
   "cell_type": "markdown",
   "id": "refined-campus",
   "metadata": {},
   "source": [
    "Next, State rank:"
   ]
  },
  {
   "cell_type": "code",
   "execution_count": 51,
   "id": "turned-marathon",
   "metadata": {},
   "outputs": [],
   "source": [
    "stype_list = spec.State_Rank.tolist()"
   ]
  },
  {
   "cell_type": "code",
   "execution_count": 52,
   "id": "spatial-publicity",
   "metadata": {},
   "outputs": [],
   "source": [
    "stype_dict = collections.Counter(stype_list)"
   ]
  },
  {
   "cell_type": "code",
   "execution_count": 56,
   "id": "fallen-reservation",
   "metadata": {},
   "outputs": [],
   "source": [
    "stype_df = pd.DataFrame.from_dict(stype_dict, orient = 'index', columns = ['count'])"
   ]
  },
  {
   "cell_type": "code",
   "execution_count": 71,
   "id": "apparent-surface",
   "metadata": {},
   "outputs": [
    {
     "data": {
      "text/html": [
       "<div>\n",
       "<style scoped>\n",
       "    .dataframe tbody tr th:only-of-type {\n",
       "        vertical-align: middle;\n",
       "    }\n",
       "\n",
       "    .dataframe tbody tr th {\n",
       "        vertical-align: top;\n",
       "    }\n",
       "\n",
       "    .dataframe thead th {\n",
       "        text-align: right;\n",
       "    }\n",
       "</style>\n",
       "<table border=\"1\" class=\"dataframe\">\n",
       "  <thead>\n",
       "    <tr style=\"text-align: right;\">\n",
       "      <th></th>\n",
       "      <th>index</th>\n",
       "      <th>count</th>\n",
       "    </tr>\n",
       "  </thead>\n",
       "  <tbody>\n",
       "    <tr>\n",
       "      <th>0</th>\n",
       "      <td>S1S3</td>\n",
       "      <td>1</td>\n",
       "    </tr>\n",
       "    <tr>\n",
       "      <th>1</th>\n",
       "      <td>SX</td>\n",
       "      <td>1</td>\n",
       "    </tr>\n",
       "    <tr>\n",
       "      <th>2</th>\n",
       "      <td>SU</td>\n",
       "      <td>1</td>\n",
       "    </tr>\n",
       "    <tr>\n",
       "      <th>3</th>\n",
       "      <td>S1B,S4N</td>\n",
       "      <td>3</td>\n",
       "    </tr>\n",
       "    <tr>\n",
       "      <th>4</th>\n",
       "      <td>S2S4</td>\n",
       "      <td>3</td>\n",
       "    </tr>\n",
       "    <tr>\n",
       "      <th>5</th>\n",
       "      <td>S1B,S2N</td>\n",
       "      <td>4</td>\n",
       "    </tr>\n",
       "    <tr>\n",
       "      <th>6</th>\n",
       "      <td>S3?</td>\n",
       "      <td>5</td>\n",
       "    </tr>\n",
       "    <tr>\n",
       "      <th>7</th>\n",
       "      <td>S2S3B</td>\n",
       "      <td>5</td>\n",
       "    </tr>\n",
       "    <tr>\n",
       "      <th>8</th>\n",
       "      <td>S2B,S3N</td>\n",
       "      <td>5</td>\n",
       "    </tr>\n",
       "    <tr>\n",
       "      <th>9</th>\n",
       "      <td>S1?</td>\n",
       "      <td>15</td>\n",
       "    </tr>\n",
       "    <tr>\n",
       "      <th>10</th>\n",
       "      <td>S2B</td>\n",
       "      <td>15</td>\n",
       "    </tr>\n",
       "    <tr>\n",
       "      <th>11</th>\n",
       "      <td>SH</td>\n",
       "      <td>18</td>\n",
       "    </tr>\n",
       "    <tr>\n",
       "      <th>12</th>\n",
       "      <td>S1B</td>\n",
       "      <td>19</td>\n",
       "    </tr>\n",
       "    <tr>\n",
       "      <th>13</th>\n",
       "      <td>S2?</td>\n",
       "      <td>27</td>\n",
       "    </tr>\n",
       "    <tr>\n",
       "      <th>14</th>\n",
       "      <td>S4</td>\n",
       "      <td>37</td>\n",
       "    </tr>\n",
       "    <tr>\n",
       "      <th>15</th>\n",
       "      <td>S3B</td>\n",
       "      <td>37</td>\n",
       "    </tr>\n",
       "    <tr>\n",
       "      <th>16</th>\n",
       "      <td>SNR</td>\n",
       "      <td>73</td>\n",
       "    </tr>\n",
       "    <tr>\n",
       "      <th>17</th>\n",
       "      <td>S3S4</td>\n",
       "      <td>85</td>\n",
       "    </tr>\n",
       "    <tr>\n",
       "      <th>18</th>\n",
       "      <td>S1S2</td>\n",
       "      <td>337</td>\n",
       "    </tr>\n",
       "    <tr>\n",
       "      <th>19</th>\n",
       "      <td>S2S3</td>\n",
       "      <td>350</td>\n",
       "    </tr>\n",
       "    <tr>\n",
       "      <th>20</th>\n",
       "      <td>S3</td>\n",
       "      <td>777</td>\n",
       "    </tr>\n",
       "    <tr>\n",
       "      <th>21</th>\n",
       "      <td>S2</td>\n",
       "      <td>1208</td>\n",
       "    </tr>\n",
       "    <tr>\n",
       "      <th>22</th>\n",
       "      <td>S1</td>\n",
       "      <td>1401</td>\n",
       "    </tr>\n",
       "  </tbody>\n",
       "</table>\n",
       "</div>"
      ],
      "text/plain": [
       "      index  count\n",
       "0      S1S3      1\n",
       "1        SX      1\n",
       "2        SU      1\n",
       "3   S1B,S4N      3\n",
       "4      S2S4      3\n",
       "5   S1B,S2N      4\n",
       "6       S3?      5\n",
       "7     S2S3B      5\n",
       "8   S2B,S3N      5\n",
       "9       S1?     15\n",
       "10      S2B     15\n",
       "11       SH     18\n",
       "12      S1B     19\n",
       "13      S2?     27\n",
       "14       S4     37\n",
       "15      S3B     37\n",
       "16      SNR     73\n",
       "17     S3S4     85\n",
       "18     S1S2    337\n",
       "19     S2S3    350\n",
       "20       S3    777\n",
       "21       S2   1208\n",
       "22       S1   1401"
      ]
     },
     "execution_count": 71,
     "metadata": {},
     "output_type": "execute_result"
    }
   ],
   "source": [
    "stype_df.sort_values(['count']).reset_index(inplace = False)"
   ]
  },
  {
   "cell_type": "code",
   "execution_count": 72,
   "id": "dimensional-outline",
   "metadata": {},
   "outputs": [
    {
     "data": {
      "text/plain": [
       "<AxesSubplot:title={'center':'State Species Status and Ranks in Tennessee'}, xlabel='Species Status and Rank', ylabel='Reports'>"
      ]
     },
     "execution_count": 72,
     "metadata": {},
     "output_type": "execute_result"
    },
    {
     "data": {
      "image/png": "[encoded data removed]",
      "text/plain": [
       "<Figure size 1080x720 with 1 Axes>"
      ]
     },
     "metadata": {
      "needs_background": "light"
     },
     "output_type": "display_data"
    }
   ],
   "source": [
    "stype_df.sort_values(['count']).plot(kind = 'bar', \n",
    "                                          figsize = (15, 10), \n",
    "                                          title = 'State Species Status and Ranks in Tennessee', \n",
    "                                          color = 'green',\n",
    "                                          xlabel = 'Species Status and Rank', \n",
    "                                          ylabel = 'Reports', \n",
    "                                          legend = False)"
   ]
  },
  {
   "cell_type": "markdown",
   "id": "healthy-harris",
   "metadata": {},
   "source": [
    "Same process but with Federal Status:"
   ]
  },
  {
   "cell_type": "code",
   "execution_count": 60,
   "id": "complete-fifty",
   "metadata": {},
   "outputs": [],
   "source": [
    "fstat_list = spec.Fed_Status.tolist()"
   ]
  },
  {
   "cell_type": "code",
   "execution_count": 61,
   "id": "collective-malpractice",
   "metadata": {},
   "outputs": [],
   "source": [
    "fstat_dict = collections.Counter(fstat_list)"
   ]
  },
  {
   "cell_type": "code",
   "execution_count": 62,
   "id": "functioning-swimming",
   "metadata": {},
   "outputs": [],
   "source": [
    "fstat_df = pd.DataFrame.from_dict(fstat_dict, orient = 'index', columns = ['count'])"
   ]
  },
  {
   "cell_type": "code",
   "execution_count": 69,
   "id": "integral-mobility",
   "metadata": {},
   "outputs": [
    {
     "data": {
      "text/html": [
       "<div>\n",
       "<style scoped>\n",
       "    .dataframe tbody tr th:only-of-type {\n",
       "        vertical-align: middle;\n",
       "    }\n",
       "\n",
       "    .dataframe tbody tr th {\n",
       "        vertical-align: top;\n",
       "    }\n",
       "\n",
       "    .dataframe thead th {\n",
       "        text-align: right;\n",
       "    }\n",
       "</style>\n",
       "<table border=\"1\" class=\"dataframe\">\n",
       "  <thead>\n",
       "    <tr style=\"text-align: right;\">\n",
       "      <th></th>\n",
       "      <th>index</th>\n",
       "      <th>count</th>\n",
       "    </tr>\n",
       "  </thead>\n",
       "  <tbody>\n",
       "    <tr>\n",
       "      <th>0</th>\n",
       "      <td>SC</td>\n",
       "      <td>1</td>\n",
       "    </tr>\n",
       "    <tr>\n",
       "      <th>1</th>\n",
       "      <td>SAT</td>\n",
       "      <td>2</td>\n",
       "    </tr>\n",
       "    <tr>\n",
       "      <th>2</th>\n",
       "      <td>C</td>\n",
       "      <td>4</td>\n",
       "    </tr>\n",
       "    <tr>\n",
       "      <th>3</th>\n",
       "      <td>LT, XN</td>\n",
       "      <td>6</td>\n",
       "    </tr>\n",
       "    <tr>\n",
       "      <th>4</th>\n",
       "      <td>LT,XN</td>\n",
       "      <td>20</td>\n",
       "    </tr>\n",
       "    <tr>\n",
       "      <th>5</th>\n",
       "      <td>LE,XN</td>\n",
       "      <td>20</td>\n",
       "    </tr>\n",
       "    <tr>\n",
       "      <th>6</th>\n",
       "      <td>DM</td>\n",
       "      <td>21</td>\n",
       "    </tr>\n",
       "    <tr>\n",
       "      <th>7</th>\n",
       "      <td>No Status</td>\n",
       "      <td>48</td>\n",
       "    </tr>\n",
       "    <tr>\n",
       "      <th>8</th>\n",
       "      <td>LT</td>\n",
       "      <td>113</td>\n",
       "    </tr>\n",
       "    <tr>\n",
       "      <th>9</th>\n",
       "      <td>LE, XN</td>\n",
       "      <td>170</td>\n",
       "    </tr>\n",
       "    <tr>\n",
       "      <th>10</th>\n",
       "      <td>LE</td>\n",
       "      <td>339</td>\n",
       "    </tr>\n",
       "    <tr>\n",
       "      <th>11</th>\n",
       "      <td>--</td>\n",
       "      <td>3683</td>\n",
       "    </tr>\n",
       "  </tbody>\n",
       "</table>\n",
       "</div>"
      ],
      "text/plain": [
       "        index  count\n",
       "0          SC      1\n",
       "1         SAT      2\n",
       "2           C      4\n",
       "3      LT, XN      6\n",
       "4       LT,XN     20\n",
       "5       LE,XN     20\n",
       "6          DM     21\n",
       "7   No Status     48\n",
       "8          LT    113\n",
       "9      LE, XN    170\n",
       "10         LE    339\n",
       "11         --   3683"
      ]
     },
     "execution_count": 69,
     "metadata": {},
     "output_type": "execute_result"
    }
   ],
   "source": [
    "fstat_df.sort_values(['count']).reset_index(inplace = False)"
   ]
  },
  {
   "cell_type": "code",
   "execution_count": 65,
   "id": "universal-thread",
   "metadata": {},
   "outputs": [
    {
     "data": {
      "text/plain": [
       "<AxesSubplot:title={'center':'Federal Status of Species in Tennessee'}, xlabel='Species Status', ylabel='Reports'>"
      ]
     },
     "execution_count": 65,
     "metadata": {},
     "output_type": "execute_result"
    },
    {
     "data": {
      "image/png": "[encoded data removed]",
      "text/plain": [
       "<Figure size 1080x720 with 1 Axes>"
      ]
     },
     "metadata": {
      "needs_background": "light"
     },
     "output_type": "display_data"
    }
   ],
   "source": [
    "fstat_df.sort_values(['count']).plot(kind = 'bar', \n",
    "                                          figsize = (15, 10), \n",
    "                                          title = 'Federal Status of Species in Tennessee', \n",
    "                                          color = 'green',\n",
    "                                          xlabel = 'Species Status', \n",
    "                                          ylabel = 'Reports', \n",
    "                                          legend = False)"
   ]
  },
  {
   "cell_type": "code",
   "execution_count": null,
   "id": "equal-league",
   "metadata": {},
   "outputs": [],
   "source": []
  }
 ],
 "metadata": {
  "kernelspec": {
   "display_name": "Python 3",
   "language": "python",
   "name": "python3"
  },
  "language_info": {
   "codemirror_mode": {
    "name": "ipython",
    "version": 3
   },
   "file_extension": ".py",
   "mimetype": "text/x-python",
   "name": "python",
   "nbconvert_exporter": "python",
   "pygments_lexer": "ipython3",
   "version": "3.8.5"
  }
 },
 "nbformat": 4,
 "nbformat_minor": 5
}
